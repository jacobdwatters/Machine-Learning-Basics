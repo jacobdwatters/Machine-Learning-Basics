{
  "cells": [
    {
      "cell_type": "markdown",
      "id": "ccf1c128",
      "metadata": {
        "id": "ccf1c128"
      },
      "source": [
        "---\n",
        "\n",
        "# Linear Regression With NumPy\n",
        "\n",
        "---\n",
        "\n",
        "-- For more information on this code, watch the video lecture(s) --\n",
        "\n",
        "In this notebook we will explore implimenting a linear regression model using only NumPy.\n",
        "We will explore three linear regression models: A single variable line, a multivariable hyperplane, and a polynomial.\n",
        "\n",
        "##### Main Sections:\n",
        "1. Defining the linear regression model\n",
        "2. linear regression with single variable\n",
        "3. linear regression with multiple variables\n",
        "4. polynomial regression\n",
        "5. Other Regression Models\n",
        "6. Conclusion"
      ]
    },
    {
      "cell_type": "markdown",
      "id": "18355b64",
      "metadata": {
        "id": "18355b64"
      },
      "source": [
        "#### Imports and Setup"
      ]
    },
    {
      "cell_type": "code",
      "execution_count": 22,
      "id": "608d3fad",
      "metadata": {
        "id": "608d3fad"
      },
      "outputs": [],
      "source": [
        "import numpy as np\n",
        "import scipy as sp\n",
        "from scipy import stats\n",
        "import matplotlib.pyplot as plt\n",
        "\n",
        "%matplotlib inline"
      ]
    },
    {
      "cell_type": "markdown",
      "id": "83196f0f",
      "metadata": {
        "id": "83196f0f"
      },
      "source": [
        "<a id='section_1'></a>\n",
        "\n",
        "---\n",
        "\n",
        "## 1. Define the Linear Regression Class\n",
        "\n",
        "---\n",
        "\n",
        "We will use this same model for single variable, multi-variable, and polynomial regression."
      ]
    },
    {
      "cell_type": "code",
      "execution_count": 23,
      "id": "21e1e00d",
      "metadata": {
        "id": "21e1e00d"
      },
      "outputs": [],
      "source": [
        "class LinearRegression:\n",
        "    \"\"\"\n",
        "    This class is a linear regression model\n",
        "      \n",
        "    Attributes:\n",
        "        poly (boolean): Indicates if the regression model is a polynimial model or not. This\n",
        "            is used for generating a formated string representation of the model.\n",
        "        w (int): The weights/parameters/coefficient of the regression model.\n",
        "    \"\"\"\n",
        "    \n",
        "    def __init__(self, poly=False):\n",
        "        self.poly = poly\n",
        "\n",
        "    \n",
        "    def fit(self, X, y):\n",
        "        # Place a column of ones on the left of the features matrix X\n",
        "        V = np.column_stack((np.ones(len(X)), X))\n",
        "        \n",
        "        # Form the system of equations.\n",
        "        A = V.T@V\n",
        "        b = V.T@y\n",
        "        \n",
        "        # Solve the system of linear equations.\n",
        "        self.w = np.linalg.solve(A, b)\n",
        "        \n",
        "    \n",
        "    def predict(self, X):\n",
        "        # Place a column of ones on the left of the features matrix X\n",
        "        V = np.column_stack((np.ones(len(X)), X))\n",
        "        return (V@self.w)\n",
        "    \n",
        "    \n",
        "    def __str__(self):\n",
        "        \"\"\"Returnes a string representation of the model.\"\"\"\n",
        "        \n",
        "        model_str = 'y = '\n",
        "        flat_w = self.w.flatten()\n",
        "        \n",
        "        for i in range(len(flat_w)):\n",
        "            if i==0:\n",
        "                model_str += str(flat_w[i])\n",
        "            else:\n",
        "                model_str += ' + ' + str(flat_w[i]) + '*x'\n",
        "                if self.poly:\n",
        "                    model_str += '^' + str(i)\n",
        "                else:\n",
        "                    model_str += '_' + str(i) \n",
        "        \n",
        "        return model_str"
      ]
    },
    {
      "cell_type": "markdown",
      "id": "a6b18919",
      "metadata": {
        "id": "a6b18919"
      },
      "source": [
        "---\n",
        "\n",
        "## 2. One Dimensional Regression\n",
        "\n",
        "---\n",
        "\n",
        "First We will look at fiting a 1D line to some data with a single feature.\n",
        "\n",
        "###### Minimizing the sum of square errors (SSE):\n",
        "\n",
        "We aim to find the $w_0$ and  $w_1$ values for the line $\\hat{y} = w_0 + w_1x$ so that the sum of all square differences between the actual $y$ value and the predicted $\\hat{y}$ value of the line are minimized. To do this we find the derivatives and set to zero.\n",
        "\n",
        "\\begin{equation}\n",
        "    \\begin{split}\n",
        "        SSE(w_0, w_1) & = \\sum_{i=1}^{n}(y_i-\\hat{y_i})^2 \\\\\n",
        "        & = \\sum_{i=1}^{n}(y_i-(w_0 + w_1x_i))^2\n",
        "    \\end{split}\n",
        "\\end{equation}\n",
        "\n",
        "\n",
        "\\begin{equation}\n",
        "    \\begin{split}\n",
        "         \\frac{\\partial \\; SSE(w_0, w_1)}{\\partial \\; w_0} & = \n",
        "         \\frac{\\partial}{\\partial \\; w_0} \\left[ \\sum_{i=1}^{n}(y_i-(w_0 + w_1x_i))^2 \\right] \\\\\n",
        "         &= 2 \\cdot \\sum_{i=1}^{n}(y_i-(w_0 + w_1x_i))  \\\\\n",
        "    \\end{split}\n",
        "\\end{equation}\n",
        "\n",
        "\\begin{equation}\n",
        "    \\begin{split}\n",
        "         \\frac{\\partial \\; SSE(w_0, w_1)}{\\partial \\; w_1} & = \n",
        "         \\frac{\\partial}{\\partial \\; w_1} \\left[ \\sum_{i=1}^{n}(y_i-(w_0 + w_1x_i))^2 \\right] \\\\\n",
        "         &= 2 \\cdot \\sum_{i=1}^{n}(y_i-(w_0 + w_1x_i))\\cdot x_i  \\\\\n",
        "    \\end{split}\n",
        "\\end{equation}\n",
        "\n",
        "Now we set equations the above equation to zero and solve the system for $w_0$ and $w_1$.\n",
        "\n",
        "We can rewrite this sytem in terms of matrices to simplify the expressions and computations.\n",
        "\n",
        "\\begin{equation}\n",
        "    \\text{Let } \\boldsymbol{X} = \n",
        "    \\begin{bmatrix}\n",
        "        1 & x_{1} \\\\\n",
        "        1 & x_{2} \\\\\n",
        "        \\vdots & \\vdots\\\\\n",
        "        1 & x_{m}\n",
        "    \\end{bmatrix}, \\ \\\n",
        "    \\boldsymbol{y} = \n",
        "    \\begin{bmatrix}\n",
        "        y_1 \\\\\n",
        "        y_2 \\\\\n",
        "        \\vdots \\\\\n",
        "        y_m\n",
        "    \\end{bmatrix}\\text{, and }\n",
        "    \\boldsymbol{w} = \n",
        "    \\begin{bmatrix}\n",
        "        w_0 \\\\\n",
        "        w_1 \\\\\n",
        "    \\end{bmatrix}.\n",
        "\\end{equation}\n",
        "\n",
        "Then the normal equations are then represented by $X^TX\\boldsymbol{w} = X^Ty$.\n",
        "This linear system can now be solved for $\\boldsymbol{w}$ by any method of choice."
      ]
    },
    {
      "cell_type": "markdown",
      "id": "76c0be53",
      "metadata": {
        "id": "76c0be53"
      },
      "source": [
        "#### Generate the Dataset\n",
        "\n",
        "In practice, we would use a real dataset. However, for now we will make up our own simple data to prove the model works."
      ]
    },
    {
      "cell_type": "code",
      "execution_count": 24,
      "id": "a18bf97d",
      "metadata": {
        "id": "a18bf97d",
        "outputId": "b6b76d3c-e443-4fc5-dfa2-e163579b094d",
        "colab": {
          "base_uri": "https://localhost:8080/",
          "height": 295
        }
      },
      "outputs": [
        {
          "output_type": "display_data",
          "data": {
            "text/plain": [
              "<Figure size 432x288 with 1 Axes>"
            ],
            "image/png": "[encoded data removed]"
          },
          "metadata": {
            "needs_background": "light"
          }
        }
      ],
      "source": [
        "# Example line with some randomness.\n",
        "def line(x):\n",
        "    return 3*x + 2 + np.random.normal(0, 2, x.shape)\n",
        "\n",
        "np.random.seed(42)\n",
        "\n",
        "# Generate the training dataset.\n",
        "X_train1 = np.random.uniform(-1, 5, 15)\n",
        "y_train1 = line(X_train1)\n",
        "\n",
        "# Generate the testing dataset.\n",
        "X_test1 = np.random.uniform(-1, 5, 8)\n",
        "y_test1 = line(X_test1)\n",
        "\n",
        "# Plot the data.\n",
        "plt.scatter(X_train1, y_train1, c='b', label='training data')\n",
        "plt.scatter(X_test1, y_test1, c='r', label='testing data')\n",
        "plt.title('Dataset')\n",
        "plt.xlabel('x')\n",
        "plt.ylabel('y')\n",
        "plt.legend()\n",
        "plt.show()"
      ]
    },
    {
      "cell_type": "markdown",
      "id": "188b2d74",
      "metadata": {
        "id": "188b2d74"
      },
      "source": [
        "#### Fit a Linear Regression Model to the Training Data\n",
        "\n",
        "We will now fit/train the model we defined on our made up data."
      ]
    },
    {
      "cell_type": "code",
      "execution_count": 25,
      "id": "b4264590",
      "metadata": {
        "id": "b4264590",
        "outputId": "c8cd651d-206c-4d98-a82a-bbc67894d561",
        "colab": {
          "base_uri": "https://localhost:8080/"
        }
      },
      "outputs": [
        {
          "output_type": "stream",
          "name": "stdout",
          "text": [
            "Regression Model:\n",
            " y = 1.3386212887349471 + 3.0085416460432155*x_1 \n",
            "\n",
            "Model Parameters:\n",
            " [1.33862129 3.00854165]\n"
          ]
        }
      ],
      "source": [
        "# Create and fit model.\n",
        "linreg = LinearRegression()\n",
        "linreg.fit(X_train1, y_train1)\n",
        "\n",
        "print('Regression Model:\\n', linreg, \"\\n\")\n",
        "print('Model Parameters:\\n', linreg.w)"
      ]
    },
    {
      "cell_type": "markdown",
      "id": "70a9f8a5",
      "metadata": {
        "id": "70a9f8a5"
      },
      "source": [
        "#### Use the Fit Model to Make a Prediction on the Testing Data\n",
        "\n",
        "Now that our model is trained, let's see it in action!"
      ]
    },
    {
      "cell_type": "code",
      "execution_count": 26,
      "id": "4d599ce5",
      "metadata": {
        "scrolled": true,
        "id": "4d599ce5",
        "outputId": "4d28397e-97d7-4df7-ece6-607b5c6f4651",
        "colab": {
          "base_uri": "https://localhost:8080/"
        }
      },
      "outputs": [
        {
          "output_type": "stream",
          "name": "stdout",
          "text": [
            "Actual Targets:  [ 1.04 -1.87 15.76 15.31 13.54  4.02  1.54  8.79]\n",
            "Predictions: [ 1.41 -0.5  15.46 15.76 12.92  3.83  0.09 10.68]\n"
          ]
        }
      ],
      "source": [
        "# Make a prediction with our model.\n",
        "y_pred1 = linreg.predict(X_test1)\n",
        "\n",
        "print('Actual Targets: ', np.round(y_test1, 2))\n",
        "print('Predictions:', np.round(y_pred1, 2))"
      ]
    },
    {
      "cell_type": "markdown",
      "id": "31b72c28",
      "metadata": {
        "id": "31b72c28"
      },
      "source": [
        "#### Model visualization\n",
        "\n",
        "Now that we have fit our model, lets see what it looks like!"
      ]
    },
    {
      "cell_type": "code",
      "execution_count": 27,
      "id": "53aa35c6",
      "metadata": {
        "id": "53aa35c6",
        "outputId": "dcbc0141-1e8c-49eb-cff5-10386be32155",
        "colab": {
          "base_uri": "https://localhost:8080/",
          "height": 295
        }
      },
      "outputs": [
        {
          "output_type": "display_data",
          "data": {
            "text/plain": [
              "<Figure size 432x288 with 1 Axes>"
            ],
            "image/png": "[encoded data removed]"
          },
          "metadata": {
            "needs_background": "light"
          }
        }
      ],
      "source": [
        "D = np.linspace(np.min(X_train1), np.max(X_train1), 2)\n",
        "R = linreg.predict(D)\n",
        "\n",
        "# Plot the model and data.\n",
        "plt.plot(D, R, label='regresion line', c='orange')\n",
        "plt.scatter(X_train1, y_train1, c='b', label='training data')\n",
        "plt.scatter(X_test1, y_test1, c='r', label='testing data')\n",
        "plt.xlabel('x')\n",
        "plt.ylabel('y')\n",
        "plt.title('Regression Model')\n",
        "plt.legend()\n",
        "plt.show()"
      ]
    },
    {
      "cell_type": "markdown",
      "id": "47accf46",
      "metadata": {
        "id": "47accf46"
      },
      "source": [
        "#### Metrics\n",
        "It is important to measure the performance of our model. There are many regression metrics one can use, but we will just look at some of the most popular ones. We want to use the testing data to measure the performance of the model. Here $y$ represents `y_test1` and $\\hat{y}$ represents `y_pred1` which is the models predictions on `X_test1`.\n",
        "\n",
        "\n",
        "1. Mean Absolute Error (MAE): The MAE tells us the distance, on average, each point is from the line vertically. The closer MAE is to zero the better the model fits the data.\n",
        "$$ MAE = \\frac{1}{n}\\sum\\left| y_i-\\hat{y_i}  \\right| $$\n",
        "\n",
        "2. Mean Squared Error (MSE): The MSE tells us what the mean squared distance that each point is from the line. Squaring the error makes MSE much more sensative to outliers than MAE. The closer MSE is to zero the better the model fits the data.\n",
        "$$ MSE = \\frac{1}{n}\\sum\\left( y_i-\\hat{y_i}  \\right)^2 $$\n",
        "\n",
        "3. Root Mean Squared Error (RMSE): RMSE is the square root of MSE and is also sensitive to outliers. RMSD is an aggragate of magnitued of the distance of each point from the line vertically. The closer RMSE is to zero the better the model fits the data.\n",
        "$$ RMSE = \\sqrt{\\frac{1}{n}\\sum\\left( y_i-\\hat{y_i}  \\right)^2} = \\sqrt{MSE}$$\n",
        "\n",
        "4. Coefficent of Determination ($r^2$ value): Proportion of the variation in the data that is explained by the model and is a measure of 'goodness of fit'. It is in $0\\leq r^2\\leq 1$ where $r^2=0$ indicates the model explains none of the variation in the data and $r^2=1$ indicates the model perfectly explains the variation in the data. So the closer $r^2$ is to 1 the better the model fits the data.\n",
        "$$ r^2 = 1 - \\frac{\\sum\\left( y_i-\\hat{y_i}  \\right)}{\\sum\\left( y_i-\\bar{y}  \\right)}$$\n",
        "\n",
        "5. Corelation Coefficent (r value): The r value mesures the corelation between the input features and the output targets. $|r| \\leq 1$. If r is near 1, there is strong positive correlation. If r is near -1, there is strong negative correlation.\n",
        "* $0.7 ＜ |r| \\leq 1$ - strong correlation\n",
        "* $0.4 ＜ |r| ＜ 0.7$ - moderate correlation\n",
        "* $0.2 ＜ |r| ＜ 0.4$ - weak correlation\n",
        "* $0 \\leq |r| ＜ 0.2$ - no correlation\n",
        "$$r = \\frac{\\sum (x-\\bar{x})(y-\\bar{y})}{\\sum(x-\\bar{x})^2(y-\\bar{y})^2}$$\n",
        "\n",
        "$$ |r| = \\sqrt{r^2} $$"
      ]
    },
    {
      "cell_type": "code",
      "execution_count": 28,
      "id": "2df52bea",
      "metadata": {
        "id": "2df52bea"
      },
      "outputs": [],
      "source": [
        "# Define our error and fit metrics.\n",
        "def mae(y1, y2):\n",
        "    return np.sum(abs(y1-y2))/len(y1)\n",
        "           \n",
        "def mse(y1, y2):\n",
        "    return np.sum((y1-y2)**2) / len(y1)\n",
        "                  \n",
        "def rmse(y1, y2):\n",
        "    return np.sqrt(mse(y1, y2))\n",
        "                  \n",
        "def r2(y1, y2):\n",
        "    return 1 - np.sum((y1-y2)**2) / np.sum((y1-np.mean(y2))**2)\n",
        "                  \n",
        "def r(x, y):\n",
        "    sst_xx = np.sum((x-np.mean(x))**2)\n",
        "    sst_yy = np.sum((y-np.mean(y))**2)\n",
        "    sst_xy = np.sum((x-np.mean(x))*(y-np.mean(y)))\n",
        "    return sst_xy/(np.sqrt(sst_xx*sst_yy))"
      ]
    },
    {
      "cell_type": "code",
      "execution_count": 29,
      "id": "c3d91f43",
      "metadata": {
        "scrolled": true,
        "id": "c3d91f43",
        "outputId": "e22f3c7d-f2d2-48a7-e061-ddd9480d71c5",
        "colab": {
          "base_uri": "https://localhost:8080/"
        }
      },
      "outputs": [
        {
          "output_type": "stream",
          "name": "stdout",
          "text": [
            "Mean Absolute Error: 0.830\n",
            "Mean Squared Error: 1.052\n",
            "Root Mean Squares Error: 1.026\n",
            "r2: 0.976\n",
            "r: 0.988\n"
          ]
        }
      ],
      "source": [
        "# All of the metrics are computed on the testing dataset.\n",
        "mae_ = mae(y_test1, y_pred1)\n",
        "mse_ = mse(y_test1, y_pred1)\n",
        "rmse_ = rmse(y_test1, y_pred1)\n",
        "r2_ = r2(y_test1, y_pred1)\n",
        "r_ = r(X_test1, y_test1)\n",
        "\n",
        "print('Mean Absolute Error: %.3f' % mae_)\n",
        "print('Mean Squared Error: %.3f' % mse_)\n",
        "print('Root Mean Squares Error: %.3f' % rmse_)\n",
        "print('r2: %.3f' % r2_)\n",
        "print('r: %.3f' % r_)"
      ]
    },
    {
      "cell_type": "markdown",
      "id": "99770b6b",
      "metadata": {
        "id": "99770b6b"
      },
      "source": [
        "#### Ploting Confidence Intervals\n",
        "\n",
        "In practice, we only have a sample of the \"true\" dataset to fit our model to. We want to use the trained model to make predictions on samples not seen during the fitting stage. This is why we use a testing dataset. We want to see how the model performes on data it has not seen before (i.e. samples it was not trained with). As such, we would like to know the range that the \"true\" regression line lies within with some level of confidence. For this, we will construct an interval of 95% confidence for each learned parameter, $w_0$ and $w_1$, of the model."
      ]
    },
    {
      "cell_type": "code",
      "execution_count": 30,
      "id": "202a1129",
      "metadata": {
        "id": "202a1129",
        "outputId": "7f031b45-51ae-4445-f28f-e7c564ec5072",
        "colab": {
          "base_uri": "https://localhost:8080/",
          "height": 295
        }
      },
      "outputs": [
        {
          "output_type": "display_data",
          "data": {
            "text/plain": [
              "<Figure size 432x288 with 1 Axes>"
            ],
            "image/png": "[encoded data removed]"
          },
          "metadata": {
            "needs_background": "light"
          }
        }
      ],
      "source": [
        "domain = np.linspace(np.min(X_train1), np.max(X_train1)) \n",
        "range_ = linreg.predict(domain)\n",
        "\n",
        "residules = y_train1-linreg.predict(X_train1)\n",
        "\n",
        "degfredom = len(X_train1)-2 # Degrees of freedom.\n",
        "s_err = np.sqrt(np.sum(residules**2) / degfredom)\n",
        "t_crit = sp.stats.t.ppf(0.975, degfredom) # Critical value from Students' t distribution\n",
        "\n",
        "pred_int = t_crit*s_err*np.sqrt(1 + 1/len(X_train1) + (domain - np.mean(X_train1))**2 \n",
        "                                    / np.sum((X_train1 - np.mean(X_train1))**2))\n",
        "conf_int = t_crit*s_err*np.sqrt(1/len(X_train1) + (domain - np.mean(X_train1))**2 \n",
        "                                    / np.sum((X_train1 - np.mean(X_train1))**2))\n",
        "\n",
        "# Plot the confidence intervals.\n",
        "plt.fill_between(domain, range_+conf_int, range_-conf_int, color=\"paleturquoise\", \n",
        "                 label='95% confidence limits')\n",
        "plt.plot(domain, range_-pred_int, '--', c='black',\n",
        "         label='95% prediction limits')\n",
        "plt.plot(domain, range_+pred_int, '--', c='black')\n",
        "plt.plot(domain, range_, label='regression line', c='orange')\n",
        "plt.scatter(X_train1, y_train1, c='b', label='training data')\n",
        "plt.xlabel('x')\n",
        "plt.ylabel('y')\n",
        "plt.title('Confidence and Prediction Intervals')\n",
        "plt.legend()\n",
        "plt.show()"
      ]
    },
    {
      "cell_type": "markdown",
      "id": "28d7b2e7",
      "metadata": {
        "id": "28d7b2e7"
      },
      "source": [
        "---\n",
        "\n",
        "## 3. Multiple Regression\n",
        "\n",
        "---\n",
        "\n",
        "Now we will look fiting a linear regression model to some data with more than a single feature. The derivation will look very similar to that of 1D regression and we will end up with the same matrix equation in the end representing a system of equations to solve. For a more detailed derivation, see the video lecture on the theory of multiple regression.\n",
        "\n",
        "Similar to 1D regression, the aim to find each $w_j$ value for the hyper plane $\\hat{y} = w_0 + w_1x_1 + w_2x_2 + \\cdots + w_nx_n$ so that the sum of all square differences between the actual $y$ value and the $\\hat{y}$ value of the line are minimized. To do this we find the derivatives and set to zero.\n",
        "\n",
        "\\begin{equation}\n",
        "    \\hat{y} = w_0 + w_1x_1 + w_2x_2 + \\cdots + w_nx_n\n",
        "\\end{equation}\n",
        "\n",
        "\\begin{equation}\n",
        "    \\begin{split}\n",
        "        SSE(w_0, \\cdots, w_n) & = \\sum_{i=1}^{m}(y_i-\\hat{y_i})^2 \\\\\n",
        "        & = \\sum_{i=1}^{m}(y_i-(w_0 + w_1x_{i1} + w_2x_{i2} + \\cdots + w_nx_{in}))^2\n",
        "    \\end{split}\n",
        "\\end{equation}\n",
        "\n",
        "\\begin{equation}\n",
        "    \\begin{split}\n",
        "         \\frac{\\partial \\; SSE(w_0, \\cdots, w_n)}{\\partial \\; w_0} & = \n",
        "         \\frac{\\partial}{\\partial \\; w_0} \\left[ \\sum_{i=1}^{m}(y_i-(w_0 + w_1x_{i1} + \\cdots + w_nx_{in}))^2 \\right] \\\\\n",
        "         &= 2 \\cdot \\sum_{i=1}^{m}(y_i-(w_0 + w_1x_{i1} + \\cdots + w_nx_{in}))\n",
        "    \\end{split}\n",
        "\\end{equation}\n",
        "\n",
        "\\begin{equation}\n",
        "    \\begin{split}\n",
        "         \\frac{\\partial \\; SSE(w_0, \\cdots, w_n)}{\\partial \\; w_j} & = \n",
        "         \\frac{\\partial}{\\partial \\; w_j} \\left[ \\sum_{i=1}^{m}(y_i-(w_0 + w_1x_{i1} + \\cdots + w_nx_{in}))^2 \\right] \\\\\n",
        "         &= 2 \\cdot \\sum_{i=1}^{m}(y_i-(w_0 + w_1x_{i1} + \\cdots + w_nx_{in}))\\cdot x_{ji} \\; \\text{ for } 1\\leq j \\leq n.\n",
        "    \\end{split}\n",
        "\\end{equation}\n",
        "Now that we have the derivatives with respect to all the parameters, we can set each to zero and form the system of $n$ equations in $n$ variables.\n",
        "\\begin{equation}\n",
        "    \\begin{split}\n",
        "        \\sum_{i=1}^{m}y_i &= mw_0 + w_1\\sum_{i=1}^{m}x_{i1} + \\cdots + w_n\\sum_{i=1}^{m}x_{in} \\\\ \n",
        "        \\sum_{i=1}^{m}y_ix_{ij} &= w_0\\sum_{i=1}^{m}x_{ij} + w_1\\sum_{i=1}^{m}x_{i1}x_{ij} + \\cdots + w_n\\sum_{i=1}^{m}x_{in}x_{ij}  \\; \\text{ for } 1\\leq j \\leq n.\n",
        "    \\end{split}\n",
        "\\end{equation}\n",
        "\n",
        "We can now solve this system for the parameters $w_0, \\cdots, w_n$. This can all be rewritten in terms of matrices to simplify the expressions and computations.\n",
        "\n",
        "\\begin{equation}\n",
        "    \\text{Let } X = \n",
        "    \\begin{bmatrix}\n",
        "        1 & x_{11} & x_{12} & \\cdots & x_{1n} \\\\\n",
        "        1 & x_{21} & x_{22} & \\cdots & x_{2n} \\\\\n",
        "        \\vdots & \\vdots & \\vdots & \\ddots & \\vdots \\\\\n",
        "        1 & x_{m1} & x_{m2} & \\cdots & x_{mn}\n",
        "    \\end{bmatrix}, \\ \\\n",
        "    y = \n",
        "    \\begin{bmatrix}\n",
        "        y_1 \\\\\n",
        "        y_2 \\\\\n",
        "        \\vdots \\\\\n",
        "        y_m\n",
        "    \\end{bmatrix}\\text{, and }\n",
        "    \\boldsymbol{w} = \n",
        "    \\begin{bmatrix}\n",
        "        w_0 \\\\\n",
        "       w_1 \\\\\n",
        "        \\vdots \\\\\n",
        "        w_n\n",
        "    \\end{bmatrix}\n",
        "\\end{equation}\n",
        "\n",
        "Then the normal equations are then represented by $X^TXw = X^Ty$.\n",
        "This linear system can now be solved for $\\boldsymbol{w}$."
      ]
    },
    {
      "cell_type": "markdown",
      "id": "a66a7c2f",
      "metadata": {
        "id": "a66a7c2f"
      },
      "source": [
        "#### Generate Data\n",
        "\n",
        "Once again, for now we will simply generate our own, made up data to demonstrait that our model works for multiple regression."
      ]
    },
    {
      "cell_type": "code",
      "execution_count": 31,
      "id": "97a4f0b1",
      "metadata": {
        "id": "97a4f0b1",
        "outputId": "3087ea6e-4a2e-4cd3-9569-2320c0a77fca",
        "colab": {
          "base_uri": "https://localhost:8080/",
          "height": 350
        }
      },
      "outputs": [
        {
          "output_type": "display_data",
          "data": {
            "text/plain": [
              "<Figure size 1080x360 with 3 Axes>"
            ],
            "image/png": "[encoded data removed]"
          },
          "metadata": {
            "needs_background": "light"
          }
        }
      ],
      "source": [
        "# Example hyper plane with some added randomness.\n",
        "def hypPlane(X):\n",
        "    return 3*X[:,0] + 2*X[:,1] - 5*X[:,2] + 1 + np.random.normal(0, 2, len(X))\n",
        "\n",
        "np.random.seed(5)\n",
        "# Training data\n",
        "X_train2 = np.random.uniform(-2, 8, size=(15, 3))\n",
        "y_train2 = hypPlane(X_train2)\n",
        "\n",
        "# Testing data\n",
        "X_test2 = np.random.uniform(-2, 8, size=(8, 3))\n",
        "y_test2 = hypPlane(X_test2)\n",
        "\n",
        "# Plot data\n",
        "fig, ax = plt.subplots(1, 3, figsize=(15, 5))\n",
        "colors=[['r', 'olivedrab'], ['b', 'orange'], ['blueviolet', 'teal']]\n",
        "\n",
        "# Plot each feature in X VS the target y\n",
        "for i in range(len(X_train2[0])):\n",
        "    plt.subplot(1, 3, i+1)\n",
        "    plt.title('x' + str(i+1) + ' VS y')\n",
        "    plt.scatter(X_train2[:, i], y_train2, c=colors[i][0], label='training data')\n",
        "    plt.scatter(X_test2[:, i], y_test2, c=colors[i][1], label='testing data')\n",
        "    plt.legend()\n",
        "    plt.ylabel('y')\n",
        "    plt.xlabel('x' + str(i+1))"
      ]
    },
    {
      "cell_type": "markdown",
      "id": "c617e5ab",
      "metadata": {
        "id": "c617e5ab"
      },
      "source": [
        "#### Fit a Linear Regression Model to the Training Data\n",
        "\n",
        "Notice that this is done in exactly the same way as for 1D regression."
      ]
    },
    {
      "cell_type": "code",
      "execution_count": 32,
      "id": "d392f076",
      "metadata": {
        "id": "d392f076",
        "outputId": "c7b13168-6566-4681-a8e1-9f492cf6cb34",
        "colab": {
          "base_uri": "https://localhost:8080/"
        }
      },
      "outputs": [
        {
          "output_type": "stream",
          "name": "stdout",
          "text": [
            "Regression Model:\n",
            " y = 2.8592781562368437 + 2.943807572925704*x_1 + 1.8025687144405502*x_2 + -5.161280219189665*x_3 \n",
            "\n",
            "Model Parameters:\n",
            " [ 2.85927816  2.94380757  1.80256871 -5.16128022]\n"
          ]
        }
      ],
      "source": [
        "# Define at fit the multiple regression model\n",
        "multreg = LinearRegression()\n",
        "multreg.fit(X_train2, y_train2)\n",
        "\n",
        "print('Regression Model:\\n', multreg, \"\\n\")\n",
        "print('Model Parameters:\\n', multreg.w)"
      ]
    },
    {
      "cell_type": "markdown",
      "source": [
        "#### Use the Fit Model to Make a Prediction on the Testing Data"
      ],
      "metadata": {
        "id": "uS9-hwyZnoet"
      },
      "id": "uS9-hwyZnoet"
    },
    {
      "cell_type": "code",
      "execution_count": 33,
      "id": "66f50c0d",
      "metadata": {
        "id": "66f50c0d",
        "outputId": "bfefc7dc-74af-4274-8eaf-be70e3568494",
        "colab": {
          "base_uri": "https://localhost:8080/"
        }
      },
      "outputs": [
        {
          "output_type": "stream",
          "name": "stdout",
          "text": [
            "Actual Targets:  [ 15.43 -22.8    2.05  -7.12   3.43 -13.72  35.96   5.56]\n",
            "Predictions: [ 18.31 -22.19   0.1  -10.9    4.32 -12.77  38.04   6.31]\n"
          ]
        }
      ],
      "source": [
        "# Now that the model has been fit, we can use it to make predictions on the testing data.\n",
        "y_pred2 = multreg.predict(X_test2)\n",
        "\n",
        "print('Actual Targets: ', np.round(y_test2, 2))\n",
        "print('Predictions:', np.round(y_pred2, 2))"
      ]
    },
    {
      "cell_type": "markdown",
      "id": "a1bbac15",
      "metadata": {
        "id": "a1bbac15"
      },
      "source": [
        "#### Model Visualization\n",
        "\n",
        "Because our data has 3 features and 1 targets, to plot the regression we would need to plot a 3D hyperplane in 4D space. Obviously, we can't plot something in 4D (At least not withought losing some information). However, one of the many things we can visualize is the distrobution of the residules of the model."
      ]
    },
    {
      "cell_type": "code",
      "execution_count": 34,
      "id": "08c89a47",
      "metadata": {
        "id": "08c89a47",
        "outputId": "641cb5a8-d7e6-4830-cd72-4382b17ef634",
        "colab": {
          "base_uri": "https://localhost:8080/",
          "height": 295
        }
      },
      "outputs": [
        {
          "output_type": "display_data",
          "data": {
            "text/plain": [
              "<Figure size 432x288 with 1 Axes>"
            ],
            "image/png": "[encoded data removed]"
          },
          "metadata": {
            "needs_background": "light"
          }
        }
      ],
      "source": [
        "plt.hist((y_test2-y_pred2), bins=12, weights=np.ones(len(y_test2))/len(y_test2))\n",
        "plt.title('Residual Histogram')\n",
        "plt.xlabel('Residuals')\n",
        "plt.ylabel('Percentage')\n",
        "plt.show()"
      ]
    },
    {
      "cell_type": "markdown",
      "id": "f39e318c",
      "metadata": {
        "id": "f39e318c"
      },
      "source": [
        "#### Metrics\n",
        "It is important to measure the performance of our model. There are many regression metrics one can use, but we will just look at some of the most popular ones. We want to use the testing data to measure the performance of the model. Here $y$ represents `y_test2` and $\\hat{y}$ represents `y_pred2` which is the models predictions on `X_test2`.\n",
        "\n",
        "\n",
        "1. Mean Absolute Error (MAE): The MAE tells us the distance, on average, each point is from the line vertically. The closer MAE is to zero the better the model fits the data.\n",
        "$$ MAE = \\frac{1}{n}\\sum\\left| y_i-\\hat{y_i}  \\right| $$\n",
        "\n",
        "2. Mean Squared Error (MSE): The MSE tells us what the mean squared distance that each point is from the line. Squaring the error makes MSE much more sensative to outliers than MAE. The closer MSE is to zero the better the model fits the data.\n",
        "$$ MSE = \\frac{1}{n}\\sum\\left( y_i-\\hat{y_i}  \\right)^2 $$\n",
        "\n",
        "3. Root Mean Squared Error (RMSE): RMSE is the square root of MSE and is also sensitive to outliers. RMSD is an aggragate of magnitued of the distance of each point from the line vertically. The closer RMSE is to zero the better the model fits the data.\n",
        "$$ RMSE = \\sqrt{\\frac{1}{n}\\sum\\left( y_i-\\hat{y_i}  \\right)^2} = \\sqrt{MSE}$$\n",
        "\n",
        "4. Coefficent of Determination ($r^2$ value): Proportion of the variation in the data that is explained by the model and is a measure of 'goodness of fit'. It is in $0\\leq r^2\\leq 1$ where $r^2=0$ indicates the model explains none of the variation in the data and $r^2=1$ indicates the model perfectly explains the variation in the data. So the closer $r^2$ is to 1 the better the model fits the data.\n",
        "$$ r^2 = 1 - \\frac{\\sum\\left( y_i-\\hat{y_i}  \\right)}{\\sum\\left( y_i-\\bar{y}  \\right)}$$"
      ]
    },
    {
      "cell_type": "code",
      "execution_count": 35,
      "id": "b1a387a8",
      "metadata": {
        "id": "b1a387a8",
        "outputId": "e413609e-55ba-4bbd-ab0b-5632b98d154e",
        "colab": {
          "base_uri": "https://localhost:8080/"
        }
      },
      "outputs": [
        {
          "output_type": "stream",
          "name": "stdout",
          "text": [
            "Mean Absolute Error: 1.739\n",
            "Mean Squared Error: 4.174\n",
            "Root Mean Squares Error: 2.043\n",
            "r2: 0.985\n",
            "|r|: 0.993\n"
          ]
        }
      ],
      "source": [
        "# Note, the way we calculated the r value before will not work when the data has multiple features.\n",
        "# So, for simplicity we only calculate the r-squared value. However, we can easily calculate |r|.\n",
        "\n",
        "# All of the metrics are computed on the testing dataset.\n",
        "mae_ = mae(y_test2, y_pred2)\n",
        "mse_ = mse(y_test2, y_pred2)\n",
        "rmse_ = rmse(y_test2, y_pred2)\n",
        "r2_ = r2(y_test2, y_pred2)\n",
        "\n",
        "print('Mean Absolute Error: %.3f' % mae_)\n",
        "print('Mean Squared Error: %.3f' % mse_)\n",
        "print('Root Mean Squares Error: %.3f' % rmse_)\n",
        "print('r2: %.3f' % r2_)\n",
        "print('|r|: %.3f' % np.sqrt(r2_))\n",
        "\n",
        "from sklearn.metrics import r2_score"
      ]
    },
    {
      "cell_type": "markdown",
      "id": "c94a3045",
      "metadata": {
        "id": "c94a3045"
      },
      "source": [
        "\n",
        "---\n",
        "\n",
        "## 4. Polynomial Regression\n",
        "\n",
        "---\n",
        "\n",
        "Polynomials are not linear functions, so what is polynomial regression doing in a notebook all about linear regression? When we say \"linear regression\" we mean that the model is linear in terms of the model parameters/weights and <b>NOT</b> necisarly in terms of the features.\n",
        "\n",
        "With this in mind, a polynomial model for a dataset with one feature looks like $y = w_0 + w_1x + w_2x^2 + w_3x^3 + \\cdots + w_nx^n$. Note that this is actualy linear in terms of the model parameters $w_i$ since we know the value of $x$.\n",
        "\n",
        "Further notice that the polynomial model is really just a special case of the multiple regression model $y = w_0 + w_1x_1 + w_2x_2 + w_3x_3 + \\cdots + w_nx_n$ where $x_i = x^i$. So, polynomial regression is just a special case of multiple linear regression and has a very similar derivation!\n",
        "\n",
        "For polynomial regression we aim to find the $w_j$ values for $\\hat{y} = w_0 + w_1x + w_2x^2 + \\cdots + w_kx^k$ such that the sum of square errors is minimized. To do this, we find the derivatives of the $SSE$ function and set them to zero.\n",
        "    \n",
        "\\begin{equation}\n",
        "    \\hat{y} = w_0 + w_1x + w_2x^2 + \\cdots + w_kx^k\n",
        "\\end{equation}\n",
        "\n",
        "\\begin{equation}\n",
        "    \\begin{split}\n",
        "        SSE(w_0, \\cdots, w_k) &= \\sum_{i=1}^{m}(y_i-\\hat{y}_i)^2 \\\\\n",
        "        &= \\sum_{i=1}^{m}(y_i-(w_0 + w_1x_i + \\cdots + w_kx_i^k))^2\n",
        "    \\end{split}\n",
        "\\end{equation}\n",
        "\n",
        "\\begin{equation}\n",
        "    \\cfrac{\\partial \\, SSE(w_0, \\cdots, w_k)}{\\partial \\, w_j} = 2 \\sum_{i=1}^{m}(y_i-(w_0 + w_1x_i + \\cdots + w_kx_i^k))\\cdot x_i^j \\ \\text{ for } \\ 0\\leq j \\leq k.\n",
        "\\end{equation}\n",
        "Now that we have all of the partial derivatives, we can set them to zero and solve the system of linear equations. This system can be rewritten in terms of matrices for more compact notation and efficient computations.\n",
        "\n",
        "\\begin{equation}\n",
        "    \\text{Let } X = \n",
        "\\begin{bmatrix}\n",
        "    1 & x_{1} & x_{1}^2 & \\cdots & x_{1}^k \\\\\n",
        "    1 & x_{2} & x_{2}^2 & \\cdots & x_{2}^k \\\\\n",
        "    \\vdots & \\vdots & \\vdots & \\ddots & \\vdots \\\\\n",
        "    1 & x_{m} & x_{m}^2 & \\cdots & x_{m}^k\n",
        "\\end{bmatrix}, \\ \\\n",
        "y = \n",
        "\\begin{bmatrix}\n",
        "    y_1 \\\\\n",
        "    y_2 \\\\\n",
        "    \\vdots \\\\\n",
        "    y_m\n",
        "\\end{bmatrix}\\text{, and }\n",
        "\\boldsymbol{w} = \n",
        "\\begin{bmatrix}\n",
        "    w_0 \\\\\n",
        "   w_1 \\\\\n",
        "    \\vdots \\\\\n",
        "    w_k\n",
        "\\end{bmatrix}\n",
        "\\end{equation}\n",
        "\n",
        "Note, a matrix with the form of $X$ is called a Vandermonde matrix.\n",
        "\n",
        "Then system of equations are then represented by $X^TX\\boldsymbol{w} = X^Ty$.\n",
        "This linear system can now be solved for $\\boldsymbol{w}$."
      ]
    },
    {
      "cell_type": "markdown",
      "id": "a1cada42",
      "metadata": {
        "id": "a1cada42"
      },
      "source": [
        "#### Generate Dataset\n",
        "\n",
        "Once again, we will make up a simple dataset to use."
      ]
    },
    {
      "cell_type": "code",
      "execution_count": 36,
      "id": "6035de1d",
      "metadata": {
        "id": "6035de1d",
        "outputId": "deb046e4-369a-417f-e1f9-f916b9667af5",
        "colab": {
          "base_uri": "https://localhost:8080/",
          "height": 312
        }
      },
      "outputs": [
        {
          "output_type": "execute_result",
          "data": {
            "text/plain": [
              "[]"
            ]
          },
          "metadata": {},
          "execution_count": 36
        },
        {
          "output_type": "display_data",
          "data": {
            "text/plain": [
              "<Figure size 432x288 with 1 Axes>"
            ],
            "image/png": "[encoded data removed]"
          },
          "metadata": {
            "needs_background": "light"
          }
        }
      ],
      "source": [
        "# An example polynomial with some added randomness.\n",
        "def poly(x):\n",
        "    return -0.1*x**3 + 0.8*x**2 + 2*x + 1 + np.random.normal(0, 4, len(x))\n",
        "\n",
        "np.random.seed(123)\n",
        "X_train3 = np.random.uniform(-5, 10, 15)\n",
        "y_train3 = poly(X_train3)\n",
        "\n",
        "X_test3 = np.random.uniform(-5, 10, 8)\n",
        "y_test3 = poly(X_test3)\n",
        "\n",
        "plt.scatter(X_train3, y_train3, label='training data', c='b')\n",
        "plt.scatter(X_test3, y_test3, label='testing data', c='r')\n",
        "plt.title('Polynomial Data')\n",
        "plt.xlabel('x')\n",
        "plt.ylabel('y')\n",
        "plt.legend()\n",
        "plt.plot()"
      ]
    },
    {
      "cell_type": "markdown",
      "id": "785840a5",
      "metadata": {
        "id": "785840a5"
      },
      "source": [
        "#### Fit a Polynomial Regression Model to the Training Data\n",
        "\n",
        "This is similar to multiple linear regression but we will need to generate the powers of each feature first (i.e. the Vandermonde matrix).\n",
        "\n"
      ]
    },
    {
      "cell_type": "code",
      "execution_count": 37,
      "id": "60d760a2",
      "metadata": {
        "id": "60d760a2",
        "outputId": "a8176a3f-45c1-4624-f9a6-8e35638ab89b",
        "colab": {
          "base_uri": "https://localhost:8080/"
        }
      },
      "outputs": [
        {
          "output_type": "stream",
          "name": "stdout",
          "text": [
            "Regression Model:\n",
            " y = 0.9198011170674134 + 2.275443663474684*x^1 + 0.7097767942072802*x^2 + -0.09122749044616761*x^3 \n",
            "\n",
            "Model Parameters:\n",
            " [ 0.91980112  2.27544366  0.70977679 -0.09122749]\n"
          ]
        }
      ],
      "source": [
        "# This function will generate the Vandermonde matrix needed for polynomial regression (minus the leftmost column of ones)\n",
        "# which is added by the LinearRegression model. This fucntion only works with data that has a single feature.\n",
        "def poly_features(x, deg):\n",
        "    X = np.zeros((len(x), deg))\n",
        "    \n",
        "    for i in range(deg):\n",
        "        X[:, i] = x**(i+1)\n",
        "    \n",
        "    return X\n",
        "\n",
        "# Define and fit the polynomial regression model.\n",
        "degree = 3 # Degree of the polynomial\n",
        "polyreg = LinearRegression(poly=True)\n",
        "polyreg.fit(poly_features(X_train3, degree), y_train3)\n",
        "\n",
        "print('Regression Model:\\n', polyreg, \"\\n\")\n",
        "print('Model Parameters:\\n', polyreg.w)"
      ]
    },
    {
      "cell_type": "markdown",
      "source": [
        "#### Use the Fit Model to Make a Prediction on the Testing Data"
      ],
      "metadata": {
        "id": "IZOVSevjnrNn"
      },
      "id": "IZOVSevjnrNn"
    },
    {
      "cell_type": "code",
      "execution_count": 38,
      "id": "b7814319",
      "metadata": {
        "id": "b7814319",
        "outputId": "bd0905b5-8deb-45c7-d329-03feccee81fe",
        "colab": {
          "base_uri": "https://localhost:8080/"
        }
      },
      "outputs": [
        {
          "output_type": "stream",
          "name": "stdout",
          "text": [
            "Actual Targets:  [ 6.44 14.77  9.19  3.67 -2.45  9.23 14.01  9.11]\n",
            "Predictions: [ 5.64  5.48  9.23  5.2   0.27  5.23 16.04 11.18]\n"
          ]
        }
      ],
      "source": [
        "# Use the trained model to make predictions on the testing dataset.\n",
        "y_pred3 = polyreg.predict(poly_features(X_test3, degree))\n",
        "\n",
        "print('Actual Targets: ', np.round(y_test3, 2))\n",
        "print('Predictions:', np.round(y_pred3, 2))"
      ]
    },
    {
      "cell_type": "markdown",
      "id": "795ec427",
      "metadata": {
        "id": "795ec427"
      },
      "source": [
        "#### Model Visualization"
      ]
    },
    {
      "cell_type": "code",
      "execution_count": 39,
      "id": "583fba16",
      "metadata": {
        "id": "583fba16",
        "outputId": "1a205fd8-b224-42f5-86d5-1f8f571c7e42",
        "colab": {
          "base_uri": "https://localhost:8080/",
          "height": 295
        }
      },
      "outputs": [
        {
          "output_type": "display_data",
          "data": {
            "text/plain": [
              "<Figure size 432x288 with 1 Axes>"
            ],
            "image/png": "[encoded data removed]"
          },
          "metadata": {
            "needs_background": "light"
          }
        }
      ],
      "source": [
        "D = np.linspace(np.min(X_train3), np.max(X_train3), 50)\n",
        "R = polyreg.predict(poly_features(D, degree))\n",
        "\n",
        "plt.plot(D, R, label='regresion polynomial', c='orange')\n",
        "plt.scatter(X_train3, y_train3, c='b', label='training data')\n",
        "plt.scatter(X_test3, y_test3, c='r', label='testing data')\n",
        "plt.xlabel('x')\n",
        "plt.ylabel('y')\n",
        "plt.legend()\n",
        "plt.title('Regression Model')\n",
        "plt.show()"
      ]
    },
    {
      "cell_type": "markdown",
      "id": "754073eb",
      "metadata": {
        "id": "754073eb"
      },
      "source": [
        "#### Metrics\n",
        "It is important to measure the performance of our model. There are many regression metrics one can use, but we will just look at some of the most popular ones. We want to use the testing data to measure the performance of the model. Here $y$ represents `y_test3` and $\\hat{y}$ represents `y_pred3` which is the models predictions on `X_test3`.\n",
        "\n",
        "\n",
        "1. Mean Absolute Error (MAE): The MAE tells us the distance, on average, each point is from the line vertically. The closer MAE is to zero the better the model fits the data.\n",
        "$$ MAE = \\frac{1}{n}\\sum\\left| y_i-\\hat{y_i}  \\right| $$\n",
        "\n",
        "2. Mean Squared Error (MSE): The MSE tells us what the mean squared distance that each point is from the line. Squaring the error makes MSE much more sensative to outliers than MAE. The closer MSE is to zero the better the model fits the data.\n",
        "$$ MSE = \\frac{1}{n}\\sum\\left( y_i-\\hat{y_i}  \\right)^2 $$\n",
        "\n",
        "3. Root Mean Squared Error (RMSE): RMSE is the square root of MSE and is also sensitive to outliers. RMSD is an aggragate of magnitued of the distance of each point from the line vertically. The closer RMSE is to zero the better the model fits the data.\n",
        "$$ RMSE = \\sqrt{\\frac{1}{n}\\sum\\left( y_i-\\hat{y_i}  \\right)^2} = \\sqrt{MSE}$$\n",
        "\n",
        "4. Coefficent of Determination ($r^2$ value): Proportion of the variation in the data that is explained by the model and is a measure of 'goodness of fit'. It is in $0\\leq r^2\\leq 1$ where $r^2=0$ indicates the model explains none of the variation in the data and $r^2=1$ indicates the model perfectly explains the variation in the data. So the closer $r^2$ is to 1 the better the model fits the data.\n",
        "$$ r^2 = 1 - \\frac{\\sum\\left( y_i-\\hat{y_i}  \\right)}{\\sum\\left( y_i-\\bar{y}  \\right)}$$\n",
        "\n",
        "5. Corelation Coefficent (r value): The r value mesures the corelation between the input features and the output targets. $|r| \\leq 1$. If r is near 1, there is strong positive correlation. If r is near -1, there is strong negative correlation.\n",
        "* $0.7 ＜ |r| \\leq 1$ - strong correlation\n",
        "* $0.4 ＜ |r| ＜ 0.7$ - moderate correlation\n",
        "* $0.2 ＜ |r| ＜ 0.4$ - weak correlation\n",
        "* $0 \\leq |r| ＜ 0.2$ - no correlation\n",
        "$$r = \\frac{\\sum (x-\\bar{x})(y-\\bar{y})}{\\sum(x-\\bar{x})^2(y-\\bar{y})^2}$$\n",
        "\n",
        "$$ |r| = \\sqrt{r^2} $$"
      ]
    },
    {
      "cell_type": "code",
      "execution_count": 40,
      "id": "af178805",
      "metadata": {
        "id": "af178805",
        "outputId": "bfe8d39c-7447-409e-fd48-c060f8b4e506",
        "colab": {
          "base_uri": "https://localhost:8080/"
        }
      },
      "outputs": [
        {
          "output_type": "stream",
          "name": "stdout",
          "text": [
            "Mean Absolute Error: 2.812\n",
            "Mean Squared Error: 15.145\n",
            "Root Mean Squares Error: 3.892\n",
            "r2: 0.451\n",
            "r: 0.508\n"
          ]
        }
      ],
      "source": [
        "# All of the metrics are computed on the testing dataset.\n",
        "mae_ = mae(y_test3, y_pred3)\n",
        "mse_ = mse(y_test3, y_pred3)\n",
        "rmse_ = rmse(y_test3, y_pred3)\n",
        "r2_ = r2(y_test3, y_pred3)\n",
        "r_ = r(X_test3, y_test3)\n",
        "\n",
        "print('Mean Absolute Error: %.3f' % mae_)\n",
        "print('Mean Squared Error: %.3f' % mse_)\n",
        "print('Root Mean Squares Error: %.3f' % rmse_)\n",
        "print('r2: %.3f' % r2_)\n",
        "print('r: %.3f' % r_)"
      ]
    },
    {
      "cell_type": "markdown",
      "id": "6d5582df",
      "metadata": {
        "id": "6d5582df"
      },
      "source": [
        "#### Ploting Confidence Intervals\n",
        "\n",
        "In practice, we only have a sample of the \"true\" dataset to fit our model to. We want to use the trained model to make predictions on samples not seen during the fitting stage. This is why we use a testing dataset. We want to see how the model performes on data it has not seen before (i.e. samples it was not trained with). As such, we would like to know the range that the \"true\" regression line lies within with some level of confidence. For this, we will construct an interval of 95% confidence for each learned parameter, $w_i$, of the model."
      ]
    },
    {
      "cell_type": "code",
      "execution_count": 41,
      "id": "29b94173",
      "metadata": {
        "scrolled": false,
        "id": "29b94173",
        "outputId": "754aaab5-6e8f-4089-c0b8-ed63d69c223d",
        "colab": {
          "base_uri": "https://localhost:8080/",
          "height": 295
        }
      },
      "outputs": [
        {
          "output_type": "display_data",
          "data": {
            "text/plain": [
              "<Figure size 432x288 with 1 Axes>"
            ],
            "image/png": "[encoded data removed]"
          },
          "metadata": {
            "needs_background": "light"
          }
        }
      ],
      "source": [
        "domain = np.linspace(np.min(X_train3), np.max(X_train3)) \n",
        "range_ = polyreg.predict(poly_features(domain, degree))\n",
        "\n",
        "residules = y_train3-polyreg.predict(poly_features(X_train3, degree))\n",
        "\n",
        "degfredom = len(X_train3)-2 # Degrees of freedom.\n",
        "s_err = np.sqrt(np.sum(residules**2) / degfredom)\n",
        "t_crit = sp.stats.t.ppf(0.975, degfredom) # Critical t-value from Student's t-distribution inverse cdf.\n",
        "\n",
        "pred_int = t_crit*s_err*np.sqrt(1 + 1/len(X_train3) + \n",
        "                                (domain - np.mean(X_train3))**2 / np.sum((X_train3 - np.mean(X_train3))**2))\n",
        "conf_int = t_crit*s_err*np.sqrt(1/len(X_train3) + \n",
        "                                (domain - np.mean(X_train3))**2 / np.sum((X_train3 - np.mean(X_train3))**2))\n",
        "\n",
        "\n",
        "# Plot the confidence intervals.\n",
        "plt.fill_between(domain, range_+conf_int, range_-conf_int, color=\"paleturquoise\", \n",
        "                 label='95% confidence limits')\n",
        "plt.plot(domain, range_-pred_int, '--', c='black',\n",
        "         label='95% prediction limits')\n",
        "plt.plot(domain, range_+pred_int, '--', c='black')\n",
        "plt.plot(domain, range_, label='regression line', c='orange')\n",
        "plt.scatter(X_train3, y_train3, c='b', label='training data')\n",
        "plt.xlabel('x')\n",
        "plt.ylabel('y')\n",
        "plt.title('Confidence and Prediction Intervals')\n",
        "plt.legend()\n",
        "plt.show()"
      ]
    },
    {
      "cell_type": "markdown",
      "source": [
        "---\n",
        "\n",
        "## 5. Other Linear Regression Modles\n",
        "\n",
        "---\n",
        "\n",
        "Similary to how we generated polynomial features to fit a polynomial using linear regression, there are many other features we could generate to fit other types of functions. \n",
        "\n",
        ">As an example, we can compute an exponential regression model in a similary way. Consider the following exponential formula,\n",
        "$$ y=w_0e^{w_1x} .$$\n",
        "We will take the natural logarithm of both sides.\n",
        "\\begin{align}\n",
        "  ln(y) &= ln(w_0e^{w_1x}) \\\\\n",
        "  &= ln(w_0) + ln(e^{w_1x}) \\\\\n",
        "  &= ln(w_0) + w_1x .\n",
        "\\end{align}\n",
        "Let $y'=ln(y)$ and $w_0'=ln(w_0)$. Then we have the following linear model,\n",
        "$$ y'=w_0'+w_1x. $$\n",
        "Now we can solve for $w_0'$ and $w_1$ as normal and set $w_0=e^{w_0'}$.\n",
        "\n",
        "Can you implement this yourself?"
      ],
      "metadata": {
        "id": "4BJoGdG4pYVx"
      },
      "id": "4BJoGdG4pYVx"
    },
    {
      "cell_type": "markdown",
      "source": [
        "---\n",
        "\n",
        "## 6. Conclusion and Takeaways\n",
        "\n",
        "---\n",
        "\n",
        "Now that we have finished implimenting our own linear regression model using numpy there are some important things to take away.\n",
        "\n",
        "1. Ordinary Least Squares regression comes down to minimizing the sum of square errors function (SSE).\n",
        "$$SSE(y, \\hat{y}) = \\sum(y_i-\\hat{y_i})^2 $$\n",
        "\n",
        "2. Split data into disjoint training and testing datasets. That way we can verify the accuracy of our model with data that the model was not trained with.\n",
        "\n",
        "3. Fiting a polynomial or an exponential function is actual linear regression in disguise. Eventhough polynomials and exponentials are not linear functions, we can write them in a way so that they are linear in terms of the model parameters (i.e. the coeficients we solve for when minimizing SSE)."
      ],
      "metadata": {
        "id": "iG0ULVKHt_if"
      },
      "id": "iG0ULVKHt_if"
    }
  ],
  "metadata": {
    "kernelspec": {
      "display_name": "Python 3 (ipykernel)",
      "language": "python",
      "name": "python3"
    },
    "language_info": {
      "codemirror_mode": {
        "name": "ipython",
        "version": 3
      },
      "file_extension": ".py",
      "mimetype": "text/x-python",
      "name": "python",
      "nbconvert_exporter": "python",
      "pygments_lexer": "ipython3",
      "version": "3.9.7"
    },
    "colab": {
      "name": "01_linreg_numpy.ipynb",
      "provenance": [],
      "collapsed_sections": [],
      "toc_visible": true
    }
  },
  "nbformat": 4,
  "nbformat_minor": 5
}