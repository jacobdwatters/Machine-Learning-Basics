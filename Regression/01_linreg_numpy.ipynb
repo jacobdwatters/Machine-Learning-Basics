{
 "cells": [
  {
   "cell_type": "markdown",
   "id": "d16e64ac",
   "metadata": {},
   "source": [
    "# Linear Regression With NumPy\n",
    "\n",
    "-- For more information on this code, watch the video\n",
    "\n",
    "In this notebook we will explore implimenting a linear regression model using only NumPy.\n",
    "We will explore three linear regression models: A single variable line, a multivariable hyperplane, and a polynomial.\n",
    "\n",
    "##### Sections:\n",
    "1. Defining the linear regression model\n",
    "2. linear regression with single variable\n",
    "3. linear regression with multiple variables \n",
    "4. polynomial regression"
   ]
  },
  {
   "cell_type": "markdown",
   "id": "18355b64",
   "metadata": {},
   "source": [
    "### Imports"
   ]
  },
  {
   "cell_type": "code",
   "execution_count": 315,
   "id": "608d3fad",
   "metadata": {},
   "outputs": [],
   "source": [
    "import numpy as np\n",
    "import scipy as sp\n",
    "import matplotlib.pyplot as plt\n",
    "from scipy import stats\n",
    "\n",
    "%matplotlib inline"
   ]
  },
  {
   "cell_type": "markdown",
   "id": "83196f0f",
   "metadata": {},
   "source": [
    "## 1. Define the Linear Regression Class\n",
    "\n",
    "We will use this same model for single variable, multi-variable, and polynomial regression."
   ]
  },
  {
   "cell_type": "code",
   "execution_count": 316,
   "id": "21e1e00d",
   "metadata": {},
   "outputs": [],
   "source": [
    "class LinearRegression:\n",
    "    \"\"\"\n",
    "    This class is a linear regression model\n",
    "      \n",
    "    Attributes:\n",
    "        poly (boolean): Indicates if the regression model is a polynimial model or not.\n",
    "        w (int): The weights/parameters of the regression model.\n",
    "    \"\"\"\n",
    "    def __init__(self, poly=False):\n",
    "        self.poly = poly\n",
    "    \n",
    "    def fit(self, X, y):\n",
    "        # Place a column of ones on the left of the features matrix X\n",
    "        V = np.column_stack((np.ones(len(X)), X))\n",
    "        \n",
    "        # Form the system of equations.\n",
    "        A = V.T@V\n",
    "        b = V.T@y\n",
    "        \n",
    "        # Solve the system for the least squares solution to the system.\n",
    "        self.w = np.linalg.lstsq(A, b, rcond=-1)[0]\n",
    "        \n",
    "    \n",
    "    def predict(self, X):\n",
    "        # Place a column of ones on the left of the features matrix X\n",
    "        V = np.column_stack((np.ones(len(X)), X))\n",
    "        return (V@self.w)\n",
    "    \n",
    "    \n",
    "    def __str__(self):\n",
    "        \"\"\"Returnes a string representation of the model.\"\"\"\n",
    "        \n",
    "        model_str = 'y = '\n",
    "        flat_w = self.w.flatten()\n",
    "        \n",
    "        for i in range(len(flat_w)):\n",
    "            if i==0:\n",
    "                model_str += str(flat_w[i])\n",
    "            else:\n",
    "                model_str += ' + ' + str(flat_w[i]) + '*x'\n",
    "                if self.poly:\n",
    "                    model_str += '^' + str(i)\n",
    "                else:\n",
    "                    model_str += '_' + str(i) \n",
    "        \n",
    "        return model_str"
   ]
  },
  {
   "cell_type": "markdown",
   "id": "a6b18919",
   "metadata": {},
   "source": [
    "## 2. One Dimensional Regression\n",
    "First We will look at fiting a 1D line to some data with a single feature.\n",
    "\n",
    "###### Minimizing the sum of square errors (SSE):\n",
    "\n",
    "We aim to find the $w_0$ and  $w_1$ values for the line $\\hat{y} = w_0 + w_1x$ so that the sum of all square differences between the actual $y$ value and the $\\hat{y}$ value of the line are minimized. To do this we find the derivatives and set to zero.\n",
    "\n",
    "\\begin{equation}\n",
    "    \\begin{split}\n",
    "        SSE(w_0, w_1) & = \\sum_{i=1}^{n}(y_i-\\hat{y_i})^2 \\\\\n",
    "        & = \\sum_{i=1}^{n}(y_i-(w_0 + w_1x_i))^2\n",
    "    \\end{split}\n",
    "\\end{equation}\n",
    "\n",
    "\n",
    "\\begin{equation}\n",
    "    \\begin{split}\n",
    "         \\frac{\\partial \\; SSE(w_0, w_1)}{\\partial \\; w_0} & = \n",
    "         \\frac{\\partial}{\\partial \\; w_0} \\left[ \\sum_{i=1}^{n}(y_i-(w_0 + w_1x_i))^2 \\right] \\\\\n",
    "         &= 2 \\cdot \\sum_{i=1}^{n}(y_i-(w_0 + w_1x_i))  \\\\\n",
    "    \\end{split}\n",
    "\\end{equation}\n",
    "\n",
    "\\begin{equation}\n",
    "    \\begin{split}\n",
    "         \\frac{\\partial \\; SSE(w_0, w_1)}{\\partial \\; w_1} & = \n",
    "         \\frac{\\partial}{\\partial \\; w_1} \\left[ \\sum_{i=1}^{n}(y_i-(w_0 + w_1x_i))^2 \\right] \\\\\n",
    "         &= 2 \\cdot \\sum_{i=1}^{n}(y_i-(w_0 + w_1x_i))\\cdot x_i  \\\\\n",
    "    \\end{split}\n",
    "\\end{equation}\n",
    "\n",
    "Now we set equations the above equation to zero and solve they system for $w_0$ and $w_1$ to obtain the normal equations.\n",
    "\n",
    "We can rewrite this sytem in terms of matrices to simplify the expressions and computations.\n",
    "\n",
    "\\begin{equation}\n",
    "    \\text{Let } \\boldsymbol{X} = \n",
    "    \\begin{bmatrix}\n",
    "        1 & x_{11} & x_{12} \\\\\n",
    "        1 & x_{21} & x_{22} \\\\\n",
    "        \\vdots & \\vdots & \\vdots \\\\\n",
    "        1 & x_{m1} & x_{m2}\n",
    "    \\end{bmatrix}, \\ \\\n",
    "    \\boldsymbol{y} = \n",
    "    \\begin{bmatrix}\n",
    "        y_1 \\\\\n",
    "        y_2 \\\\\n",
    "        \\vdots \\\\\n",
    "        y_m\n",
    "    \\end{bmatrix}\\text{, and }\n",
    "    \\boldsymbol{w} = \n",
    "    \\begin{bmatrix}\n",
    "        w_0 \\\\\n",
    "        w_1 \\\\\n",
    "    \\end{bmatrix}.\n",
    "\\end{equation}\n",
    "\n",
    "Then the normal equations are then represented by $X^TX\\boldsymbol{w} = X^Ty$.\n",
    "This linear system can now be solved for \\boldsymbol{w} by any method of choice."
   ]
  },
  {
   "cell_type": "markdown",
   "id": "76c0be53",
   "metadata": {},
   "source": [
    "#### Generate the Dataset\n",
    "\n",
    "In practice, we would use a real dataset. However, for now we will make up our own simple data to prove the model works."
   ]
  },
  {
   "cell_type": "code",
   "execution_count": 317,
   "id": "a18bf97d",
   "metadata": {},
   "outputs": [
    {
     "data": {
      "image/png": "[encoded data removed]",
      "text/plain": [
       "<Figure size 432x288 with 1 Axes>"
      ]
     },
     "metadata": {
      "needs_background": "light"
     },
     "output_type": "display_data"
    }
   ],
   "source": [
    "# Example line with some randomness.\n",
    "def line(x):\n",
    "    return 3*x + 2 + np.random.normal(0, 2, x.shape)\n",
    "\n",
    "np.random.seed(42)\n",
    "\n",
    "# Generate the training dataset.\n",
    "X_train1 = np.random.uniform(-1, 5, 15)\n",
    "y_train1 = line(X_train1)\n",
    "\n",
    "# Generate the testing dataset.\n",
    "X_test1 = np.random.uniform(-1, 5, 8)\n",
    "y_test1 = line(X_test1)\n",
    "\n",
    "# Plot the data.\n",
    "plt.scatter(X_train1, y_train1, c='b', label='training data')\n",
    "plt.scatter(X_test1, y_test1, c='r', label='testing data')\n",
    "plt.title('Dataset')\n",
    "plt.xlabel('x')\n",
    "plt.ylabel('y')\n",
    "plt.legend()\n",
    "plt.show()"
   ]
  },
  {
   "cell_type": "markdown",
   "id": "188b2d74",
   "metadata": {},
   "source": [
    "#### Fit a Linear Regression Model to the Training Data"
   ]
  },
  {
   "cell_type": "code",
   "execution_count": 318,
   "id": "b4264590",
   "metadata": {},
   "outputs": [
    {
     "name": "stdout",
     "output_type": "stream",
     "text": [
      "Regression Model:\n",
      " y = 1.3386212887349491 + 3.0085416460432146*x_1 \n",
      "\n",
      "Model Parameters:\n",
      " [1.33862129 3.00854165]\n"
     ]
    }
   ],
   "source": [
    "# Create and fit model.\n",
    "linreg = LinearRegression()\n",
    "linreg.fit(X_train1, y_train1)\n",
    "\n",
    "print('Regression Model:\\n', linreg, \"\\n\")\n",
    "print('Model Parameters:\\n', linreg.w)"
   ]
  },
  {
   "cell_type": "markdown",
   "id": "70a9f8a5",
   "metadata": {},
   "source": [
    "#### Use the Fit Model to Make a Prediction on the Testing Data"
   ]
  },
  {
   "cell_type": "code",
   "execution_count": 319,
   "id": "4d599ce5",
   "metadata": {
    "scrolled": true
   },
   "outputs": [
    {
     "name": "stdout",
     "output_type": "stream",
     "text": [
      "Actual Targets:  [ 1.04 -1.87 15.76 15.31 13.54  4.02  1.54  8.79]\n",
      "Predictions: [ 1.41 -0.5  15.46 15.76 12.92  3.83  0.09 10.68]\n"
     ]
    }
   ],
   "source": [
    "# Make a prediction with our model.\n",
    "y_pred1 = linreg.predict(X_test1)\n",
    "\n",
    "print('Actual Targets: ', np.round(y_test1, 2))\n",
    "print('Predictions:', np.round(y_pred1, 2))"
   ]
  },
  {
   "cell_type": "markdown",
   "id": "31b72c28",
   "metadata": {},
   "source": [
    "#### Data and Model visualization\n",
    "\n",
    "Now that we have fit our model, lets see what it looks like!"
   ]
  },
  {
   "cell_type": "code",
   "execution_count": 320,
   "id": "53aa35c6",
   "metadata": {},
   "outputs": [
    {
     "data": {
      "image/png": "[encoded data removed]",
      "text/plain": [
       "<Figure size 432x288 with 1 Axes>"
      ]
     },
     "metadata": {
      "needs_background": "light"
     },
     "output_type": "display_data"
    }
   ],
   "source": [
    "D = np.linspace(np.min(X_train1), np.max(X_train1), 2)\n",
    "R = linreg.predict(D)\n",
    "\n",
    "# Plot the model and data.\n",
    "plt.plot(D, R, label='regresion line', c='orange')\n",
    "plt.scatter(X_train1, y_train1, c='b', label='training data')\n",
    "plt.scatter(X_test1, y_test1, c='r', label='testing data')\n",
    "plt.xlabel('x')\n",
    "plt.ylabel('y')\n",
    "plt.title('Regression Model')\n",
    "plt.legend()\n",
    "plt.show()"
   ]
  },
  {
   "cell_type": "markdown",
   "id": "47accf46",
   "metadata": {},
   "source": [
    "#### Metrics\n",
    "It is important to measure the performance of our model. There are many regression metrics one can use, but we will just look at some of the most popular ones. We want to use the testing data to measure the performance of the model. Here $y$ represents `y_test` and $\\hat{y}$ represents `y_pred` which the models predictions on `X_test`.\n",
    "\n",
    "\n",
    "1. Mean Absolute Error (MAE): The MAE tells us the distance, on average, each point is from the line vertically. The closer MAE is to zero the better the model fits the data.\n",
    "$$ MAE = \\frac{1}{n}\\sum\\left| y_i-\\hat{y_i}  \\right| $$\n",
    "\n",
    "2. Mean Squared Error (MSE): The MSE tells us what the mean squared distance that each point is from the line. Squaring the error makes MSE much more sensative to outliers than MAE. The closer MSE is to zero the better the model fits the data.\n",
    "$$ MSE = \\frac{1}{n}\\sum\\left( y_i-\\hat{y_i}  \\right)^2 $$\n",
    "\n",
    "3. Root Mean Squared Error (RMSE): RMSE is the square root of MSE and is also sensitive to outliers. RMSD is an aggragate of magnitued of the distance of each point from the line vertically. The closer RMSE is to zero the better the model fits the data.\n",
    "$$ RMSE = \\sqrt{\\frac{1}{n}\\sum\\left( y_i-\\hat{y_i}  \\right)^2} = \\sqrt{MSE}$$\n",
    "\n",
    "4. Coefficent of Determination ($r^2$ value): Proportion of the variation in the data that is explained by the model and is a measure of 'goodness of fit'. It is in $0\\leq r^2\\leq 1$ where $r^2=0$ indicates the model explains none of the variation in the data and $r^2=1$ indicates the model perfectly explains the variation in the data. So the closer $r^2$ is to 1 the better the model fits the data.\n",
    "$$ r^2 = 1 - \\frac{\\sum\\left( y_i-\\hat{y_i}  \\right)}{\\sum\\left( y_i-\\bar{y}  \\right)}$$\n",
    "\n",
    "5. Corelation Coefficent (r value): The r value mesures the corelation between the input features and the output targets. $|r| \\leq 1$. If r is near 1, there is strong positive correlation. If r is near -1, there is strong negative correlation.\n",
    "* $0.7 ＜ |r| \\leq 1$ - strong correlation\n",
    "* $0.4 ＜ |r| ＜ 0.7$ - moderate correlation\n",
    "* $0.2 ＜ |r| ＜ 0.4$ - weak correlation\n",
    "* $0 \\leq |r| ＜ 0.2$ - no correlation\n",
    "$$r = \\frac{\\sum (x-\\bar{x})(y-\\bar{y})}{\\sum(x-\\bar{x})^2(y-\\bar{y})^2}$$\n",
    "\n",
    "$$ |r| = \\sqrt{r^2} $$"
   ]
  },
  {
   "cell_type": "code",
   "execution_count": 321,
   "id": "2df52bea",
   "metadata": {},
   "outputs": [],
   "source": [
    "def mae(y1, y2):\n",
    "    return np.sum(abs(y1-y2))/len(y1)\n",
    "           \n",
    "def mse(y1, y2):\n",
    "    return np.sum((y1-y2)**2) / len(y1)\n",
    "                  \n",
    "def rmse(y1, y2):\n",
    "    return np.sqrt(mse(y1, y2))\n",
    "                  \n",
    "def r2(y1, y2):\n",
    "    return 1 - np.sum((y1-y2)**2) / np.sum((y1-np.mean(y2))**2)\n",
    "                  \n",
    "def r(x, y):\n",
    "    sst_xx = np.sum((x-np.mean(x))**2)\n",
    "    sst_yy = np.sum((y-np.mean(y))**2)\n",
    "    sst_xy = np.sum((x-np.mean(x))*(y-np.mean(y)))\n",
    "    return sst_xy/(np.sqrt(sst_xx*sst_yy))"
   ]
  },
  {
   "cell_type": "code",
   "execution_count": 322,
   "id": "c3d91f43",
   "metadata": {
    "scrolled": true
   },
   "outputs": [
    {
     "name": "stdout",
     "output_type": "stream",
     "text": [
      "Mean Absolute Error: 0.830\n",
      "Mean Squared Error: 1.052\n",
      "Root Mean Squares Error: 1.026\n",
      "r2: 0.976\n",
      "r: 0.988\n"
     ]
    }
   ],
   "source": [
    "mae_ = mae(y_test1, y_pred1)\n",
    "mse_ = mse(y_test1, y_pred1)\n",
    "rmse_ = rmse(y_test1, y_pred1)\n",
    "r2_ = r2(y_test1, y_pred1)\n",
    "r_ = r(X_test1, y_test1)\n",
    "\n",
    "print('Mean Absolute Error: %.3f' % mae_)\n",
    "print('Mean Squared Error: %.3f' % mse_)\n",
    "print('Root Mean Squares Error: %.3f' % rmse_)\n",
    "print('r2: %.3f' % r2_)\n",
    "print('r: %.3f' % r_)"
   ]
  },
  {
   "cell_type": "markdown",
   "id": "99770b6b",
   "metadata": {},
   "source": [
    "#### Ploting Confidence Intervals"
   ]
  },
  {
   "cell_type": "code",
   "execution_count": 323,
   "id": "202a1129",
   "metadata": {},
   "outputs": [
    {
     "data": {
      "image/png": "[encoded data removed]",
      "text/plain": [
       "<Figure size 432x288 with 1 Axes>"
      ]
     },
     "metadata": {
      "needs_background": "light"
     },
     "output_type": "display_data"
    }
   ],
   "source": [
    "domain = np.linspace(np.min(X_train1), np.max(X_train1)) \n",
    "range_ = linreg.predict(domain)\n",
    "\n",
    "residules = y_train1-linreg.predict(X_train1)\n",
    "\n",
    "degfredom = len(X_train1)-2 # Degrees of freedom.\n",
    "s_err = np.sqrt(np.sum(residules**2) / degfredom)\n",
    "t_crit = sp.stats.t.ppf(0.975, degfredom) # Critical t-value from Student's t-distribution inverse cdf.\n",
    "\n",
    "pred_int = t_crit*s_err*np.sqrt(1 + 1/len(X_train1) + (domain - np.mean(X_train1))**2 \n",
    "                                    / np.sum((X_train1 - np.mean(X_train1))**2))\n",
    "conf_int = t_crit*s_err*np.sqrt(1/len(X_train1) + (domain - np.mean(X_train1))**2 \n",
    "                                    / np.sum((X_train1 - np.mean(X_train1))**2))\n",
    "\n",
    "\n",
    "# Plot the confidence intervals.\n",
    "plt.fill_between(domain, range_+conf_int, range_-conf_int, color=\"paleturquoise\", \n",
    "                 label='95% confidence limits')\n",
    "plt.plot(domain, range_-pred_int, '--', c='black',\n",
    "         label='95% prediction limits')\n",
    "plt.plot(domain, range_+pred_int, '--', c='black')\n",
    "plt.plot(domain, range_, label='regression line', c='orange')\n",
    "plt.scatter(X_train1, y_train1, c='b', label='training data')\n",
    "plt.xlabel('x')\n",
    "plt.ylabel('y')\n",
    "plt.title('Confidence and Prediction Intervals')\n",
    "plt.legend()\n",
    "plt.show()"
   ]
  },
  {
   "cell_type": "markdown",
   "id": "28d7b2e7",
   "metadata": {},
   "source": [
    "## 3. Multiple Regression\n",
    "\n",
    "Now we will look fiting some $n$-dimensional hyperplane to some data with $n$ features."
   ]
  },
  {
   "cell_type": "markdown",
   "id": "a66a7c2f",
   "metadata": {},
   "source": [
    "#### Generate Data"
   ]
  },
  {
   "cell_type": "code",
   "execution_count": 324,
   "id": "97a4f0b1",
   "metadata": {},
   "outputs": [
    {
     "data": {
      "image/png": "[encoded data removed]",
      "text/plain": [
       "<Figure size 1080x360 with 3 Axes>"
      ]
     },
     "metadata": {
      "needs_background": "light"
     },
     "output_type": "display_data"
    }
   ],
   "source": [
    "def hypPlane(X):\n",
    "    return 3*X[:,0] + 2*X[:,1] - 5*X[:,2] + 1 + np.random.normal(0, 2, len(X))\n",
    "\n",
    "np.random.seed(5)\n",
    "# Training data\n",
    "X_train2 = np.random.uniform(-2, 8, size=(15, 3))\n",
    "y_train2 = hypPlane(X_train2)\n",
    "\n",
    "# Testing data\n",
    "X_test2 = np.random.uniform(-2, 8, size=(8, 3))\n",
    "y_test2 = hypPlane(X_test2)\n",
    "\n",
    "# Plot data\n",
    "fig, ax = plt.subplots(1, 3, figsize=(15, 5))\n",
    "colors=['r', 'b', 'g']\n",
    "\n",
    "for i in range(len(X_train2[0])):\n",
    "    plt.subplot(1, 3, i+1)\n",
    "    plt.title('x' + str(i+1) + ' VS y')\n",
    "    plt.scatter(X_train2[:, i], y_train2, c=colors[i])\n",
    "    plt.ylabel('y')\n",
    "    plt.xlabel('x' + str(i+1))"
   ]
  },
  {
   "cell_type": "markdown",
   "id": "c617e5ab",
   "metadata": {},
   "source": [
    "#### Fit a Linear Regression Model to the Training Data"
   ]
  },
  {
   "cell_type": "code",
   "execution_count": 325,
   "id": "d392f076",
   "metadata": {},
   "outputs": [
    {
     "name": "stdout",
     "output_type": "stream",
     "text": [
      "Regression Model:\n",
      " y = 2.8592781562368876 + 2.943807572925703*x_1 + 1.8025687144405447*x_2 + -5.161280219189672*x_3 \n",
      "\n",
      "Model Parameters:\n",
      " [ 2.85927816  2.94380757  1.80256871 -5.16128022]\n"
     ]
    }
   ],
   "source": [
    "multreg = LinearRegression()\n",
    "multreg.fit(X_train2, y_train2)\n",
    "\n",
    "print('Regression Model:\\n', multreg, \"\\n\")\n",
    "print('Model Parameters:\\n', multreg.w)"
   ]
  },
  {
   "cell_type": "code",
   "execution_count": 326,
   "id": "66f50c0d",
   "metadata": {},
   "outputs": [
    {
     "name": "stdout",
     "output_type": "stream",
     "text": [
      "Actual Targets:  [ 15.43 -22.8    2.05  -7.12   3.43 -13.72  35.96   5.56]\n",
      "Predictions: [ 18.31 -22.19   0.1  -10.9    4.32 -12.77  38.04   6.31]\n"
     ]
    }
   ],
   "source": [
    "y_pred2 = multreg.predict(X_test2)\n",
    "\n",
    "print('Actual Targets: ', np.round(y_test2, 2))\n",
    "print('Predictions:', np.round(y_pred2, 2))"
   ]
  },
  {
   "cell_type": "code",
   "execution_count": 327,
   "id": "08c89a47",
   "metadata": {},
   "outputs": [
    {
     "data": {
      "image/png": "[encoded data removed]",
      "text/plain": [
       "<Figure size 432x288 with 1 Axes>"
      ]
     },
     "metadata": {
      "needs_background": "light"
     },
     "output_type": "display_data"
    }
   ],
   "source": [
    "plt.hist((y_test2-y_pred2), bins=12, weights=np.ones(len(y_test2))/len(y_test2))\n",
    "plt.title('Residual Histogram')\n",
    "plt.xlabel('Eesiduals')\n",
    "plt.ylabel('Percentage')\n",
    "plt.show()"
   ]
  },
  {
   "cell_type": "markdown",
   "id": "f39e318c",
   "metadata": {},
   "source": [
    "#### Metrics\n",
    "\n",
    "$$ MAE = \\frac{1}{n}\\sum\\left| y_i-\\hat{y_i}  \\right| $$\n",
    "\n",
    "$$ MSE = \\frac{1}{n}\\sum\\left( y_i-\\hat{y_i}  \\right)^2 $$\n",
    "\n",
    "$$ RMSE = \\sqrt{\\frac{1}{n}\\sum\\left( y_i-\\hat{y_i}  \\right)^2} = \\sqrt{MSE}$$\n",
    "\n",
    "$$ r^2 = 1 - \\frac{\\sum\\left( y_i-\\hat{y_i}  \\right)}{\\sum\\left( y_i-\\bar{y}  \\right)} $$"
   ]
  },
  {
   "cell_type": "code",
   "execution_count": 333,
   "id": "b1a387a8",
   "metadata": {},
   "outputs": [
    {
     "name": "stdout",
     "output_type": "stream",
     "text": [
      "Mean Absolute Error: 1.739\n",
      "Mean Squared Error: 4.174\n",
      "Root Mean Squares Error: 2.043\n",
      "r2: 0.985\n"
     ]
    }
   ],
   "source": [
    "mae_ = mae(y_test2, y_pred2)\n",
    "mse_ = mse(y_test2, y_pred2)\n",
    "rmse_ = rmse(y_test2, y_pred2)\n",
    "r2_ = r2(y_test2, y_pred2)\n",
    "\n",
    "print('Mean Absolute Error: %.3f' % mae_)\n",
    "print('Mean Squared Error: %.3f' % mse_)\n",
    "print('Root Mean Squares Error: %.3f' % rmse_)\n",
    "print('r2: %.3f' % r2_)\n",
    "\n",
    "from sklearn.metrics import r2_score"
   ]
  },
  {
   "cell_type": "markdown",
   "id": "c94a3045",
   "metadata": {},
   "source": [
    "## 4. Polynomial Regression"
   ]
  },
  {
   "cell_type": "code",
   "execution_count": null,
   "id": "6035de1d",
   "metadata": {},
   "outputs": [],
   "source": [
    "def poly(x):\n",
    "    return -0.1*x**3 + 0.8*x**2 + 2*x + 1 + np.random.normal(0, 2, len(x))\n",
    "\n",
    "np.random.seed(123)\n",
    "X_train3 = np.random.uniform(-5, 10, 15)\n",
    "y_train3 = poly(X_train3)\n",
    "\n",
    "X_test3 = np.random.uniform(-5, 10, 8)\n",
    "y_test3 = poly(X_test3)\n",
    "\n",
    "plt.scatter(X_train3, y_train3, label='training data', c='b')\n",
    "plt.scatter(X_test3, y_test3, label='testing data', c='r')\n",
    "plt.title('Polynomial Data')\n",
    "plt.xlabel('x')\n",
    "plt.ylabel('y')\n",
    "plt.legend()"
   ]
  },
  {
   "cell_type": "code",
   "execution_count": null,
   "id": "60d760a2",
   "metadata": {},
   "outputs": [],
   "source": [
    "def poly_features(x, deg):\n",
    "    X = np.zeros((len(x), deg))\n",
    "    \n",
    "    for i in range(deg):\n",
    "        X[:, i] = x**(i+1)\n",
    "    \n",
    "    return X\n",
    "\n",
    "degree = 3 # Degree of the polynomial\n",
    "\n",
    "polyreg = LinearRegression(poly=True)\n",
    "polyreg.fit(poly_features(X_train3, degree), y_train3)\n",
    "\n",
    "print('Regression Model:\\n', polyreg, \"\\n\")\n",
    "print('Model Parameters:\\n', polyreg.w)"
   ]
  },
  {
   "cell_type": "code",
   "execution_count": null,
   "id": "b7814319",
   "metadata": {},
   "outputs": [],
   "source": [
    "y_pred3 = polyreg.predict(poly_features(X_test3, 3))\n",
    "\n",
    "print('Actual Targets: ', np.round(y_test3, 2))\n",
    "print('Predictions:', np.round(y_pred3, 2))"
   ]
  },
  {
   "cell_type": "code",
   "execution_count": null,
   "id": "583fba16",
   "metadata": {},
   "outputs": [],
   "source": [
    "D = np.linspace(np.min(X_train3), np.max(X_train3), 50)\n",
    "R = polyreg.predict(poly_features(D, degree))\n",
    "\n",
    "plt.plot(D, R, label='regresion polynomial', c='orange')\n",
    "plt.scatter(X_train3, y_train3, c='b', label='training data')\n",
    "plt.scatter(X_test3, y_test3, c='r', label='testing data')\n",
    "plt.xlabel('x')\n",
    "plt.ylabel('y')\n",
    "plt.title('Regression Model')\n",
    "plt.show()"
   ]
  },
  {
   "cell_type": "markdown",
   "id": "754073eb",
   "metadata": {},
   "source": [
    "#### Metrics\n",
    "\n",
    "$$ MAE = \\frac{1}{n}\\sum\\left| y_i-\\hat{y_i}  \\right| $$\n",
    "\n",
    "$$ MSE = \\frac{1}{n}\\sum\\left( y_i-\\hat{y_i}  \\right)^2 $$\n",
    "\n",
    "$$ RMSE = \\sqrt{\\frac{1}{n}\\sum\\left( y_i-\\hat{y_i}  \\right)^2} = \\sqrt{MSE}$$\n",
    "\n",
    "$$ r^2 = 1 - \\frac{\\sum\\left( y_i-\\hat{y_i}  \\right)}{\\sum\\left( y_i-\\bar{y}  \\right)} $$\n",
    "\n",
    "$$ r = \\sqrt{r^2} $$"
   ]
  },
  {
   "cell_type": "code",
   "execution_count": null,
   "id": "af178805",
   "metadata": {},
   "outputs": [],
   "source": [
    "mae_ = mae(y_test3, y_pred3)\n",
    "mse_ = mse(y_test3, y_pred3)\n",
    "rmse_ = rmse(y_test3, y_pred3)\n",
    "r2_ = r2(y_test3, y_pred3)\n",
    "r_ = r(X_test3, y_test3)\n",
    "\n",
    "print('Mean Absolute Error: %.3f' % mae_)\n",
    "print('Mean Squared Error: %.3f' % mse_)\n",
    "print('Root Mean Squares Error: %.3f' % rmse_)\n",
    "print('r2: %.3f' % r2_)\n",
    "print('r: %.3f' % r_)"
   ]
  },
  {
   "cell_type": "code",
   "execution_count": null,
   "id": "29b94173",
   "metadata": {},
   "outputs": [],
   "source": [
    "domain = np.linspace(np.min(X_train3), np.max(X_train3)) \n",
    "range_ = polyreg.predict(poly_features(domain, degree))\n",
    "\n",
    "residules = y_train-polyreg.predict(poly_features(X_train3, degree))\n",
    "\n",
    "degfredom = len(X_train)-2 # Degrees of freedom.\n",
    "s_err = np.sqrt(np.sum(residules**2) / degfredom)\n",
    "t_crit = sp.stats.t.ppf(0.975, degfredom) # Critical t-value from Student's t-distribution inverse cdf.\n",
    "\n",
    "pred_int = t_crit*s_err*np.sqrt(1 + 1/len(X_train3) + \n",
    "                                (domain - np.mean(X_train3))**2 / np.sum((X_train3 - np.mean(X_train3))**2))\n",
    "conf_int = t_crit*s_err*np.sqrt(1/len(X_train) + \n",
    "                                (domain - np.mean(X_train3))**2 / np.sum((X_train3 - np.mean(X_train3))**2))\n",
    "\n",
    "\n",
    "# Plot the confidence intervals.\n",
    "plt.fill_between(domain, range_+conf_int, range_-conf_int, color=\"paleturquoise\", \n",
    "                 label='95% confidence limits')\n",
    "plt.plot(domain, range_-pred_int, '--', c='black',\n",
    "         label='95% prediction limits')\n",
    "plt.plot(domain, range_+pred_int, '--', c='black')\n",
    "plt.plot(domain, range_, label='regression line', c='orange')\n",
    "plt.scatter(X_train3, y_train3, c='b', label='training data')\n",
    "plt.xlabel('x')\n",
    "plt.ylabel('y')\n",
    "plt.title('Confidence and Prediction Intervals')\n",
    "plt.legend()\n",
    "plt.show()"
   ]
  },
  {
   "cell_type": "code",
   "execution_count": null,
   "id": "9c90bce2",
   "metadata": {},
   "outputs": [],
   "source": []
  }
 ],
 "metadata": {
  "kernelspec": {
   "display_name": "Python 3",
   "language": "python",
   "name": "python3"
  },
  "language_info": {
   "codemirror_mode": {
    "name": "ipython",
    "version": 3
   },
   "file_extension": ".py",
   "mimetype": "text/x-python",
   "name": "python",
   "nbconvert_exporter": "python",
   "pygments_lexer": "ipython3",
   "version": "3.8.8"
  }
 },
 "nbformat": 4,
 "nbformat_minor": 5
}
