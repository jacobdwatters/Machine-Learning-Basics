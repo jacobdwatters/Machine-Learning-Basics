{
  "nbformat": 4,
  "nbformat_minor": 0,
  "metadata": {
    "colab": {
      "provenance": [],
      "authorship_tag": "ABX9TyPzq+p+5Gr9ruvzY1Ap1dT4",
      "include_colab_link": true
    },
    "kernelspec": {
      "name": "python3",
      "display_name": "Python 3"
    },
    "language_info": {
      "name": "python"
    }
  },
  "cells": [
    {
      "cell_type": "markdown",
      "metadata": {
        "id": "view-in-github",
        "colab_type": "text"
      },
      "source": [
        "<a href=\"https://colab.research.google.com/github/jacobdwatters/Machine-Learning-Basics/blob/main/01_linreg_numpy_new.ipynb\" target=\"_parent\"><img src=\"https://colab.research.google.com/assets/colab-badge.svg\" alt=\"Open In Colab\"/></a>"
      ]
    },
    {
      "cell_type": "markdown",
      "source": [
        "---\n",
        "\n",
        "# Linear Regression With NumPy\n",
        "\n",
        "---\n",
        "\n",
        "-- For more information on this code, watch the video lecture(s) --\n",
        "\n",
        "In this notebook we will explore implimenting a linear regression model using only NumPy.\n",
        "We will explore three linear regression models: A single variable line, a multivariable hyperplane, and a polynomial.\n",
        "\n",
        "##### Main Sections:\n",
        "1. defining the linear regression model\n",
        "2. linear regression with single variable\n",
        "3. linear regression with multiple variables\n",
        "4. polynomial regression\n",
        "5. other linear regression models\n",
        "6. conclusion"
      ],
      "metadata": {
        "id": "QH9Fe9NQZjnR"
      }
    },
    {
      "cell_type": "markdown",
      "metadata": {
        "id": "18355b64"
      },
      "source": [
        "#### Imports and Setup"
      ]
    },
    {
      "cell_type": "code",
      "execution_count": 1,
      "metadata": {
        "id": "8YhZr53uZgCu"
      },
      "outputs": [],
      "source": [
        "import numpy as np\n",
        "import scipy as sp\n",
        "from scipy import stats\n",
        "import matplotlib.pyplot as plt"
      ]
    },
    {
      "cell_type": "markdown",
      "metadata": {
        "id": "83196f0f"
      },
      "source": [
        "<a id='section_1'></a>\n",
        "\n",
        "---\n",
        "\n",
        "## 1. Define the Linear Regression Class\n",
        "\n",
        "---\n",
        "\n",
        "We will use this same model for single variable, multi-variable, and polynomial regression.\n",
        "\n",
        "Recall, for linear regression we wish to solve $\\boldsymbol{X}^T\\boldsymbol{Xw} = \\boldsymbol{X}^T\\boldsymbol{y}$ for $\\boldsymbol{w}.$"
      ]
    },
    {
      "cell_type": "code",
      "execution_count": null,
      "metadata": {
        "id": "21e1e00d"
      },
      "outputs": [],
      "source": [
        "class LinearRegression:\n",
        "    \"\"\"\n",
        "    This implements a simple linear regression model\n",
        "\n",
        "    Attributes:\n",
        "        w (int): The weights/parameters/coefficient of the regression model.\n",
        "    \"\"\"\n",
        "\n",
        "    def __init__(self, poly=False):\n",
        "        \"\"\"\n",
        "        Creates a linear regression model.\n",
        "\n",
        "        Args:\n",
        "          poly (optional): Flag indicating if the linear regression model is\n",
        "          being used for polynomial regression (defaults to False). This only\n",
        "          effects the string representation of the model.\n",
        "        \"\"\"\n",
        "        self.w = None\n",
        "        self._is_fit = False  # Flag indicating the model has not yet been fit.\n",
        "\n",
        "\n",
        "    def fit(self, X, y):\n",
        "        \"\"\"\n",
        "        Fits this linear regression model to the provided data.\n",
        "\n",
        "        Args:\n",
        "          X: Training feature data.\n",
        "          y: Training target data.\n",
        "        \"\"\"\n",
        "        assert len(X) == len(y)\n",
        "        self._is_fit = True\n",
        "\n",
        "        # Place a column of ones on the left of the features matrix X.\n",
        "        X = np.column_stack((np.ones(len(X)), X))\n",
        "\n",
        "        # Form the system of equations.\n",
        "        A = X.T@X\n",
        "        b = X.T@y\n",
        "\n",
        "        # Solve the system of linear equations.\n",
        "        self.w = np.linalg.solve(A, b)\n",
        "\n",
        "\n",
        "    def predict(self, X):\n",
        "        \"\"\"\n",
        "        Make predictions using this linear regression model.\n",
        "\n",
        "        Args:\n",
        "          X: Samples to make predictions on.\n",
        "\n",
        "        Returns:\n",
        "          ndarray: The linear models target predictions for the provided inputs.\n",
        "        \"\"\"\n",
        "        if not self._is_fit:\n",
        "          raise ValueError('Model must be fit before calling predict.')\n",
        "\n",
        "        # Place a column of ones on the left of the features matrix X.\n",
        "        X = np.column_stack((np.ones(len(X)), X))\n",
        "        return X@self.w\n",
        "\n",
        "\n",
        "    def __str__(self):\n",
        "        \"\"\"Returns a string representation of this linear model.\"\"\"\n",
        "\n",
        "        model_str = 'y = '\n",
        "        flat_w = self.w.round(3).flatten()\n",
        "\n",
        "        for i in range(len(flat_w)):\n",
        "            if i==0:\n",
        "                model_str += str(flat_w[i])\n",
        "            else:\n",
        "                model_str += ' + ' + str(flat_w[i]) + '*x_' + str(i)\n",
        "\n",
        "        return model_str"
      ]
    }
  ]
}