{
  "nbformat": 4,
  "nbformat_minor": 0,
  "metadata": {
    "colab": {
      "name": "01-logistic_regression_numpy.ipynb",
      "provenance": [],
      "authorship_tag": "ABX9TyPqQqPEBulmJPVCizL37SLt",
      "include_colab_link": true
    },
    "kernelspec": {
      "name": "python3",
      "display_name": "Python 3"
    },
    "language_info": {
      "name": "python"
    }
  },
  "cells": [
    {
      "cell_type": "markdown",
      "metadata": {
        "id": "view-in-github",
        "colab_type": "text"
      },
      "source": [
        "<a href=\"https://colab.research.google.com/github/jacobdwatters/Machine-Learning-Basics/blob/main/logistic_regression/01_logistic_regression_numpy.ipynb\" target=\"_parent\"><img src=\"https://colab.research.google.com/assets/colab-badge.svg\" alt=\"Open In Colab\"/></a>"
      ]
    },
    {
      "cell_type": "code",
      "source": [
        "import numpy as np\n",
        "import matplotlib.pyplot as plt"
      ],
      "metadata": {
        "id": "JkfR4Eq6U3jC"
      },
      "execution_count": 2,
      "outputs": []
    },
    {
      "cell_type": "code",
      "execution_count": 23,
      "metadata": {
        "colab": {
          "base_uri": "https://localhost:8080/"
        },
        "id": "_kWrszIjUVuu",
        "outputId": "cd74e8db-4f31-4b35-97ef-cafd8eba1705"
      },
      "outputs": [
        {
          "output_type": "stream",
          "name": "stdout",
          "text": [
            "[[0.51954345]\n",
            " [4.23321782]]\n"
          ]
        }
      ],
      "source": [
        "class LogisticRegression:\n",
        "  def __init__(self):\n",
        "    self.w = np.array([0.98, 1.43]).reshape(-1, 1) # TEMP\n",
        "    self.lr=0.01 # TEMP\n",
        "\n",
        "  def sigmoid(self, X):\n",
        "    return 1 / (1+np.exp(-X@self.w))\n",
        "\n",
        "  def bce(self, X, y):\n",
        "    return np.sum(y*np.log(self.sigmoid(X)) + (1-y)*np.log(1-self.sigmoid(X)))\n",
        "\n",
        "  def bce_grad(self, X, y):\n",
        "    return X.T@(y-self.sigmoid(X))\n",
        "\n",
        "  def gradient_descent(self, X, y):\n",
        "    for i in range(10):\n",
        "      self.w = self.w - self.lr*self.bce_grad(X, y)\n",
        "\n",
        "  def fit(self, X, y):\n",
        "    self.gradient_descent(X, y)\n",
        "    return self.w\n",
        "\n",
        "X = np.array([[1, -1.37], \n",
        "              [1, -1.75], \n",
        "              [1, -3.9], \n",
        "              [1, -3], \n",
        "              [1, -3.43],\n",
        "              [1, -4.68],\n",
        "              [1, 0.63],\n",
        "              [1, -7.1],\n",
        "              [1, -2.14],\n",
        "              [1, -2.95],\n",
        "              [1, -5.9],\n",
        "              [1, -0.64]])\n",
        "y = np.array([0, 0, 1, 0, 1, 1, 0, 1, 0, 1, 1, 0]).reshape(-1, 1)\n",
        "logreg = LogisticRegression()\n",
        "print(logreg.fit(X, y))"
      ]
    }
  ]
}