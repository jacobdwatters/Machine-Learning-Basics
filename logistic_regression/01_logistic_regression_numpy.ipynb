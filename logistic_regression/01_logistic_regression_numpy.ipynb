{
  "nbformat": 4,
  "nbformat_minor": 0,
  "metadata": {
    "colab": {
      "name": "01-logistic_regression_numpy.ipynb",
      "provenance": [],
      "authorship_tag": "ABX9TyOtvmukkdN1ZSfucGg2nBpT",
      "include_colab_link": true
    },
    "kernelspec": {
      "name": "python3",
      "display_name": "Python 3"
    },
    "language_info": {
      "name": "python"
    }
  },
  "cells": [
    {
      "cell_type": "markdown",
      "metadata": {
        "id": "view-in-github",
        "colab_type": "text"
      },
      "source": [
        "<a href=\"https://colab.research.google.com/github/jacobdwatters/Machine-Learning-Basics/blob/main/logistic_regression/01_logistic_regression_numpy.ipynb\" target=\"_parent\"><img src=\"https://colab.research.google.com/assets/colab-badge.svg\" alt=\"Open In Colab\"/></a>"
      ]
    },
    {
      "cell_type": "markdown",
      "source": [
        "Logistic Regression With NumPy"
      ],
      "metadata": {
        "id": "tb9F9-I3CTfB"
      }
    },
    {
      "cell_type": "markdown",
      "source": [
        "#### Imports and Setup"
      ],
      "metadata": {
        "id": "Qh_oFtcUCL-d"
      }
    },
    {
      "cell_type": "code",
      "source": [
        "import numpy as np\n",
        "import matplotlib.pyplot as plt"
      ],
      "metadata": {
        "id": "JkfR4Eq6U3jC"
      },
      "execution_count": 75,
      "outputs": []
    },
    {
      "cell_type": "code",
      "execution_count": 92,
      "metadata": {
        "colab": {
          "base_uri": "https://localhost:8080/"
        },
        "id": "_kWrszIjUVuu",
        "outputId": "3ffea34b-781f-493d-8b88-85b47c024db1"
      },
      "outputs": [
        {
          "output_type": "stream",
          "name": "stdout",
          "text": [
            "y = 1 / [1 + e^{-(-9.353887325455656 + -3.234971300658028x_1)}]\n"
          ]
        }
      ],
      "source": [
        "class LogisticRegression:\n",
        "  def __init__(self, lr=0.05, iterations=1000):\n",
        "    self.lr = lr\n",
        "    self.iterations = iterations \n",
        "\n",
        "  def sigmoid(self, X):\n",
        "    return 1 / (1+np.exp(-X@self.w))\n",
        "  \n",
        "  def bce_grad(self, X, y):\n",
        "    return X.T@(self.sigmoid(X)-y)\n",
        "\n",
        "  def fit(self, X, y):\n",
        "    V = np.column_stack((np.ones(len(X)), X))\n",
        "    self.w = np.random.randn(len(V[0])).reshape(-1, 1)\n",
        "    \n",
        "    # Gradient Descent\n",
        "    for i in range(self.iterations):\n",
        "      self.w = self.w - self.lr*self.bce_grad(V, y)\n",
        "\n",
        "  def predict(self, X):\n",
        "    V = np.column_stack((np.ones(len(X)), X))\n",
        "    return self.sigmoid(V)\n",
        "\n",
        "  def __str__(self):\n",
        "    model_str = 'y = 1 / [1 + e^{-('\n",
        "\n",
        "    for i, w_i in enumerate(self.w.flatten()):\n",
        "      model_str += str(w_i)\n",
        "\n",
        "      if i>0:\n",
        "        model_str += \"x_\" + str(i)\n",
        "      if i!=len(self.w)-1:\n",
        "        model_str += ' + '\n",
        "\n",
        "    return model_str + ')}]'\n",
        "\n",
        "\n",
        "X = np.array([-1.37, -1.75, -3.9, -3.0, -3.43, -4.68, 0.63, -7.1, -2.14, -2.95, -5.9, -0.64]).reshape(-1, 1)\n",
        "y = np.array([0, 0, 1, 0, 1, 1, 0, 1, 0, 1, 1, 0]).reshape(-1, 1)\n",
        "logreg = LogisticRegression()\n",
        "logreg.fit(X, y)\n",
        "\n",
        "print(logreg)"
      ]
    },
    {
      "cell_type": "markdown",
      "source": [
        "#### Generate Dataset"
      ],
      "metadata": {
        "id": "j-wlUDUqFcXY"
      }
    },
    {
      "cell_type": "code",
      "source": [
        "X_train = np.array([-1.37, -1.75, -3.9, -3.0, -3.43, -4.68, 0.63, -7.1, -2.14, -2.95, -5.9, -0.64]).reshape(-1, 1)\n",
        "y_train = np.array([0, 0, 1, 0, 1, 1, 0, 1, 0, 1, 1, 0]).reshape(-1, 1)\n",
        "\n",
        "X_test = np.array([-6.2, -5.1, -2.5, 1]).reshape(-1, 1)\n",
        "y_test = np.array([1, 1, 0, 0])\n",
        "\n",
        "plt.scatter(X_train, y_train, c='tab:blue', label='training data')\n",
        "plt.scatter(X_test, y_test, c='tab:orange', label='testing data')\n",
        "plt.title(\"Dataset\")\n",
        "plt.legend()\n",
        "plt.plot()"
      ],
      "metadata": {
        "id": "6s-GMUKv_l7G",
        "outputId": "4e0f196a-ff02-4971-cfdc-8e4157a3c4df",
        "colab": {
          "base_uri": "https://localhost:8080/",
          "height": 298
        }
      },
      "execution_count": 93,
      "outputs": [
        {
          "output_type": "execute_result",
          "data": {
            "text/plain": [
              "[]"
            ]
          },
          "metadata": {},
          "execution_count": 93
        },
        {
          "output_type": "display_data",
          "data": {
            "text/plain": [
              "<Figure size 432x288 with 1 Axes>"
            ],
            "image/png": "[encoded data removed]"
          },
          "metadata": {
            "needs_background": "light"
          }
        }
      ]
    },
    {
      "cell_type": "code",
      "source": [
        "logreg = LogisticRegression(0.5)\n",
        "logreg.fit(X_train, y_train)\n",
        "\n",
        "D = np.linspace(-10, 4, 100)\n",
        "R = logreg.predict(D)\n",
        "\n",
        "plt.scatter(X_train, y_train, c='tab:blue', label='training data')\n",
        "plt.scatter(X_test, y_test, c='tab:orange', label='testing data')\n",
        "plt.plot(D, R, c='tab:red', label='logistic curve')\n",
        "plt.legend()\n",
        "plt.plot()"
      ],
      "metadata": {
        "id": "3Cxgc9XJNtUS",
        "outputId": "3d2a670c-c28e-4596-f123-9d2ecf6c16b0",
        "colab": {
          "base_uri": "https://localhost:8080/",
          "height": 282
        }
      },
      "execution_count": 101,
      "outputs": [
        {
          "output_type": "execute_result",
          "data": {
            "text/plain": [
              "[]"
            ]
          },
          "metadata": {},
          "execution_count": 101
        },
        {
          "output_type": "display_data",
          "data": {
            "text/plain": [
              "<Figure size 432x288 with 1 Axes>"
            ],
            "image/png": "[encoded data removed]"
          },
          "metadata": {
            "needs_background": "light"
          }
        }
      ]
    }
  ]
}