{
  "nbformat": 4,
  "nbformat_minor": 0,
  "metadata": {
    "colab": {
      "name": "01-logistic_regression_numpy.ipynb",
      "provenance": [],
      "toc_visible": true,
      "include_colab_link": true
    },
    "kernelspec": {
      "name": "python3",
      "display_name": "Python 3"
    },
    "language_info": {
      "name": "python"
    }
  },
  "cells": [
    {
      "cell_type": "markdown",
      "metadata": {
        "id": "view-in-github",
        "colab_type": "text"
      },
      "source": [
        "<a href=\"https://colab.research.google.com/github/jacobdwatters/Machine-Learning-Basics/blob/main/logistic_regression/01_logistic_regression_numpy.ipynb\" target=\"_parent\"><img src=\"https://colab.research.google.com/assets/colab-badge.svg\" alt=\"Open In Colab\"/></a>"
      ]
    },
    {
      "cell_type": "markdown",
      "source": [
        "---\n",
        "\n",
        "# Logistic Regression With NumPy\n",
        "\n",
        "---\n"
      ],
      "metadata": {
        "id": "tb9F9-I3CTfB"
      }
    },
    {
      "cell_type": "markdown",
      "source": [
        "#### Imports and Setup"
      ],
      "metadata": {
        "id": "Qh_oFtcUCL-d"
      }
    },
    {
      "cell_type": "code",
      "source": [
        "import numpy as np\n",
        "import matplotlib\n",
        "import matplotlib.pyplot as plt\n",
        "import seaborn as sns\n",
        "\n",
        "\n",
        "%matplotlib inline"
      ],
      "metadata": {
        "id": "JkfR4Eq6U3jC"
      },
      "execution_count": 285,
      "outputs": []
    },
    {
      "cell_type": "markdown",
      "source": [
        "---\n",
        "\n",
        "## 1. Define the Logistic Regression Class\n",
        "\n",
        "---"
      ],
      "metadata": {
        "id": "eqTWqWIzPrmu"
      }
    },
    {
      "cell_type": "code",
      "execution_count": 286,
      "metadata": {
        "id": "_kWrszIjUVuu"
      },
      "outputs": [],
      "source": [
        "class LogisticRegression:\n",
        "  \n",
        "  def __init__(self, lr=0.05, iterations=1000):\n",
        "    self.lr = lr\n",
        "    self.iterations = iterations \n",
        "\n",
        "  def sigmoid(self, X):\n",
        "    \"\"\"sigmoid/logistic function\"\"\"\n",
        "    return 1 / (1+np.exp(-X@self.w))\n",
        "  \n",
        "  def bce_grad(self, X, y):\n",
        "    \"\"\"binary cross-entropy gradient\"\"\"\n",
        "    return X.T@(self.sigmoid(X)-y)\n",
        "\n",
        "  def grad_descent(self, V, y):\n",
        "    \"\"\"Gradient Descent\"\"\"\n",
        "    # initialize weights to random value\n",
        "    self.w = np.random.normal(0, 0.2, size=(len(V[0]), 1))\n",
        "\n",
        "    for i in range(self.iterations):\n",
        "      self.w = self.w - self.lr*self.bce_grad(V, y)\n",
        "\n",
        "  def fit(self, X, y):\n",
        "    V = np.column_stack((np.ones(len(X)), X))\n",
        "    self.grad_descent(V, y)\n",
        "\n",
        "  def predict(self, X):\n",
        "    V = np.column_stack((np.ones(len(X)), X))\n",
        "    return np.round(self.sigmoid(V))\n",
        "\n",
        "  def predict_proba(self, X):\n",
        "    V = np.column_stack((np.ones(len(X)), X))\n",
        "    predictions = self.sigmoid(V)\n",
        "    return np.column_stack((predictions, 1-predictions))\n",
        "\n",
        "  def __str__(self):\n",
        "    model_str = 'y = 1 / [1 + e^{-('\n",
        "\n",
        "    for i, w_i in enumerate(self.w.flatten()):\n",
        "      model_str += str(w_i)\n",
        "\n",
        "      if i>0:\n",
        "        model_str += \"x_\" + str(i)\n",
        "      if i!=len(self.w)-1:\n",
        "        model_str += ' + '\n",
        "\n",
        "    return model_str + ')}]'"
      ]
    },
    {
      "cell_type": "markdown",
      "source": [
        "---\n",
        "\n",
        "## 2. One Dimensional Logistic Regression\n",
        "\n",
        "---\n",
        "\n",
        "First, we will take a look at fitting a logistic regression model to a dataset with a single feature and a single target."
      ],
      "metadata": {
        "id": "UZD_1jxQbikm"
      }
    },
    {
      "cell_type": "markdown",
      "source": [
        "#### Generate Dataset"
      ],
      "metadata": {
        "id": "j-wlUDUqFcXY"
      }
    },
    {
      "cell_type": "code",
      "source": [
        "train_size = 150\n",
        "test_size = 60\n",
        "\n",
        "np.random.seed(42)\n",
        "\n",
        "# Training dataset\n",
        "X_train1 = np.append(\n",
        "      np.random.normal(-5, 2, train_size//2), \n",
        "      np.random.normal(-1, 2, train_size//2)\n",
        "    ).reshape(-1, 1)\n",
        "y_train1 = np.append(\n",
        "      [1]*(train_size//2), \n",
        "      [0]*(train_size//2)\n",
        "    ).reshape(-1, 1)\n",
        "\n",
        "# Testing dataset\n",
        "X_test1 = np.append(\n",
        "      np.random.normal(-5, 2, test_size//2), \n",
        "      np.random.normal(-1, 2, test_size//2)\n",
        "    ).reshape(-1, 1)\n",
        "y_test1 = np.append(\n",
        "      [1]*(test_size//2), \n",
        "      [0]*(test_size//2)\n",
        "    ).reshape(-1, 1)\n",
        "\n",
        "plt.scatter(X_train1, y_train1, c='tab:blue', label='training data', alpha=0.5)\n",
        "plt.scatter(X_test1, y_test1, c='tab:red', label='testing data', alpha=0.5)\n",
        "plt.title(\"Dataset\")\n",
        "plt.yticks([0, 1])\n",
        "plt.ylabel('class label')\n",
        "plt.legend()\n",
        "plt.show()"
      ],
      "metadata": {
        "colab": {
          "base_uri": "https://localhost:8080/",
          "height": 281
        },
        "id": "6s-GMUKv_l7G",
        "outputId": "915d572c-620f-46b4-c804-30bb51f6e60c"
      },
      "execution_count": 287,
      "outputs": [
        {
          "output_type": "display_data",
          "data": {
            "text/plain": [
              "<Figure size 432x288 with 1 Axes>"
            ],
            "image/png": "[encoded data removed]"
          },
          "metadata": {
            "needs_background": "light"
          }
        }
      ]
    },
    {
      "cell_type": "markdown",
      "source": [
        "#### Fit a Logistic Regression Model to the Training Data"
      ],
      "metadata": {
        "id": "ujXbI0bCO5rF"
      }
    },
    {
      "cell_type": "code",
      "source": [
        "logreg = LogisticRegression(0.01)\n",
        "logreg.fit(X_train1, y_train1)\n",
        "\n",
        "print('Regression Model:\\n', logreg, \"\\n\")\n",
        "print('Model Parameters:\\n', logreg.w.flatten())"
      ],
      "metadata": {
        "colab": {
          "base_uri": "https://localhost:8080/"
        },
        "id": "3Cxgc9XJNtUS",
        "outputId": "a318a558-c08c-4e93-a414-8df462aa6b17"
      },
      "execution_count": 288,
      "outputs": [
        {
          "output_type": "stream",
          "name": "stdout",
          "text": [
            "Regression Model:\n",
            " y = 1 / [1 + e^{-(-3.807275240299877 + -1.2148588040793835x_1)}] \n",
            "\n",
            "Model Parameters:\n",
            " [-3.80727524 -1.2148588 ]\n"
          ]
        }
      ]
    },
    {
      "cell_type": "markdown",
      "source": [
        "#### Use Fit Model to Make Predictions on the Testing Data"
      ],
      "metadata": {
        "id": "ca6ZJmGif_3P"
      }
    },
    {
      "cell_type": "code",
      "source": [
        "np.random.seed(100)\n",
        "y_pred1 = logreg.predict(X_test1)\n",
        "y_pred_proba1 = logreg.predict_proba(X_test1)\n",
        "\n",
        "print('First 10 predictions:\\n' + '-'*21)\n",
        "print('Class Predictions:', y_pred1.flatten()[0:10])\n",
        "print('Class Probabilities:\\n', np.round(y_pred_proba1, 3)[0:10])"
      ],
      "metadata": {
        "colab": {
          "base_uri": "https://localhost:8080/"
        },
        "id": "7h_NjL_PgJCl",
        "outputId": "984f44d1-a3b4-4799-b42c-19de8bb7268c"
      },
      "execution_count": 289,
      "outputs": [
        {
          "output_type": "stream",
          "name": "stdout",
          "text": [
            "First 10 predictions:\n",
            "---------------------\n",
            "Class Predictions: [1. 1. 1. 1. 1. 1. 0. 1. 1. 1.]\n",
            "Class Probabilities:\n",
            " [[0.84  0.16 ]\n",
            " [0.806 0.194]\n",
            " [0.981 0.019]\n",
            " [0.846 0.154]\n",
            " [0.826 0.174]\n",
            " [0.982 0.018]\n",
            " [0.094 0.906]\n",
            " [0.753 0.247]\n",
            " [0.994 0.006]\n",
            " [0.662 0.338]]\n"
          ]
        }
      ]
    },
    {
      "cell_type": "markdown",
      "source": [
        "#### Model Visualization"
      ],
      "metadata": {
        "id": "me7M-z7SPRsC"
      }
    },
    {
      "cell_type": "code",
      "source": [
        "D = np.linspace(-10, 4, 100)\n",
        "R = logreg.predict(D)\n",
        "\n",
        "plt.scatter(X_train1, y_train1, c='tab:blue', label='training data', alpha=0.5)\n",
        "plt.scatter(X_test1, y_test1, c='tab:orange', label='testing data', alpha=0.5)\n",
        "plt.plot(D, R, c='tab:red', label='logreg model')\n",
        "plt.title(\"Logistic Regression Model\")\n",
        "plt.yticks([0, 1])\n",
        "plt.ylabel('class label')\n",
        "plt.legend()\n",
        "plt.show()"
      ],
      "metadata": {
        "id": "ni73Cd4aPV89",
        "outputId": "f43e8269-71d0-4c80-8c4a-6b0491d318aa",
        "colab": {
          "base_uri": "https://localhost:8080/",
          "height": 281
        }
      },
      "execution_count": 290,
      "outputs": [
        {
          "output_type": "display_data",
          "data": {
            "text/plain": [
              "<Figure size 432x288 with 1 Axes>"
            ],
            "image/png": "[encoded data removed]"
          },
          "metadata": {
            "needs_background": "light"
          }
        }
      ]
    },
    {
      "cell_type": "markdown",
      "source": [
        "#### Metrics\n",
        "Now that we have fit a logistic regression model to the training data and used it to make predictions on the testing data, let's evaluate how good the model is at predicting the class of data sample."
      ],
      "metadata": {
        "id": "XRxGZHYNfvLx"
      }
    },
    {
      "cell_type": "markdown",
      "source": [
        "##### Accuracy, Precision, Recall, and F1 Score"
      ],
      "metadata": {
        "id": "54jFFBWH_P41"
      }
    },
    {
      "cell_type": "code",
      "source": [
        "def accuracy(y, y_pred):\n",
        "  return np.sum(y==y_pred)/len(y)\n",
        "\n",
        "def precision(y, y_pred):\n",
        "  tp = np.sum(np.logical_and(y==y_pred, y_pred==1))\n",
        "  fp = np.sum(np.logical_and(y!=y_pred, y_pred==1))\n",
        "  return tp/(tp+fp)\n",
        "\n",
        "def recall(y, y_pred):\n",
        "  tp = np.sum(np.logical_and(y==y_pred, y_pred==1))\n",
        "  fn = np.sum(np.logical_and(y!=y_pred, y_pred==0))\n",
        "  return tp/(tp+fn)\n",
        "\n",
        "def f1(y, y_pred):\n",
        "  pre = precision(y, y_pred)\n",
        "  rec = recall(y, y_pred)\n",
        "  return 2*pre*rec / (pre + rec)"
      ],
      "metadata": {
        "id": "4RhAZrLVjMbZ"
      },
      "execution_count": 291,
      "outputs": []
    },
    {
      "cell_type": "code",
      "source": [
        "print('Classification Metrics (testing data):\\n' + '-'*38)\n",
        "print('accuracy = %.3f' % accuracy(y_test1, y_pred1))\n",
        "print('precsion = %.3f' % precision(y_test1, y_pred1))\n",
        "print('recall = %.3f' % recall(y_test1, y_pred1))\n",
        "print('f1 score = %.3f' % f1(y_test1, y_pred1))"
      ],
      "metadata": {
        "colab": {
          "base_uri": "https://localhost:8080/"
        },
        "id": "kGS-LyCw4zy9",
        "outputId": "7e870d51-4c05-49f0-e531-03aad61efe05"
      },
      "execution_count": 292,
      "outputs": [
        {
          "output_type": "stream",
          "name": "stdout",
          "text": [
            "Classification Metrics (testing data):\n",
            "--------------------------------------\n",
            "accuracy = 0.817\n",
            "precsion = 0.828\n",
            "recall = 0.800\n",
            "f1 score = 0.814\n"
          ]
        }
      ]
    },
    {
      "cell_type": "markdown",
      "source": [
        "##### Confusion Matrix\n",
        "\n",
        "If may be useful to look at all true positives, false positives, true negatives, and false negatives from the models predictions. We can put these four values in a matrix called a confustion matrix and plot it."
      ],
      "metadata": {
        "id": "wIy6VSSV6Icp"
      }
    },
    {
      "cell_type": "code",
      "source": [
        "def conf_mat(y, y_pred):\n",
        "  tp = np.sum(np.logical_and(y==y_pred, y_pred==1))\n",
        "  fp = np.sum(np.logical_and(y!=y_pred, y_pred==1))\n",
        "  tn = np.sum(np.logical_and(y==y_pred, y_pred==0))\n",
        "  fn = np.sum(np.logical_and(y!=y_pred, y_pred==0))\n",
        "  \n",
        "  return np.array([[tn, fp], [fn, tp]])\n",
        "\n",
        "\n",
        "cf = conf_mat(y_test1, y_pred1)\n",
        "\n",
        "sns.heatmap(cf, annot=True)\n",
        "plt.title('Confusion Matrix')\n",
        "plt.ylabel('True Class')\n",
        "plt.xlabel('Predicted Class')\n",
        "plt.show()"
      ],
      "metadata": {
        "colab": {
          "base_uri": "https://localhost:8080/",
          "height": 295
        },
        "id": "fexJJfAr6Qx0",
        "outputId": "130b946f-58a5-4eff-b659-8ca04d035285"
      },
      "execution_count": 293,
      "outputs": [
        {
          "output_type": "display_data",
          "data": {
            "text/plain": [
              "<Figure size 432x288 with 2 Axes>"
            ],
            "image/png": "[encoded data removed]"
          },
          "metadata": {
            "needs_background": "light"
          }
        }
      ]
    },
    {
      "cell_type": "markdown",
      "source": [
        "##### Receiver Operating Characteristic (ROC) Curve and AUC"
      ],
      "metadata": {
        "id": "GdL6aw0O-eBR"
      }
    },
    {
      "cell_type": "code",
      "source": [
        "def get_roc(y_test, y_pred_proba):\n",
        "  tp_rates = []\n",
        "  fp_rates = []\n",
        "  probabilities = y_pred_proba[:, 1].flatten()\n",
        "\n",
        "  for p in np.linspace(0, 1, 1000):\n",
        "    y_test_preds = probabilities > p\n",
        "    y_test_preds = y_test_preds.reshape(-1, 1)\n",
        "\n",
        "    fp = np.sum(np.logical_and(y_test!=y_test_preds, y_test_preds==1))\n",
        "    tn = np.sum(np.logical_and(y_test==y_test_preds, y_test_preds==0))\n",
        "\n",
        "    tpr = recall(y_test, y_test_preds)\n",
        "    fpr = fp / (fp + tn)\n",
        "\n",
        "    tp_rates.append(tpr)\n",
        "    fp_rates.append(fpr)\n",
        "\n",
        "  tp_rates = np.array(tp_rates)\n",
        "  fp_rates = np.array(fp_rates)\n",
        "\n",
        "  heights = tp_rates[0:-1]\n",
        "  widths = -np.diff(fp_rates)\n",
        "  auc = 1-sum(heights*widths)\n",
        "\n",
        "  return tp_rates, fp_rates, auc\n",
        "\n",
        "tp_rates, fp_rates, auc = get_roc(y_test1, y_pred_proba1)\n",
        "\n",
        "# Plot roc curve\n",
        "print('Area Under Curve (AUC):', auc)\n",
        "plt.plot(tp_rates, fp_rates, label='roc curve')\n",
        "plt.plot([0, 1], [0, 1], label='random guessing', c='tab:red', linestyle='dashed', alpha=0.6)\n",
        "plt.plot([0, 0, 1], [0, 1, 1], label='perfect model', c='tab:purple', linestyle='dashed', alpha=0.6)\n",
        "plt.title('Receiver Operating Characteristic')\n",
        "plt.xlabel('false positive rate')\n",
        "plt.ylabel('true positive rate')\n",
        "plt.text(0.7, 0.35, 'AUC = ' + str(round(auc, 3)))\n",
        "plt.legend()\n",
        "plt.show()"
      ],
      "metadata": {
        "colab": {
          "base_uri": "https://localhost:8080/",
          "height": 312
        },
        "id": "nlUTO-mL-qAY",
        "outputId": "27da7e0d-f7f0-4650-8954-59cfc73ed512"
      },
      "execution_count": 294,
      "outputs": [
        {
          "output_type": "stream",
          "name": "stdout",
          "text": [
            "Area Under Curve (AUC): 0.908888888888889\n"
          ]
        },
        {
          "output_type": "display_data",
          "data": {
            "text/plain": [
              "<Figure size 432x288 with 1 Axes>"
            ],
            "image/png": "[encoded data removed]"
          },
          "metadata": {
            "needs_background": "light"
          }
        }
      ]
    },
    {
      "cell_type": "markdown",
      "source": [
        "---\n",
        "\n",
        "## 3. Multi-Feature Logistic Regression\n",
        "\n",
        "---\n",
        "\n",
        "Now let's take a look at fitting a logistic regression model to a dataset with multiple features and a single target."
      ],
      "metadata": {
        "id": "IDZONOoQfAut"
      }
    },
    {
      "cell_type": "markdown",
      "source": [
        "#### Generate Dataset"
      ],
      "metadata": {
        "id": "41IznNsZfRo2"
      }
    },
    {
      "cell_type": "code",
      "source": [
        "def generate_data(seed, x_shape):\n",
        "  np.random.seed(seed)\n",
        "  x1 = np.random.normal(-1, 2.5, size=x_shape)\n",
        "  x2 = np.random.normal(2.2, 2.5, size=x_shape)\n",
        "  y1 = np.zeros((x_shape[0], 1))\n",
        "  y2 = np.ones((x_shape[0], 1))\n",
        "\n",
        "  return np.vstack((x1, x2)), np.vstack((y1, y2))\n",
        "\n",
        "X_train2, y_train2 = generate_data(150, (60, 2))\n",
        "X_test2, y_test2 = generate_data(15, (20, 2))\n",
        "\n",
        "\n",
        "# Plot datasets\n",
        "fig, ax = plt.subplots(1, 2, figsize=(16, 7))\n",
        "plt.suptitle('2D Logistic Regression Datasets', fontsize=16)\n",
        "\n",
        "X_train2_class0 = X_train2[y_train2.flatten()==0]\n",
        "X_train2_class1 = X_train2[y_train2.flatten()==1]\n",
        "ax[0].scatter(X_train2_class0[:, 0], X_train2_class0[:, 1], c='tab:blue', alpha=0.65, label='class 0')\n",
        "ax[0].scatter(X_train2_class1[:, 0], X_train2_class1[:, 1], c='tab:orange', alpha=0.65, label='class 1')\n",
        "ax[0].set_title('Training Data')\n",
        "ax[0].legend(loc='upper left')\n",
        "\n",
        "X_test2_class0 = X_test2[y_test2.flatten()==0]\n",
        "X_test2_class1 = X_test2[y_test2.flatten()==1]\n",
        "ax[1].scatter(X_test2_class0[:, 0], X_test2_class0[:, 1], c='tab:blue', alpha=0.65, label='class 0')\n",
        "ax[1].scatter(X_test2_class1[:, 0], X_test2_class1[:, 1], c='tab:orange', alpha=0.65, label='class 1')\n",
        "ax[1].set_title('Testing Data')\n",
        "ax[1].legend(loc='upper left')\n",
        "\n",
        "plt.show()"
      ],
      "metadata": {
        "id": "uuardfGRLGqz",
        "outputId": "fd7feada-0338-4250-fb69-a8887988d228",
        "colab": {
          "base_uri": "https://localhost:8080/",
          "height": 479
        }
      },
      "execution_count": 295,
      "outputs": [
        {
          "output_type": "display_data",
          "data": {
            "text/plain": [
              "<Figure size 1152x504 with 2 Axes>"
            ],
            "image/png": "[encoded data removed]"
          },
          "metadata": {
            "needs_background": "light"
          }
        }
      ]
    },
    {
      "cell_type": "markdown",
      "source": [
        "#### Fit a Logistic Regression Model to the Training Data"
      ],
      "metadata": {
        "id": "5VCfi0EnrtZJ"
      }
    },
    {
      "cell_type": "code",
      "source": [
        "logreg_2d = LogisticRegression(0.01)\n",
        "logreg_2d.fit(X_train2, y_train2)\n",
        "\n",
        "print('Regression Model:\\n', logreg_2d, \"\\n\")\n",
        "print('Model Parameters:\\n', logreg_2d.w.flatten())"
      ],
      "metadata": {
        "id": "hJ4kW4cfFYo2",
        "outputId": "36bd9122-b64c-4b69-bbb0-3955b607df5c",
        "colab": {
          "base_uri": "https://localhost:8080/"
        }
      },
      "execution_count": 296,
      "outputs": [
        {
          "output_type": "stream",
          "name": "stdout",
          "text": [
            "Regression Model:\n",
            " y = 1 / [1 + e^{-(-0.46198278154135214 + 0.47846314112423943x_1 + 0.5231959052729238x_2)}] \n",
            "\n",
            "Model Parameters:\n",
            " [-0.46198278  0.47846314  0.52319591]\n"
          ]
        }
      ]
    },
    {
      "cell_type": "markdown",
      "source": [
        "#### Use Fit Model to Make Predictions on the Testing Data"
      ],
      "metadata": {
        "id": "-FEBvebGsSa-"
      }
    },
    {
      "cell_type": "code",
      "source": [
        "y_pred2 = logreg_2d.predict(X_test2)\n",
        "y_pred_proba2 = logreg_2d.predict_proba(X_test2)\n",
        "\n",
        "print('First 10 predictions:\\n' + '-'*21)\n",
        "print('Class Predictions:', y_pred2.flatten()[0:10])\n",
        "print('Class Probabilities:\\n', np.round(y_pred_proba2, 3)[0:10])"
      ],
      "metadata": {
        "id": "PncU-XLdsSBN",
        "outputId": "b6b661ce-bf98-4ed7-9be4-5b9f6c44a1ed",
        "colab": {
          "base_uri": "https://localhost:8080/"
        }
      },
      "execution_count": 297,
      "outputs": [
        {
          "output_type": "stream",
          "name": "stdout",
          "text": [
            "First 10 predictions:\n",
            "---------------------\n",
            "Class Predictions: [0. 0. 0. 0. 0. 0. 0. 0. 1. 0.]\n",
            "Class Probabilities:\n",
            " [[0.199 0.801]\n",
            " [0.091 0.909]\n",
            " [0.03  0.97 ]\n",
            " [0.015 0.985]\n",
            " [0.08  0.92 ]\n",
            " [0.225 0.775]\n",
            " [0.475 0.525]\n",
            " [0.205 0.795]\n",
            " [0.607 0.393]\n",
            " [0.348 0.652]]\n"
          ]
        }
      ]
    },
    {
      "cell_type": "markdown",
      "source": [
        "#### Model Visualization"
      ],
      "metadata": {
        "id": "x9K_laAasDhA"
      }
    },
    {
      "cell_type": "code",
      "source": [
        "w_0, w_1, w_2 = logreg_2d.w\n",
        "\n",
        "D = np.linspace(-10, 10, 2)\n",
        "R = -(w_0+w_1*D) / w_2\n",
        "\n",
        "# Plot the decision boundry for the model\n",
        "plt.fill_between(D, R, min(R), color='tab:blue', alpha=0.2)\n",
        "plt.fill_between(D, R, max(R), color='tab:orange', alpha=0.2)\n",
        "plt.scatter(X_train2_class0[:, 0], X_train2_class0[:, 1], c='tab:blue', alpha=0.65, label='class 0')\n",
        "plt.scatter(X_train2_class1[:, 0], X_train2_class1[:, 1], c='tab:orange', alpha=0.65, label='class 1')\n",
        "plt.plot(D, R, '--', c='black')\n",
        "plt.title('2D Logistic Regression Decision Boundry')\n",
        "plt.legend(loc='upper left')\n",
        "plt.show()"
      ],
      "metadata": {
        "id": "HMn5t4Dxc6Rx",
        "outputId": "14dacda8-9049-44fc-fb79-a34f5346f423",
        "colab": {
          "base_uri": "https://localhost:8080/",
          "height": 281
        }
      },
      "execution_count": 298,
      "outputs": [
        {
          "output_type": "display_data",
          "data": {
            "text/plain": [
              "<Figure size 432x288 with 1 Axes>"
            ],
            "image/png": "[encoded data removed]"
          },
          "metadata": {
            "needs_background": "light"
          }
        }
      ]
    },
    {
      "cell_type": "markdown",
      "source": [
        "#### Metrics"
      ],
      "metadata": {
        "id": "xtQG8eIWbeha"
      }
    },
    {
      "cell_type": "markdown",
      "source": [
        "##### Accuracy, Precision, Recall, and F1 Score"
      ],
      "metadata": {
        "id": "PCQIg71wcQ09"
      }
    },
    {
      "cell_type": "code",
      "source": [
        "print('Classification Metrics (testing data):\\n' + '-'*38)\n",
        "print('accuracy = %.3f' % accuracy(y_test2, y_pred2))\n",
        "print('precsion = %.3f' % precision(y_test2, y_pred2))\n",
        "print('recall = %.3f' % recall(y_test2, y_pred2))\n",
        "print('f1 score = %.3f' % f1(y_test2, y_pred2))"
      ],
      "metadata": {
        "id": "KO0eLwLDbh6p",
        "outputId": "339847cc-742a-4cdd-8051-91cdad0222bd",
        "colab": {
          "base_uri": "https://localhost:8080/"
        }
      },
      "execution_count": 299,
      "outputs": [
        {
          "output_type": "stream",
          "name": "stdout",
          "text": [
            "Classification Metrics (testing data):\n",
            "--------------------------------------\n",
            "accuracy = 0.875\n",
            "precsion = 0.857\n",
            "recall = 0.900\n",
            "f1 score = 0.878\n"
          ]
        }
      ]
    },
    {
      "cell_type": "markdown",
      "source": [
        "##### Confustion Matrix"
      ],
      "metadata": {
        "id": "rEk-GkbBcpOT"
      }
    },
    {
      "cell_type": "code",
      "source": [
        "cf2 = conf_mat(y_test2, y_pred2)\n",
        "\n",
        "sns.heatmap(cf2, annot=True)\n",
        "plt.title('Confusion Matrix')\n",
        "plt.ylabel('True Class')\n",
        "plt.xlabel('Predicted Class')\n",
        "plt.show()"
      ],
      "metadata": {
        "id": "m75ft-p3coV_",
        "outputId": "c50a366c-0ca2-4f1d-ae97-884332b95d37",
        "colab": {
          "base_uri": "https://localhost:8080/",
          "height": 295
        }
      },
      "execution_count": 300,
      "outputs": [
        {
          "output_type": "display_data",
          "data": {
            "text/plain": [
              "<Figure size 432x288 with 2 Axes>"
            ],
            "image/png": "[encoded data removed]"
          },
          "metadata": {
            "needs_background": "light"
          }
        }
      ]
    },
    {
      "cell_type": "markdown",
      "source": [
        "##### Receiver Operating Characteristic (ROC) Curve and AUC"
      ],
      "metadata": {
        "id": "SH9KdCfTc-bL"
      }
    },
    {
      "cell_type": "code",
      "source": [
        "tp_rates2, fp_rates2, auc2 = get_roc(y_test2, y_pred_proba2)\n",
        "\n",
        "# Plot roc curve\n",
        "print('Area Under Curve (AUC):', auc2)\n",
        "plt.plot(tp_rates2, fp_rates2, label='roc curve')\n",
        "plt.plot([0, 1], [0, 1], label='random guessing', c='tab:red', linestyle='dashed', alpha=0.6)\n",
        "plt.plot([0, 0, 1], [0, 1, 1], label='perfect model', c='tab:purple', linestyle='dashed', alpha=0.6)\n",
        "plt.title('Receiver Operating Characteristic')\n",
        "plt.xlabel('false positive rate')\n",
        "plt.ylabel('true positive rate')\n",
        "plt.text(0.7, 0.35, 'AUC = ' + str(round(auc2, 3)))\n",
        "plt.legend()\n",
        "plt.show()"
      ],
      "metadata": {
        "id": "kIBNmmzTdDQn",
        "outputId": "286a2ba9-e734-4f1a-a740-bd77f5079542",
        "colab": {
          "base_uri": "https://localhost:8080/",
          "height": 312
        }
      },
      "execution_count": 301,
      "outputs": [
        {
          "output_type": "stream",
          "name": "stdout",
          "text": [
            "Area Under Curve (AUC): 0.9375\n"
          ]
        },
        {
          "output_type": "display_data",
          "data": {
            "text/plain": [
              "<Figure size 432x288 with 1 Axes>"
            ],
            "image/png": "[encoded data removed]"
          },
          "metadata": {
            "needs_background": "light"
          }
        }
      ]
    },
    {
      "cell_type": "markdown",
      "source": [
        "---\n",
        "\n",
        "## 4. Multi-Target Logistic Regression\n",
        "\n",
        "---"
      ],
      "metadata": {
        "id": "Mm1RXmDvgfaF"
      }
    },
    {
      "cell_type": "markdown",
      "source": [
        "#### Generate Dataset"
      ],
      "metadata": {
        "id": "dEJBpsVlgrSv"
      }
    },
    {
      "cell_type": "code",
      "source": [
        "def generate_data_ovr(seed, x_shape):\n",
        "  np.random.seed(seed)\n",
        "  x1 = np.random.normal(-1, 2, size=x_shape)\n",
        "  x2 = np.random.normal(2.4, 2, size=x_shape)\n",
        "  x3 = np.random.normal(-5, 2, size=x_shape)*[1, -1]\n",
        "  y1 = np.array([0 for i in range(x_shape[0])])\n",
        "  y2 = np.array([1 for i in range(x_shape[0])])\n",
        "  y3 = np.array([2 for i in range(x_shape[0])])\n",
        "\n",
        "  return np.vstack((x1, x2, x3)), np.vstack((y1, y2, y3))\n",
        "\n",
        "def one_hot_encode(y):\n",
        "  unique_values = np.unique(y)\n",
        "  encodings = {}\n",
        "\n",
        "  for i, x in enumerate(unique_values):\n",
        "    enc = np.zeros(len(unique_values))\n",
        "    enc[i] = 1\n",
        "    encodings[x] = enc\n",
        "\n",
        "  y_one_hot = np.zeros((len(y), len(unique_values)))\n",
        "  for i, x in enumerate(y):\n",
        "    y_one_hot[i] = encodings[x]\n",
        "\n",
        "  return y_one_hot\n",
        "\n",
        "X_train3, y_train3 = generate_data_ovr(150, (35, 2))\n",
        "X_test3, y_test3 = generate_data_ovr(15, (20, 2))\n",
        "\n",
        "y_train3 = one_hot_encode(y_train3.flatten())\n",
        "y_test3 = one_hot_encode(y_test3.flatten())\n",
        "\n",
        "# Plot datasets\n",
        "fig, ax = plt.subplots(1, 2, figsize=(16, 7))\n",
        "plt.suptitle('2D Logistic Regression Datasets', fontsize=16)\n",
        "\n",
        "X_train3_class0 = X_train3[[np.array_equal(y_train3[i], [1, 0, 0]) for i in range(len(y_train3))]]\n",
        "X_train3_class1 = X_train3[[np.array_equal(y_train3[i], [0, 1, 0]) for i in range(len(y_train3))]]\n",
        "X_train3_class2 = X_train3[[np.array_equal(y_train3[i], [0, 0, 1]) for i in range(len(y_train3))]]\n",
        "ax[0].scatter(X_train3_class0[:, 0], X_train3_class0[:, 1], c='tab:blue', alpha=0.65, label='class 0')\n",
        "ax[0].scatter(X_train3_class1[:, 0], X_train3_class1[:, 1], c='tab:orange', alpha=0.65, label='class 1')\n",
        "ax[0].scatter(X_train3_class2[:, 0], X_train3_class2[:, 1], c='tab:green', alpha=0.65, label='class 2')\n",
        "ax[0].set_title('Training Data')\n",
        "ax[0].legend(loc='upper right')\n",
        "\n",
        "X_test3_class0 = X_test3[[np.array_equal(y_test3[i], [1, 0, 0]) for i in range(len(y_test3))]]\n",
        "X_test3_class1 = X_test3[[np.array_equal(y_test3[i], [0, 1, 0]) for i in range(len(y_test3))]]\n",
        "X_test3_class2 = X_test3[[np.array_equal(y_test3[i], [0, 0, 1]) for i in range(len(y_test3))]]\n",
        "ax[1].scatter(X_test3_class0[:, 0], X_test3_class0[:, 1], c='tab:blue', alpha=0.65, label='class 0')\n",
        "ax[1].scatter(X_test3_class1[:, 0], X_test3_class1[:, 1], c='tab:orange', alpha=0.65, label='class 1')\n",
        "ax[1].scatter(X_test3_class2[:, 0], X_test3_class2[:, 1], c='tab:green', alpha=0.65, label='class 2')\n",
        "ax[1].set_title('Testing Data')\n",
        "ax[1].legend(loc='upper right')"
      ],
      "metadata": {
        "id": "CzRI31uCs-5Z",
        "outputId": "56bdd9da-04d3-48a4-83a4-4b1f8e31b7f2",
        "colab": {
          "base_uri": "https://localhost:8080/",
          "height": 496
        }
      },
      "execution_count": 302,
      "outputs": [
        {
          "output_type": "execute_result",
          "data": {
            "text/plain": [
              "<matplotlib.legend.Legend at 0x7f22ae72cc50>"
            ]
          },
          "metadata": {},
          "execution_count": 302
        },
        {
          "output_type": "display_data",
          "data": {
            "text/plain": [
              "<Figure size 1152x504 with 2 Axes>"
            ],
            "image/png": "[encoded data removed]"
          },
          "metadata": {
            "needs_background": "light"
          }
        }
      ]
    },
    {
      "cell_type": "markdown",
      "source": [
        "### One VS Rest"
      ],
      "metadata": {
        "id": "i-DY4cd8gu3M"
      }
    },
    {
      "cell_type": "markdown",
      "source": [
        "#### Define One Vs Rest Class"
      ],
      "metadata": {
        "id": "qHPvXnE_z-Rd"
      }
    },
    {
      "cell_type": "code",
      "source": [
        "class LogisticRegresionOVR():\n",
        "\n",
        "  def __init__(self, lr=0.05, iterations=1000):\n",
        "    self.lr = lr\n",
        "    self.iterations = iterations\n",
        "\n",
        "  def fit(self, X, y):\n",
        "    num_features = len(y[0])\n",
        "    self.logreg_models = [LogisticRegression(self.lr, self.iterations) for i in range(num_features)]\n",
        "\n",
        "    # Fit each model using the one VS rest approach\n",
        "    for i in range(num_features):\n",
        "      y_one = y[:, i]\n",
        "      y_rest = np.sum(np.delete(y, i, axis=1), axis=1)\n",
        "      y_ovr_split = np.column_stack((y_one, y_rest))\n",
        "      self.logreg_models[i].fit(X, y_ovr_split)\n",
        "\n",
        "  def predict(self, X):\n",
        "    preds = np.column_stack([m.predict_proba(X)[:, 0] for m in self.logreg_models])\n",
        "    return np.argmax(preds, axis=1)\n",
        "\n",
        "  def __str__(self):\n",
        "    model_str = ''\n",
        "    \n",
        "    for i, model in enumerate(self.logreg_models):\n",
        "      model_str += 'model ' + str(i) + ': ' + str(model) + '\\n'\n",
        "\n",
        "    return model_str"
      ],
      "metadata": {
        "id": "Da09wnJqiPhK"
      },
      "execution_count": 303,
      "outputs": []
    },
    {
      "cell_type": "markdown",
      "source": [
        "#### Fit a One Vs Rest Logistic Regression Model"
      ],
      "metadata": {
        "id": "iagVzdlQ0GaU"
      }
    },
    {
      "cell_type": "code",
      "source": [
        "logreg_ovr = LogisticRegresionOVR()\n",
        "logreg_ovr.fit(X_train3, y_train3)\n",
        "\n",
        "print(logreg_ovr)"
      ],
      "metadata": {
        "id": "21KN2b250MGT",
        "outputId": "9279cec3-a2b0-4eb5-dd7c-3bbea31c86b8",
        "colab": {
          "base_uri": "https://localhost:8080/"
        }
      },
      "execution_count": 304,
      "outputs": [
        {
          "output_type": "stream",
          "name": "stdout",
          "text": [
            "model 0: y = 1 / [1 + e^{-(-0.7366152852488719 + 0.8219534746752131x_1 + -0.43204721391415446x_20.9086760355591335x_3 + -2.3052873247560175x_4 + 2.8119161472736516x_5 + )}]\n",
            "model 1: y = 1 / [1 + e^{-(-3.093795491804946 + 3.055499242505065x_1 + 2.038562809702565x_2-1.9438726628468528x_3 + 1.5132971000552966x_4 + -1.7061056399296595x_5 + )}]\n",
            "model 2: y = 1 / [1 + e^{-(-8.56155310905566 + 8.451456476803529x_1 + -1.8938651771540758x_22.108385825196135x_3 + 1.0502786461569125x_4 + -1.4663147780784744x_5 + )}]\n",
            "\n"
          ]
        }
      ]
    },
    {
      "cell_type": "markdown",
      "source": [
        "#### Use Fit Model to Make Predictions on the Testing Data"
      ],
      "metadata": {
        "id": "Xw4yp0wJ23CC"
      }
    },
    {
      "cell_type": "code",
      "source": [
        "y_pred3 = logreg_ovr.predict(X_test3)\n",
        "print('Actual Classes:', np.argmax(y_test3, axis=1))\n",
        "print('Predicted Classes:', y_pred3)"
      ],
      "metadata": {
        "id": "xJh2c3QQ28Zj",
        "outputId": "5b02a2d9-9d75-4020-9e2f-5007b7fd1264",
        "colab": {
          "base_uri": "https://localhost:8080/"
        }
      },
      "execution_count": 305,
      "outputs": [
        {
          "output_type": "stream",
          "name": "stdout",
          "text": [
            "Actual Classes: [0 0 0 0 0 0 0 0 0 0 0 0 0 0 0 0 0 0 0 0 1 1 1 1 1 1 1 1 1 1 1 1 1 1 1 1 1\n",
            " 1 1 1 2 2 2 2 2 2 2 2 2 2 2 2 2 2 2 2 2 2 2 2]\n",
            "Predicted Classes: [0 0 0 0 0 0 0 0 1 0 0 0 0 2 1 0 0 0 0 2 1 1 1 1 1 1 1 1 1 1 1 1 1 1 1 0 1\n",
            " 1 1 1 2 2 2 2 2 2 1 2 2 2 2 2 2 2 1 2 2 2 2 2]\n"
          ]
        }
      ]
    },
    {
      "cell_type": "markdown",
      "source": [
        "#### Model Visualization"
      ],
      "metadata": {
        "id": "x7I9-mul287n"
      }
    },
    {
      "cell_type": "code",
      "source": [
        "xx, yy = np.mgrid[-11:7:0.01, -6:10:0.01]\n",
        "D = np.c_[xx.ravel(), yy.ravel()]\n",
        "R = logreg_ovr.predict(D).reshape(xx.shape)\n",
        "\n",
        "X_train3_class0 = X_train3[[np.array_equal(y_train3[i], [1, 0, 0]) for i in range(len(y_train3))]]\n",
        "X_train3_class1 = X_train3[[np.array_equal(y_train3[i], [0, 1, 0]) for i in range(len(y_train3))]]\n",
        "X_train3_class2 = X_train3[[np.array_equal(y_train3[i], [0, 0, 1]) for i in range(len(y_train3))]]\n",
        "plt.scatter(X_train3_class0[:, 0], X_train3_class0[:, 1], c='tab:blue', alpha=0.65, label='class 0')\n",
        "plt.scatter(X_train3_class1[:, 0], X_train3_class1[:, 1], c='tab:orange', alpha=0.65, label='class 1')\n",
        "plt.scatter(X_train3_class2[:, 0], X_train3_class2[:, 1], c='tab:green', alpha=0.65, label='class 2')\n",
        "plt.contourf(xx, yy, R, alpha=0.25, levels=2, colors=['tab:blue', 'tab:orange', 'tab:green'])\n",
        "plt.title('Decision Boundrys (Training Data)')\n",
        "plt.legend(loc='upper right')\n",
        "plt.show()"
      ],
      "metadata": {
        "id": "5EMdj2B-3Q1x",
        "outputId": "8408c9f5-67b8-4f72-f759-0fdef9b8ff21",
        "colab": {
          "base_uri": "https://localhost:8080/",
          "height": 281
        }
      },
      "execution_count": 310,
      "outputs": [
        {
          "output_type": "display_data",
          "data": {
            "text/plain": [
              "<Figure size 432x288 with 1 Axes>"
            ],
            "image/png": "[encoded data removed]"
          },
          "metadata": {
            "needs_background": "light"
          }
        }
      ]
    },
    {
      "cell_type": "markdown",
      "source": [
        "#### Metrics"
      ],
      "metadata": {
        "id": "ElON4oUhwE2a"
      }
    },
    {
      "cell_type": "markdown",
      "source": [
        "##### Accuracy, Precision, Recall, and F1 Score"
      ],
      "metadata": {
        "id": "_y72xpzgPt1k"
      }
    },
    {
      "cell_type": "code",
      "source": [
        "def precision_mult(y, y_pred):\n",
        "  scores = [precision(y[:, i], y_pred[:, i]) for i in range(len(y[0]))]\n",
        "  return np.mean(scores)\n",
        "\n",
        "def recall_mult(y, y_pred):\n",
        "  scores = [recall(y[:, i], y_pred[:, i]) for i in range(len(y[0]))]\n",
        "  return np.mean(scores)\n",
        "\n",
        "def f1_mult(y, y_pred):\n",
        "  scores = [f1(y[:, i], y_pred[:, i]) for i in range(len(y[0]))]\n",
        "  return np.mean(scores)\n",
        "\n",
        "y_pred3_onehot = one_hot_encode(y_pred3)\n",
        "y_test3_class = np.argmax(y_test3, axis=1)\n",
        "\n",
        "print('Classification Metrics (testing data):\\n' + '-'*38)\n",
        "print('accuracy = %.3f' % accuracy(y_test3_class, y_pred3))\n",
        "print('precsion = %.3f' % precision_mult(y_test3, y_pred3_onehot))\n",
        "print('recall = %.3f' % recall_mult(y_test3, y_pred3_onehot))\n",
        "print('f1 score = %.3f' % f1_mult(y_test3, y_pred3_onehot))"
      ],
      "metadata": {
        "colab": {
          "base_uri": "https://localhost:8080/"
        },
        "id": "lMB7iRLVwHL3",
        "outputId": "9f723935-24bc-4c03-ee37-22c6debb8f3b"
      },
      "execution_count": 314,
      "outputs": [
        {
          "output_type": "stream",
          "name": "stdout",
          "text": [
            "Classification Metrics (testing data):\n",
            "--------------------------------------\n",
            "accuracy = 0.883\n",
            "precsion = 0.889\n",
            "recall = 0.883\n",
            "f1 score = 0.883\n"
          ]
        }
      ]
    },
    {
      "cell_type": "markdown",
      "source": [
        "##### Confusion Matrix"
      ],
      "metadata": {
        "id": "sbbftEEVSUob"
      }
    },
    {
      "cell_type": "code",
      "source": [
        "def conf_mat(y, y_pred):\n",
        "  num_classes = len(np.unique(y))\n",
        "  cf_mat = np.zeros((num_classes, num_classes))\n",
        "\n",
        "  for y1, y2 in zip(y.flatten(), y_pred.flatten()):\n",
        "    cf_mat[y1, y2] += 1\n",
        "  \n",
        "  return cf_mat\n",
        "\n",
        "cf = conf_mat(y_test3_class, y_pred3)\n",
        "\n",
        "sns.heatmap(cf, annot=True)\n",
        "plt.title('Confusion Matrix')\n",
        "plt.ylabel('True Class')\n",
        "plt.xlabel('Predicted Class')\n",
        "plt.show()"
      ],
      "metadata": {
        "colab": {
          "base_uri": "https://localhost:8080/",
          "height": 295
        },
        "id": "ahs0ByU-4n8j",
        "outputId": "e78e1c53-1db8-4408-8f4e-5343fa7b28ad"
      },
      "execution_count": 317,
      "outputs": [
        {
          "output_type": "display_data",
          "data": {
            "text/plain": [
              "<Figure size 432x288 with 2 Axes>"
            ],
            "image/png": "[encoded data removed]"
          },
          "metadata": {
            "needs_background": "light"
          }
        }
      ]
    },
    {
      "cell_type": "markdown",
      "source": [
        "### Multinomial / Softmax Regression"
      ],
      "metadata": {
        "id": "iJ3s50hng1X0"
      }
    }
  ]
}