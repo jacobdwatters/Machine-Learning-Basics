{
  "nbformat": 4,
  "nbformat_minor": 0,
  "metadata": {
    "colab": {
      "name": "01-logistic_regression_numpy.ipynb",
      "provenance": [],
      "toc_visible": true,
      "authorship_tag": "ABX9TyPei79L7qwVTjx0/okhUl2H",
      "include_colab_link": true
    },
    "kernelspec": {
      "name": "python3",
      "display_name": "Python 3"
    },
    "language_info": {
      "name": "python"
    }
  },
  "cells": [
    {
      "cell_type": "markdown",
      "metadata": {
        "id": "view-in-github",
        "colab_type": "text"
      },
      "source": [
        "<a href=\"https://colab.research.google.com/github/jacobdwatters/Machine-Learning-Basics/blob/main/logistic_regression/01_logistic_regression_numpy.ipynb\" target=\"_parent\"><img src=\"https://colab.research.google.com/assets/colab-badge.svg\" alt=\"Open In Colab\"/></a>"
      ]
    },
    {
      "cell_type": "markdown",
      "source": [
        "Logistic Regression With NumPy"
      ],
      "metadata": {
        "id": "tb9F9-I3CTfB"
      }
    },
    {
      "cell_type": "markdown",
      "source": [
        "#### Imports and Setup"
      ],
      "metadata": {
        "id": "Qh_oFtcUCL-d"
      }
    },
    {
      "cell_type": "code",
      "source": [
        "import numpy as np\n",
        "import matplotlib.pyplot as plt"
      ],
      "metadata": {
        "id": "JkfR4Eq6U3jC"
      },
      "execution_count": 107,
      "outputs": []
    },
    {
      "cell_type": "markdown",
      "source": [
        "---\n",
        "\n",
        "## 1. Define the Logistic Regression Class\n",
        "\n",
        "---"
      ],
      "metadata": {
        "id": "eqTWqWIzPrmu"
      }
    },
    {
      "cell_type": "code",
      "execution_count": 108,
      "metadata": {
        "colab": {
          "base_uri": "https://localhost:8080/"
        },
        "id": "_kWrszIjUVuu",
        "outputId": "80d6b463-34f4-4c78-9d07-7bd47cfe0d79"
      },
      "outputs": [
        {
          "output_type": "stream",
          "name": "stdout",
          "text": [
            "y = 1 / [1 + e^{-(-9.36404537157435 + -3.238319271386703x_1)}]\n"
          ]
        }
      ],
      "source": [
        "class LogisticRegression:\n",
        "  def __init__(self, lr=0.05, iterations=1000):\n",
        "    self.lr = lr\n",
        "    self.iterations = iterations \n",
        "\n",
        "  def sigmoid(self, X):\n",
        "    return 1 / (1+np.exp(-X@self.w))\n",
        "  \n",
        "  def bce_grad(self, X, y):\n",
        "    return X.T@(self.sigmoid(X)-y)\n",
        "\n",
        "  def fit(self, X, y):\n",
        "    V = np.column_stack((np.ones(len(X)), X))\n",
        "    self.w = np.random.randn(len(V[0])).reshape(-1, 1)\n",
        "    \n",
        "    # Gradient Descent\n",
        "    for i in range(self.iterations):\n",
        "      self.w = self.w - self.lr*self.bce_grad(V, y)\n",
        "\n",
        "  def predict(self, X):\n",
        "    V = np.column_stack((np.ones(len(X)), X))\n",
        "    return self.sigmoid(V)\n",
        "\n",
        "  def __str__(self):\n",
        "    model_str = 'y = 1 / [1 + e^{-('\n",
        "\n",
        "    for i, w_i in enumerate(self.w.flatten()):\n",
        "      model_str += str(w_i)\n",
        "\n",
        "      if i>0:\n",
        "        model_str += \"x_\" + str(i)\n",
        "      if i!=len(self.w)-1:\n",
        "        model_str += ' + '\n",
        "\n",
        "    return model_str + ')}]'\n",
        "\n",
        "\n",
        "X = np.array([-1.37, -1.75, -3.9, -3.0, -3.43, -4.68, 0.63, -7.1, -2.14, -2.95, -5.9, -0.64]).reshape(-1, 1)\n",
        "y = np.array([0, 0, 1, 0, 1, 1, 0, 1, 0, 1, 1, 0]).reshape(-1, 1)\n",
        "logreg = LogisticRegression()\n",
        "logreg.fit(X, y)\n",
        "\n",
        "print(logreg)"
      ]
    },
    {
      "cell_type": "markdown",
      "source": [
        "#### Generate Dataset"
      ],
      "metadata": {
        "id": "j-wlUDUqFcXY"
      }
    },
    {
      "cell_type": "code",
      "source": [
        "X_train = np.array([-1.37, -1.75, -3.9, -3.0, -3.43, -4.68, 0.63, -7.1, -2.14, -2.95, -5.9, -0.64]).reshape(-1, 1)\n",
        "y_train = np.array([0, 0, 1, 0, 1, 1, 0, 1, 0, 1, 1, 0]).reshape(-1, 1)\n",
        "\n",
        "X_test = np.array([-6.2, -5.1, -2.5, 1]).reshape(-1, 1)\n",
        "y_test = np.array([1, 1, 0, 0])\n",
        "\n",
        "plt.scatter(X_train, y_train, c='tab:blue', label='training data')\n",
        "plt.scatter(X_test, y_test, c='tab:orange', label='testing data')\n",
        "plt.title(\"Dataset\")\n",
        "plt.legend()\n",
        "plt.plot()"
      ],
      "metadata": {
        "colab": {
          "base_uri": "https://localhost:8080/",
          "height": 298
        },
        "id": "6s-GMUKv_l7G",
        "outputId": "56da3c50-7ed1-4592-b536-b5d95d952dfd"
      },
      "execution_count": 109,
      "outputs": [
        {
          "output_type": "execute_result",
          "data": {
            "text/plain": [
              "[]"
            ]
          },
          "metadata": {},
          "execution_count": 109
        },
        {
          "output_type": "display_data",
          "data": {
            "text/plain": [
              "<Figure size 432x288 with 1 Axes>"
            ],
            "image/png": "[encoded data removed]"
          },
          "metadata": {
            "needs_background": "light"
          }
        }
      ]
    },
    {
      "cell_type": "markdown",
      "source": [
        "#### Fit a Logistic Regression Model to the Training Data"
      ],
      "metadata": {
        "id": "ujXbI0bCO5rF"
      }
    },
    {
      "cell_type": "code",
      "source": [
        "logreg = LogisticRegression(0.5)\n",
        "logreg.fit(X_train, y_train)\n",
        "\n",
        "print('Regression Model:\\n', logreg, \"\\n\")\n",
        "print('Model Parameters:\\n', logreg.w.flatten())"
      ],
      "metadata": {
        "colab": {
          "base_uri": "https://localhost:8080/"
        },
        "id": "3Cxgc9XJNtUS",
        "outputId": "ad41ee6e-2e4e-4f1d-d7bd-be6fadba52ea"
      },
      "execution_count": 110,
      "outputs": [
        {
          "output_type": "stream",
          "name": "stdout",
          "text": [
            "Regression Model:\n",
            " y = 1 / [1 + e^{-(-22.995165235542647 + -7.162474815410853x_1)}] \n",
            "\n",
            "Model Parameters:\n",
            " [-22.99516524  -7.16247482]\n"
          ]
        }
      ]
    },
    {
      "cell_type": "markdown",
      "source": [
        "#### Model Visualization"
      ],
      "metadata": {
        "id": "me7M-z7SPRsC"
      }
    },
    {
      "cell_type": "code",
      "source": [
        "D = np.linspace(-10, 4, 100)\n",
        "R = logreg.predict(D)\n",
        "\n",
        "plt.scatter(X_train, y_train, c='tab:blue', label='training data')\n",
        "plt.scatter(X_test, y_test, c='tab:orange', label='testing data')\n",
        "plt.plot(D, R, c='tab:red', label='logreg model')\n",
        "plt.title(\"Logistic Regression Model\")\n",
        "plt.legend()\n",
        "plt.plot()"
      ],
      "metadata": {
        "id": "ni73Cd4aPV89",
        "outputId": "6b41e2bd-dba2-478e-c0e1-c716e53ed2d0",
        "colab": {
          "base_uri": "https://localhost:8080/",
          "height": 298
        }
      },
      "execution_count": 111,
      "outputs": [
        {
          "output_type": "execute_result",
          "data": {
            "text/plain": [
              "[]"
            ]
          },
          "metadata": {},
          "execution_count": 111
        },
        {
          "output_type": "display_data",
          "data": {
            "text/plain": [
              "<Figure size 432x288 with 1 Axes>"
            ],
            "image/png": "[encoded data removed]"
          },
          "metadata": {
            "needs_background": "light"
          }
        }
      ]
    }
  ]
}