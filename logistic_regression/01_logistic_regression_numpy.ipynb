{
  "nbformat": 4,
  "nbformat_minor": 0,
  "metadata": {
    "colab": {
      "name": "01-logistic_regression_numpy.ipynb",
      "provenance": [],
      "authorship_tag": "ABX9TyM72BbHvJkHzliZXodnmArD",
      "include_colab_link": true
    },
    "kernelspec": {
      "name": "python3",
      "display_name": "Python 3"
    },
    "language_info": {
      "name": "python"
    }
  },
  "cells": [
    {
      "cell_type": "markdown",
      "metadata": {
        "id": "view-in-github",
        "colab_type": "text"
      },
      "source": [
        "<a href=\"https://colab.research.google.com/github/jacobdwatters/Machine-Learning-Basics/blob/main/01_logistic_regression_numpy.ipynb\" target=\"_parent\"><img src=\"https://colab.research.google.com/assets/colab-badge.svg\" alt=\"Open In Colab\"/></a>"
      ]
    },
    {
      "cell_type": "code",
      "source": [
        "import numpy as np\n",
        "import matplotlib.pyplot as plt"
      ],
      "metadata": {
        "id": "JkfR4Eq6U3jC"
      },
      "execution_count": null,
      "outputs": []
    },
    {
      "cell_type": "code",
      "execution_count": null,
      "metadata": {
        "colab": {
          "base_uri": "https://localhost:8080/"
        },
        "id": "_kWrszIjUVuu",
        "outputId": "d0535041-b5b9-48f3-c33e-f9be3e4fbf13"
      },
      "outputs": [
        {
          "output_type": "stream",
          "name": "stdout",
          "text": [
            "[ 0.26497095 -0.17490491]\n"
          ]
        }
      ],
      "source": [
        "class LogisticRegression:\n",
        "  def __init__(self):\n",
        "    self.w = np.array([0.98, 1.43]) # TEMP\n",
        "    self.lr=0.01\n",
        "\n",
        "  def sigmoid(self, X):\n",
        "    return 1 / (1+np.exp(-X@self.w))\n",
        "\n",
        "  def sigmoid_derivative(self, X):\n",
        "    sig = self.sigmoid(X)\n",
        "    return (sig*(1-sig))@X\n",
        "\n",
        "  def bce(X):\n",
        "    pass\n",
        "\n",
        "  def fit(self, X, y):\n",
        "    pass\n",
        "\n",
        "X = np.array([[1, -1], \n",
        "              [1, 2], \n",
        "              [1, 3], \n",
        "              [1, 4], \n",
        "              [1, 5]])\n",
        "logreg = LogisticRegression()\n",
        "print(logreg.sigmoid_derivative(X))"
      ]
    }
  ]
}
