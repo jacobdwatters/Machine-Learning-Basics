{
  "nbformat": 4,
  "nbformat_minor": 0,
  "metadata": {
    "colab": {
      "name": "01-logistic_regression_numpy.ipynb",
      "provenance": [],
      "toc_visible": true,
      "authorship_tag": "ABX9TyN83s0ny36X27W5My09WkSo",
      "include_colab_link": true
    },
    "kernelspec": {
      "name": "python3",
      "display_name": "Python 3"
    },
    "language_info": {
      "name": "python"
    }
  },
  "cells": [
    {
      "cell_type": "markdown",
      "metadata": {
        "id": "view-in-github",
        "colab_type": "text"
      },
      "source": [
        "<a href=\"https://colab.research.google.com/github/jacobdwatters/Machine-Learning-Basics/blob/main/logistic_regression/01_logistic_regression_numpy.ipynb\" target=\"_parent\"><img src=\"https://colab.research.google.com/assets/colab-badge.svg\" alt=\"Open In Colab\"/></a>"
      ]
    },
    {
      "cell_type": "markdown",
      "source": [
        "---\n",
        "\n",
        "# Logistic Regression With NumPy\n",
        "\n",
        "---\n"
      ],
      "metadata": {
        "id": "tb9F9-I3CTfB"
      }
    },
    {
      "cell_type": "markdown",
      "source": [
        "#### Imports and Setup"
      ],
      "metadata": {
        "id": "Qh_oFtcUCL-d"
      }
    },
    {
      "cell_type": "code",
      "source": [
        "import numpy as np\n",
        "import matplotlib\n",
        "import matplotlib.pyplot as plt\n",
        "import seaborn as sns\n",
        "\n",
        "\n",
        "%matplotlib inline"
      ],
      "metadata": {
        "id": "JkfR4Eq6U3jC"
      },
      "execution_count": 102,
      "outputs": []
    },
    {
      "cell_type": "markdown",
      "source": [
        "---\n",
        "\n",
        "## 1. Define the Logistic Regression Class\n",
        "\n",
        "---"
      ],
      "metadata": {
        "id": "eqTWqWIzPrmu"
      }
    },
    {
      "cell_type": "code",
      "execution_count": 103,
      "metadata": {
        "id": "_kWrszIjUVuu"
      },
      "outputs": [],
      "source": [
        "class LogisticRegression:\n",
        "  \n",
        "  def __init__(self, lr=0.05, iterations=1000):\n",
        "    self.lr = lr\n",
        "    self.iterations = iterations \n",
        "\n",
        "  def sigmoid(self, X):\n",
        "    \"\"\"sigmoid/logistic function\"\"\"\n",
        "    return 1 / (1+np.exp(-X@self.w))\n",
        "  \n",
        "  def bce_grad(self, X, y):\n",
        "    \"\"\"binary cross-entropy gradient\"\"\"\n",
        "    return X.T@(self.sigmoid(X)-y)\n",
        "\n",
        "  def grad_descent(self, V, y):\n",
        "    \"\"\"Gradient Descent\"\"\"\n",
        "    # initialize weights to random value\n",
        "    self.w = np.random.normal(0, 0.2, size=(len(V[0]), 1))\n",
        "\n",
        "    for i in range(self.iterations):\n",
        "      self.w = self.w - self.lr*self.bce_grad(V, y)\n",
        "\n",
        "  def fit(self, X, y):\n",
        "    V = np.column_stack((np.ones(len(X)), X))\n",
        "    self.grad_descent(V, y)\n",
        "\n",
        "  def predict(self, X):\n",
        "    V = np.column_stack((np.ones(len(X)), X))\n",
        "    return np.round(self.sigmoid(V))\n",
        "\n",
        "  def predict_proba(self, X):\n",
        "    V = np.column_stack((np.ones(len(X)), X))\n",
        "    predictions = self.sigmoid(V)\n",
        "    return np.column_stack((predictions, 1-predictions))\n",
        "\n",
        "  def __str__(self):\n",
        "    model_str = 'y = 1 / [1 + e^{-('\n",
        "\n",
        "    for i, w_i in enumerate(self.w.flatten()):\n",
        "      model_str += str(w_i)\n",
        "\n",
        "      if i>0:\n",
        "        model_str += \"x_\" + str(i)\n",
        "      if i!=len(self.w)-1:\n",
        "        model_str += ' + '\n",
        "\n",
        "    return model_str + ')}]'"
      ]
    },
    {
      "cell_type": "markdown",
      "source": [
        "---\n",
        "\n",
        "## 2. One Dimensional Logistic Regression\n",
        "\n",
        "---\n",
        "\n",
        "First, we will take a look at fitting a logistic regression model to a dataset with a single feature and a single target."
      ],
      "metadata": {
        "id": "UZD_1jxQbikm"
      }
    },
    {
      "cell_type": "markdown",
      "source": [
        "#### Generate Dataset"
      ],
      "metadata": {
        "id": "j-wlUDUqFcXY"
      }
    },
    {
      "cell_type": "code",
      "source": [
        "train_size = 150\n",
        "test_size = 60\n",
        "\n",
        "np.random.seed(42)\n",
        "\n",
        "# Training dataset\n",
        "X_train1 = np.append(\n",
        "      np.random.normal(-5, 2, train_size//2), \n",
        "      np.random.normal(-1, 2, train_size//2)\n",
        "    ).reshape(-1, 1)\n",
        "y_train1 = np.append(\n",
        "      [1]*(train_size//2), \n",
        "      [0]*(train_size//2)\n",
        "    ).reshape(-1, 1)\n",
        "\n",
        "# Testing dataset\n",
        "X_test1 = np.append(\n",
        "      np.random.normal(-5, 2, test_size//2), \n",
        "      np.random.normal(-1, 2, test_size//2)\n",
        "    ).reshape(-1, 1)\n",
        "y_test1 = np.append(\n",
        "      [1]*(test_size//2), \n",
        "      [0]*(test_size//2)\n",
        "    ).reshape(-1, 1)\n",
        "\n",
        "plt.scatter(X_train1, y_train1, c='tab:blue', label='training data', alpha=0.5)\n",
        "plt.scatter(X_test1, y_test1, c='tab:orange', label='testing data', alpha=0.5)\n",
        "plt.title(\"Dataset\")\n",
        "plt.yticks([0, 1])\n",
        "plt.ylabel('class label')\n",
        "plt.legend()\n",
        "plt.show()"
      ],
      "metadata": {
        "colab": {
          "base_uri": "https://localhost:8080/",
          "height": 281
        },
        "id": "6s-GMUKv_l7G",
        "outputId": "30036d1c-a7de-4898-c130-b4957adc0a6f"
      },
      "execution_count": 104,
      "outputs": [
        {
          "output_type": "display_data",
          "data": {
            "text/plain": [
              "<Figure size 432x288 with 1 Axes>"
            ],
            "image/png": "[encoded data removed]"
          },
          "metadata": {
            "needs_background": "light"
          }
        }
      ]
    },
    {
      "cell_type": "markdown",
      "source": [
        "#### Fit a Logistic Regression Model to the Training Data"
      ],
      "metadata": {
        "id": "ujXbI0bCO5rF"
      }
    },
    {
      "cell_type": "code",
      "source": [
        "logreg = LogisticRegression(0.01)\n",
        "logreg.fit(X_train1, y_train1)\n",
        "\n",
        "print('Regression Model:\\n', logreg, \"\\n\")\n",
        "print('Model Parameters:\\n', logreg.w.flatten())"
      ],
      "metadata": {
        "colab": {
          "base_uri": "https://localhost:8080/"
        },
        "id": "3Cxgc9XJNtUS",
        "outputId": "4df30b02-81c0-4fbf-b527-379f6f68804c"
      },
      "execution_count": 105,
      "outputs": [
        {
          "output_type": "stream",
          "name": "stdout",
          "text": [
            "Regression Model:\n",
            " y = 1 / [1 + e^{-(-3.807275240299877 + -1.2148588040793835x_1)}] \n",
            "\n",
            "Model Parameters:\n",
            " [-3.80727524 -1.2148588 ]\n"
          ]
        }
      ]
    },
    {
      "cell_type": "markdown",
      "source": [
        "#### Use Fit Model to Make Predictions on the Testing Data."
      ],
      "metadata": {
        "id": "ca6ZJmGif_3P"
      }
    },
    {
      "cell_type": "code",
      "source": [
        "np.random.seed(100)\n",
        "y_pred1 = logreg.predict(X_test1)\n",
        "y_pred_proba1 = logreg.predict_proba(X_test1)\n",
        "\n",
        "print('First 10 predictions:\\n' + '-'*21)\n",
        "print('Class Predictions:', y_pred1.flatten()[0:10])\n",
        "print('Class Probabilities:\\n', np.round(y_pred_proba1, 3)[0:10])"
      ],
      "metadata": {
        "colab": {
          "base_uri": "https://localhost:8080/"
        },
        "id": "7h_NjL_PgJCl",
        "outputId": "a0f0b542-1f4e-4fec-c942-d46fc49bb94c"
      },
      "execution_count": 106,
      "outputs": [
        {
          "output_type": "stream",
          "name": "stdout",
          "text": [
            "First 10 predictions:\n",
            "---------------------\n",
            "Class Predictions: [1. 1. 1. 1. 1. 1. 0. 1. 1. 1.]\n",
            "Class Probabilities:\n",
            " [[0.84  0.16 ]\n",
            " [0.806 0.194]\n",
            " [0.981 0.019]\n",
            " [0.846 0.154]\n",
            " [0.826 0.174]\n",
            " [0.982 0.018]\n",
            " [0.094 0.906]\n",
            " [0.753 0.247]\n",
            " [0.994 0.006]\n",
            " [0.662 0.338]]\n"
          ]
        }
      ]
    },
    {
      "cell_type": "markdown",
      "source": [
        "#### Model Visualization"
      ],
      "metadata": {
        "id": "me7M-z7SPRsC"
      }
    },
    {
      "cell_type": "code",
      "source": [
        "D = np.linspace(-10, 4, 100)\n",
        "R = logreg.predict(D)\n",
        "\n",
        "plt.scatter(X_train1, y_train1, c='tab:blue', label='training data', alpha=0.5)\n",
        "plt.scatter(X_test1, y_test1, c='tab:orange', label='testing data', alpha=0.5)\n",
        "plt.plot(D, R, c='tab:red', label='logreg model')\n",
        "plt.title(\"Logistic Regression Model\")\n",
        "plt.yticks([0, 1])\n",
        "plt.ylabel('class label')\n",
        "plt.legend()\n",
        "plt.show()"
      ],
      "metadata": {
        "id": "ni73Cd4aPV89",
        "outputId": "581ad4e0-3bfe-4674-9c7d-a3a3d57b35df",
        "colab": {
          "base_uri": "https://localhost:8080/",
          "height": 281
        }
      },
      "execution_count": 107,
      "outputs": [
        {
          "output_type": "display_data",
          "data": {
            "text/plain": [
              "<Figure size 432x288 with 1 Axes>"
            ],
            "image/png": "[encoded data removed]"
          },
          "metadata": {
            "needs_background": "light"
          }
        }
      ]
    },
    {
      "cell_type": "markdown",
      "source": [
        "#### Metrics\n",
        "Now that we have fit a logistic regression model to the training data and used it to make predictions on the testing data, let's evaluate how good the model is at predicting the class of data sample."
      ],
      "metadata": {
        "id": "XRxGZHYNfvLx"
      }
    },
    {
      "cell_type": "markdown",
      "source": [
        "##### Accuracy, Precision, Recall, and F1 Score"
      ],
      "metadata": {
        "id": "54jFFBWH_P41"
      }
    },
    {
      "cell_type": "code",
      "source": [
        "def accuracy(y, y_pred):\n",
        "  return np.sum(y==y_pred)/len(y)\n",
        "\n",
        "def precision(y, y_pred):\n",
        "  tp = np.sum(np.logical_and(y==y_pred, y_pred==1))\n",
        "  fp = np.sum(np.logical_and(y!=y_pred, y_pred==1))\n",
        "  return tp/(tp+fp)\n",
        "\n",
        "def recall(y, y_pred):\n",
        "  tp = np.sum(np.logical_and(y==y_pred, y_pred==1))\n",
        "  fn = np.sum(np.logical_and(y!=y_pred, y_pred==0))\n",
        "  return tp/(tp+fn)\n",
        "\n",
        "def f1(y, y_pred):\n",
        "  pre = precision(y, y_pred)\n",
        "  rec = recall(y, y_pred)\n",
        "  return 2*pre*rec / (pre + rec)"
      ],
      "metadata": {
        "id": "4RhAZrLVjMbZ"
      },
      "execution_count": 108,
      "outputs": []
    },
    {
      "cell_type": "code",
      "source": [
        "y1 = np.array([1, 1, 0, 0, 1, 0, 1, 1, 0, 0, 0, 1]).reshape(-1, 1)\n",
        "y2 = np.array([1, 1, 0, 1, 1, 0, 0, 1, 1, 0, 1, 0]).reshape(-1, 1)\n",
        "\n",
        "print('Classification Metrics (testing data):\\n' + '-'*38)\n",
        "print('accuracy = %.3f' % accuracy(y_test1, y_pred1))\n",
        "print('precsion = %.3f' % precision(y_test1, y_pred1))\n",
        "print('recall = %.3f' % recall(y_test1, y_pred1))\n",
        "print('f1 score = %.3f' % f1(y_test1, y_pred1))"
      ],
      "metadata": {
        "colab": {
          "base_uri": "https://localhost:8080/"
        },
        "id": "kGS-LyCw4zy9",
        "outputId": "3229486d-415a-4d1e-d2b5-210a3ce5cbc5"
      },
      "execution_count": 109,
      "outputs": [
        {
          "output_type": "stream",
          "name": "stdout",
          "text": [
            "Classification Metrics (testing data):\n",
            "--------------------------------------\n",
            "accuracy = 0.817\n",
            "precsion = 0.828\n",
            "recall = 0.800\n",
            "f1 score = 0.814\n"
          ]
        }
      ]
    },
    {
      "cell_type": "markdown",
      "source": [
        "##### Confusion Matrix\n",
        "\n",
        "If may be useful to look at all true positives, false positives, true negatives, and false negatives from the models predictions. We can put these four values in a matrix called a confustion matrix and plot it."
      ],
      "metadata": {
        "id": "wIy6VSSV6Icp"
      }
    },
    {
      "cell_type": "code",
      "source": [
        "def conf_mat(y, y_pred):\n",
        "  tp = np.sum(np.logical_and(y==y_pred, y_pred==1))\n",
        "  fp = np.sum(np.logical_and(y!=y_pred, y_pred==1))\n",
        "  tn = np.sum(np.logical_and(y==y_pred, y_pred==0))\n",
        "  fn = np.sum(np.logical_and(y!=y_pred, y_pred==0))\n",
        "  \n",
        "  return np.array([[tn, fp], [fn, tp]])\n",
        "\n",
        "\n",
        "cf = conf_mat(y_test1, y_pred1)\n",
        "\n",
        "sns.heatmap(cf, annot=True)\n",
        "plt.title('Confusion Matrix')\n",
        "plt.ylabel('True Class')\n",
        "plt.xlabel('Predicted Class')\n",
        "plt.show()"
      ],
      "metadata": {
        "colab": {
          "base_uri": "https://localhost:8080/",
          "height": 295
        },
        "id": "fexJJfAr6Qx0",
        "outputId": "455ef3c2-5478-4499-9758-95be33b811bb"
      },
      "execution_count": 110,
      "outputs": [
        {
          "output_type": "display_data",
          "data": {
            "text/plain": [
              "<Figure size 432x288 with 2 Axes>"
            ],
            "image/png": "[encoded data removed]"
          },
          "metadata": {
            "needs_background": "light"
          }
        }
      ]
    },
    {
      "cell_type": "markdown",
      "source": [
        "##### Receiver Operating Characteristic (ROC) Curve and AUC"
      ],
      "metadata": {
        "id": "GdL6aw0O-eBR"
      }
    },
    {
      "cell_type": "code",
      "source": [
        "def get_roc(y_test, y_pred_proba):\n",
        "  tp_rates = []\n",
        "  fp_rates = []\n",
        "  probabilities = y_pred_proba[:, 1].flatten()\n",
        "\n",
        "  for p in np.linspace(0, 1, 100):\n",
        "    y_test_preds = probabilities > p\n",
        "    y_test_preds = y_test_preds.reshape(-1, 1)\n",
        "\n",
        "    fp = np.sum(np.logical_and(y_test1!=y_test_preds, y_test_preds==1))\n",
        "    tn = np.sum(np.logical_and(y_test1==y_test_preds, y_test_preds==0))\n",
        "\n",
        "    tpr = recall(y_test1, y_test_preds)\n",
        "    fpr = fp / (fp + tn)\n",
        "\n",
        "    tp_rates.append(tpr)\n",
        "    fp_rates.append(fpr)\n",
        "\n",
        "  return tp_rates, fp_rates\n",
        "\n",
        "tp_rates, fp_rates = get_roc(y_test1, y_pred_proba1)\n",
        "\n",
        "\n",
        "# Plot roc curve\n",
        "plt.plot(tp_rates, fp_rates, label='roc curve')\n",
        "plt.plot([0, 1], [0, 1], label='random guessing', c='tab:red', linestyle='dashed', alpha=0.6)\n",
        "plt.plot([0, 0, 1], [0, 1, 1], label='perfect model', c='tab:purple', linestyle='dashed', alpha=0.6)\n",
        "plt.title('Receiver Operating Characteristic')\n",
        "plt.xlabel('false positive rate')\n",
        "plt.ylabel('true positive rate')\n",
        "plt.legend()\n",
        "plt.show()"
      ],
      "metadata": {
        "colab": {
          "base_uri": "https://localhost:8080/",
          "height": 295
        },
        "id": "nlUTO-mL-qAY",
        "outputId": "9b6f5d15-595d-4821-97bc-20d43f3cb135"
      },
      "execution_count": 111,
      "outputs": [
        {
          "output_type": "display_data",
          "data": {
            "text/plain": [
              "<Figure size 432x288 with 1 Axes>"
            ],
            "image/png": "[encoded data removed]"
          },
          "metadata": {
            "needs_background": "light"
          }
        }
      ]
    },
    {
      "cell_type": "markdown",
      "source": [
        "---\n",
        "\n",
        "## 3. Multi-Dimensional Logistic Regression\n",
        "\n",
        "---\n",
        "\n",
        "Now let's take a look at fitting a logistic regression model to a dataset with multiple features and a single target."
      ],
      "metadata": {
        "id": "IDZONOoQfAut"
      }
    },
    {
      "cell_type": "markdown",
      "source": [
        "#### Generate Dataset"
      ],
      "metadata": {
        "id": "41IznNsZfRo2"
      }
    },
    {
      "cell_type": "code",
      "source": [
        "def generate_data(seed, x_shape):\n",
        "  np.random.seed(seed)\n",
        "  x1 = np.random.normal(-1, 2, size=x_shape)\n",
        "  x2 = np.random.normal(2.2, 2, size=x_shape)\n",
        "  y1 = np.zeros((x_shape[0], 1))\n",
        "  y2 = np.ones((x_shape[0], 1))\n",
        "\n",
        "  return np.vstack((x1, x2)), np.vstack((y1, y2))\n",
        "\n",
        "X_train2, y_train2 = generate_data(150, (30, 2))\n",
        "X_test2, y_test2 = generate_data(15, (8, 2))\n",
        "\n",
        "\n",
        "# Plot datasets\n",
        "fig, ax = plt.subplots(1, 2, figsize=(16, 7))\n",
        "plt.suptitle('2D Logistic Regression Datasets', fontsize=16)\n",
        "\n",
        "X_train2_class0 = X_train2[y_train2.flatten()==0]\n",
        "X_train2_class1 = X_train2[y_train2.flatten()==1]\n",
        "ax[0].scatter(X_train2_class0[:, 0], X_train2_class0[:, 1], c='tab:blue', alpha=0.65, label='class 0')\n",
        "ax[0].scatter(X_train2_class1[:, 0], X_train2_class1[:, 1], c='tab:orange', alpha=0.65, label='class 1')\n",
        "ax[0].set_title('Training Data')\n",
        "ax[0].legend(loc='upper left')\n",
        "\n",
        "X_test2_class0 = X_test2[y_test2.flatten()==0]\n",
        "X_test2_class1 = X_test2[y_test2.flatten()==1]\n",
        "ax[1].scatter(X_test2_class0[:, 0], X_test2_class0[:, 1], c='tab:blue', alpha=0.65, label='class 0')\n",
        "ax[1].scatter(X_test2_class1[:, 0], X_test2_class1[:, 1], c='tab:orange', alpha=0.65, label='class 1')\n",
        "ax[1].set_title('Testing Data')\n",
        "ax[1].legend(loc='upper left')\n",
        "\n",
        "plt.show()"
      ],
      "metadata": {
        "id": "uuardfGRLGqz",
        "outputId": "c5642d3d-2a63-4ac9-99b9-800c94e86226",
        "colab": {
          "base_uri": "https://localhost:8080/",
          "height": 479
        }
      },
      "execution_count": 112,
      "outputs": [
        {
          "output_type": "display_data",
          "data": {
            "text/plain": [
              "<Figure size 1152x504 with 2 Axes>"
            ],
            "image/png": "[encoded data removed]"
          },
          "metadata": {
            "needs_background": "light"
          }
        }
      ]
    },
    {
      "cell_type": "code",
      "source": [
        "logreg_2d = LogisticRegression(0.01)\n",
        "logreg_2d.fit(X_train2, y_train2)\n",
        "\n",
        "print('Regression Model:\\n', logreg_2d, \"\\n\")\n",
        "print('Model Parameters:\\n', logreg_2d.w.flatten())"
      ],
      "metadata": {
        "id": "hJ4kW4cfFYo2",
        "outputId": "491774ab-b7ca-41df-b15c-7e62c96b4d16",
        "colab": {
          "base_uri": "https://localhost:8080/"
        }
      },
      "execution_count": 113,
      "outputs": [
        {
          "output_type": "stream",
          "name": "stdout",
          "text": [
            "Regression Model:\n",
            " y = 1 / [1 + e^{-(-0.8526023210096947 + 0.9063102430547328x_1 + 0.7896742192297286x_2)}] \n",
            "\n",
            "Model Parameters:\n",
            " [-0.85260232  0.90631024  0.78967422]\n"
          ]
        }
      ]
    },
    {
      "cell_type": "code",
      "source": [
        "w_0, w_1, w_2 = logreg_2d.w\n",
        "\n",
        "D = np.linspace(-7, 7, 2)\n",
        "R = -(w_0+w_1*D) / w_2\n",
        "\n",
        "# Plot the decision boundry for the model\n",
        "plt.fill_between(D, R, min(R), color='tab:blue', alpha=0.2)\n",
        "plt.fill_between(D, R, max(R), color='tab:orange', alpha=0.2)\n",
        "plt.scatter(X_train2_class0[:, 0], X_train2_class0[:, 1], c='tab:blue', alpha=0.65, label='class 0')\n",
        "plt.scatter(X_train2_class1[:, 0], X_train2_class1[:, 1], c='tab:orange', alpha=0.65, label='class 1')\n",
        "plt.plot(D, R, '--', c='black')\n",
        "plt.title('2D Logistic Regression Decision Boundry')\n",
        "plt.legend(loc='upper left')\n",
        "plt.show()"
      ],
      "metadata": {
        "id": "HMn5t4Dxc6Rx",
        "outputId": "68beeafb-78b5-43ac-d1bf-9567a430616d",
        "colab": {
          "base_uri": "https://localhost:8080/",
          "height": 281
        }
      },
      "execution_count": 136,
      "outputs": [
        {
          "output_type": "display_data",
          "data": {
            "text/plain": [
              "<Figure size 432x288 with 1 Axes>"
            ],
            "image/png": "[encoded data removed]"
          },
          "metadata": {
            "needs_background": "light"
          }
        }
      ]
    }
  ]
}