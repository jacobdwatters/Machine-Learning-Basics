{
  "nbformat": 4,
  "nbformat_minor": 0,
  "metadata": {
    "colab": {
      "name": "01-logistic_regression_numpy.ipynb",
      "provenance": [],
      "toc_visible": true,
      "include_colab_link": true
    },
    "kernelspec": {
      "name": "python3",
      "display_name": "Python 3"
    },
    "language_info": {
      "name": "python"
    }
  },
  "cells": [
    {
      "cell_type": "markdown",
      "metadata": {
        "id": "view-in-github",
        "colab_type": "text"
      },
      "source": [
        "<a href=\"https://colab.research.google.com/github/jacobdwatters/Machine-Learning-Basics/blob/main/logistic_regression/01_logistic_regression_numpy.ipynb\" target=\"_parent\"><img src=\"https://colab.research.google.com/assets/colab-badge.svg\" alt=\"Open In Colab\"/></a>"
      ]
    },
    {
      "cell_type": "markdown",
      "source": [
        "---\n",
        "\n",
        "# Logistic Regression With NumPy\n",
        "\n",
        "---\n",
        "\n",
        "-- For more information on this code, watch the video lecture(s) --\n",
        "\n",
        "In this notebook we will explore implimenting a logistic regression model using only NumPy.\n",
        "We will explore several logistic regression models to solve the following classification problems: binary classification of single feature data, binary classification of multi-feature data, multi-label classification of single/multi-feature data.\n",
        "\n",
        "##### **Main Sections:**\n",
        "1. logistic regression for two labels (binary classification)<br>\n",
        "  1.1. logistic regression with a single feature<br>\n",
        "  1.2. logistic regression with multiple features\n",
        "2. logistic regression with multiple labels and features<br>\n",
        "  2.1. one-vs-rest<br>\n",
        "  2.2. one-vs-one<br>\n",
        "  2.3. multinomial/softmax regression\n",
        "3. conclusions"
      ],
      "metadata": {
        "id": "tb9F9-I3CTfB"
      }
    },
    {
      "cell_type": "markdown",
      "source": [
        "#### Imports and Setup"
      ],
      "metadata": {
        "id": "Qh_oFtcUCL-d"
      }
    },
    {
      "cell_type": "code",
      "source": [
        "import math\n",
        "\n",
        "import numpy as np\n",
        "import matplotlib\n",
        "import matplotlib.pyplot as plt\n",
        "import seaborn as sns\n",
        "\n",
        "%matplotlib inline"
      ],
      "metadata": {
        "id": "JkfR4Eq6U3jC"
      },
      "execution_count": null,
      "outputs": []
    },
    {
      "cell_type": "markdown",
      "source": [
        "---\n",
        "\n",
        "## 1: Binary Classification\n",
        "\n",
        "---"
      ],
      "metadata": {
        "id": "J41wB81l6_Hm"
      }
    },
    {
      "cell_type": "markdown",
      "source": [
        "\n",
        "#### Define the Logistic Regression Class\n",
        "\n",
        "We will use the same model for binary classification of single and multiple features. Recall, we wish to minimize the binary cross entropy function using gradient descent. \n",
        "\n",
        "As a refresher, here are some of the formulas we are interested in:\n",
        "\n",
        "- Logistic Regression Model \n",
        "> $\\hat{y_i} = \\cfrac{1}{1+e^{-\\mathbf{w\\cdot x_i}}}$\n",
        "- Binary Cross Entropy Loss (BCE)\n",
        "> $BCE(\\mathbf{w}) = -\\sum\\left[y_i\\cdot ln(\\hat{y}_i + (1-y_1)\\cdot ln(1-\\hat{y}_i) \\right]$\n",
        "- Binary Cross entropy Gradients\n",
        "> $\\nabla BCE(\\mathbf{w}) = \\sum(\\hat{y_i}-y_i)\\cdot \\mathbf{x_i}$\n",
        "- Gradient Descent\n",
        "> $\\mathbf{w}^{(i+1)} = \\mathbf{w}^{(i)} - \\alpha \\cdot \\nabla BCE \\left(\\mathbf{w}^{(i)}\\right)$ for $i=0, 1, 2, \\cdots$."
      ],
      "metadata": {
        "id": "eqTWqWIzPrmu"
      }
    },
    {
      "cell_type": "code",
      "execution_count": null,
      "metadata": {
        "id": "_kWrszIjUVuu"
      },
      "outputs": [],
      "source": [
        "class LogisticRegression:\n",
        "  \n",
        "  def __init__(self, lr=0.05, iterations=1000):\n",
        "    self.lr = lr\n",
        "    self.iterations = iterations \n",
        "\n",
        "  def sigmoid(self, X):\n",
        "    \"\"\"sigmoid/logistic function\"\"\"\n",
        "    return 1 / (1+np.exp(-X@self.w))\n",
        "  \n",
        "  def bce_grad(self, X, y):\n",
        "    \"\"\"binary cross-entropy gradient\"\"\"\n",
        "    return X.T@(self.sigmoid(X)-y)\n",
        "\n",
        "  def grad_descent(self, V, y):\n",
        "    \"\"\"Gradient Descent\"\"\"\n",
        "    # initialize weights to random value\n",
        "    self.w = np.random.normal(0, 0.2, size=(len(V[0]), 1))\n",
        "\n",
        "    for i in range(self.iterations):\n",
        "      self.w = self.w - self.lr*self.bce_grad(V, y)\n",
        "\n",
        "  def fit(self, X, y):\n",
        "    V = np.column_stack((np.ones(len(X)), X))\n",
        "    self.grad_descent(V, y)\n",
        "\n",
        "  def predict(self, X):\n",
        "    V = np.column_stack((np.ones(len(X)), X))\n",
        "    return np.round(self.sigmoid(V))\n",
        "\n",
        "  def predict_proba(self, X):\n",
        "    V = np.column_stack((np.ones(len(X)), X))\n",
        "    predictions = self.sigmoid(V)\n",
        "    return np.column_stack((predictions, 1-predictions))\n",
        "\n",
        "  def __str__(self):\n",
        "    model_str = 'y = 1 / [1 + e^{-('\n",
        "\n",
        "    for i, w_i in enumerate(self.w.flatten()):\n",
        "      model_str += str(w_i)\n",
        "\n",
        "      if i>0:\n",
        "        model_str += \"x_\" + str(i)\n",
        "      if i!=len(self.w.flatten())-1:\n",
        "        model_str += ' + '\n",
        "\n",
        "    return model_str + ')}]'"
      ]
    },
    {
      "cell_type": "markdown",
      "source": [
        "---\n",
        "\n",
        "### 1.2: Logistic Regression with a single feature\n",
        "\n",
        "---\n",
        "\n",
        "First, we will take a look at fitting a logistic regression model to a dataset with a single feature and a single target. This is the most simple version of logistic regression."
      ],
      "metadata": {
        "id": "UZD_1jxQbikm"
      }
    },
    {
      "cell_type": "markdown",
      "source": [
        "#### Generate Dataset\n",
        "\n",
        "As in the NumPy notebook for linear regression, we will make up a fake dataset to fit our model to. We will look at applying a logistic regression model to real world data in the scikit-learn logistic regression notebook. As alwayse, we will generate both a training and testing dataset.  "
      ],
      "metadata": {
        "id": "j-wlUDUqFcXY"
      }
    },
    {
      "cell_type": "code",
      "source": [
        "train_size = 150\n",
        "test_size = 60\n",
        "\n",
        "np.random.seed(42)\n",
        "\n",
        "# Training dataset\n",
        "X_train1 = np.append(\n",
        "      np.random.normal(-5, 2, train_size//2), \n",
        "      np.random.normal(-1, 2, train_size//2)\n",
        "    ).reshape(-1, 1)\n",
        "y_train1 = np.append(\n",
        "      [1]*(train_size//2), \n",
        "      [0]*(train_size//2)\n",
        "    ).reshape(-1, 1)\n",
        "\n",
        "# Testing dataset\n",
        "X_test1 = np.append(\n",
        "      np.random.normal(-5, 2, test_size//2), \n",
        "      np.random.normal(-1, 2, test_size//2)\n",
        "    ).reshape(-1, 1)\n",
        "y_test1 = np.append(\n",
        "      [1]*(test_size//2), \n",
        "      [0]*(test_size//2)\n",
        "    ).reshape(-1, 1)\n",
        "\n",
        "plt.scatter(X_train1, y_train1, c='tab:blue', label='training data', alpha=0.5)\n",
        "plt.scatter(X_test1, y_test1, c='tab:orange', label='testing data', alpha=0.5)\n",
        "plt.title(\"Dataset\")\n",
        "plt.yticks([0, 1])\n",
        "plt.ylabel('class label')\n",
        "plt.legend()\n",
        "plt.show()"
      ],
      "metadata": {
        "colab": {
          "base_uri": "https://localhost:8080/",
          "height": 281
        },
        "id": "6s-GMUKv_l7G",
        "outputId": "0c3119d6-e66a-4e74-e6df-e093f88dad6b"
      },
      "execution_count": null,
      "outputs": [
        {
          "output_type": "display_data",
          "data": {
            "text/plain": [
              "<Figure size 432x288 with 1 Axes>"
            ],
            "image/png": "[encoded data removed]"
          },
          "metadata": {
            "needs_background": "light"
          }
        }
      ]
    },
    {
      "cell_type": "markdown",
      "source": [
        "#### Fit a Logistic Regression Model to the Training Data\n",
        "\n",
        "Now we can create and fit a logistic regression model to our training data. \n",
        "\n",
        "*Try adjusting the learning rate and number of iterations*"
      ],
      "metadata": {
        "id": "ujXbI0bCO5rF"
      }
    },
    {
      "cell_type": "code",
      "source": [
        "logreg = LogisticRegression(0.01)\n",
        "logreg.fit(X_train1, y_train1)\n",
        "\n",
        "print('Regression Model:\\n', logreg, \"\\n\")\n",
        "print('Model Parameters:\\n', logreg.w.flatten())"
      ],
      "metadata": {
        "colab": {
          "base_uri": "https://localhost:8080/"
        },
        "id": "3Cxgc9XJNtUS",
        "outputId": "d22f624f-3fcb-4eb2-9464-07b7eb710626"
      },
      "execution_count": null,
      "outputs": [
        {
          "output_type": "stream",
          "name": "stdout",
          "text": [
            "Regression Model:\n",
            " y = 1 / [1 + e^{-(-3.807275240299877 + -1.2148588040793835x_1)}] \n",
            "\n",
            "Model Parameters:\n",
            " [-3.80727524 -1.2148588 ]\n"
          ]
        }
      ]
    },
    {
      "cell_type": "markdown",
      "source": [
        "#### Use Fit Model to Make Predictions on the Testing Data\n",
        "\n",
        "Now that we have fit a model to the training data, it can be used to make predictions on the testing data."
      ],
      "metadata": {
        "id": "ca6ZJmGif_3P"
      }
    },
    {
      "cell_type": "code",
      "source": [
        "np.random.seed(100)\n",
        "y_pred1 = logreg.predict(X_test1)\n",
        "y_pred_proba1 = logreg.predict_proba(X_test1)\n",
        "\n",
        "print('First 10 predictions:\\n' + '-'*21)\n",
        "print('Class Predictions:', y_pred1.flatten()[0:10])\n",
        "print('Class Probabilities:\\n', np.round(y_pred_proba1, 3)[0:10])"
      ],
      "metadata": {
        "colab": {
          "base_uri": "https://localhost:8080/"
        },
        "id": "7h_NjL_PgJCl",
        "outputId": "0e3c1b0c-a73e-4d4b-c5ef-62ba6c2e4208"
      },
      "execution_count": null,
      "outputs": [
        {
          "output_type": "stream",
          "name": "stdout",
          "text": [
            "First 10 predictions:\n",
            "---------------------\n",
            "Class Predictions: [1. 1. 1. 1. 1. 1. 0. 1. 1. 1.]\n",
            "Class Probabilities:\n",
            " [[0.84  0.16 ]\n",
            " [0.806 0.194]\n",
            " [0.981 0.019]\n",
            " [0.846 0.154]\n",
            " [0.826 0.174]\n",
            " [0.982 0.018]\n",
            " [0.094 0.906]\n",
            " [0.753 0.247]\n",
            " [0.994 0.006]\n",
            " [0.662 0.338]]\n"
          ]
        }
      ]
    },
    {
      "cell_type": "markdown",
      "source": [
        "#### Model Visualization\n",
        "It may be helpful to plot the models logitic curve on top of the data to see if it looks like it roughly fits the data."
      ],
      "metadata": {
        "id": "me7M-z7SPRsC"
      }
    },
    {
      "cell_type": "code",
      "source": [
        "D = np.linspace(-10, 4, 100)\n",
        "R = logreg.predict(D)\n",
        "\n",
        "plt.scatter(X_train1, y_train1, c='tab:blue', label='training data', alpha=0.5)\n",
        "plt.scatter(X_test1, y_test1, c='tab:orange', label='testing data', alpha=0.5)\n",
        "plt.plot(D, R, c='tab:red', label='logreg model')\n",
        "plt.title(\"Logistic Regression Model\")\n",
        "plt.yticks([0, 1])\n",
        "plt.ylabel('class label')\n",
        "plt.legend()\n",
        "plt.show()"
      ],
      "metadata": {
        "id": "ni73Cd4aPV89",
        "outputId": "a678c222-c2d4-4de6-df80-e32c9a6241fe",
        "colab": {
          "base_uri": "https://localhost:8080/",
          "height": 281
        }
      },
      "execution_count": null,
      "outputs": [
        {
          "output_type": "display_data",
          "data": {
            "text/plain": [
              "<Figure size 432x288 with 1 Axes>"
            ],
            "image/png": "[encoded data removed]"
          },
          "metadata": {
            "needs_background": "light"
          }
        }
      ]
    },
    {
      "cell_type": "markdown",
      "source": [
        "#### Metrics\n",
        "It's one thing to visually inspect a model and its predictions on the testing data. But, it would be nice to be able to quantify the performance of our model. We will look at a few of the many classification metrics."
      ],
      "metadata": {
        "id": "XRxGZHYNfvLx"
      }
    },
    {
      "cell_type": "markdown",
      "source": [
        "##### Accuracy, Precision, Recall, and F1 Score\n",
        "\n",
        "We will begin by defining functions to compute each of the following classification metrics: \n",
        "\n",
        "For each of the following, let...\n",
        "> TP = number of true positives <br>\n",
        "> TN = number of true negatives <br>\n",
        "> FP = number of false positives <br>\n",
        "> FN = number of false negatives <br>\n",
        "> P = TP + FP = number of positives <br>\n",
        "> N = TN + FN = number of negatives <br>\n",
        "\n",
        "1. Accuracy: The percentage (as a decimal) of correct class predctions made by the model.\n",
        "\n",
        "$$Accuracy = \\cfrac{TP + FP}{P+N}$$\n",
        "\n",
        "2. Precision: Also called the positive predictive value and tells us what proporition of positive predictions were made correctly.\n",
        "\n",
        "$$Precision = \\cfrac{TP}{TP + FP}$$\n",
        "\n",
        "3. Recall: Recall has many other names including sensitivity, hit rate, and true positive rate (TPR). It tells us the percentage of predictions which are relevant.\n",
        "\n",
        "$$Recall = \\cfrac{TP}{TP + FN}$$\n",
        "\n",
        "4. $F_1$ Score: The harmonic mean of precision and recall and is a measure of model accuracy. We have $0 \\leq F_1 \\leq 1$ where the closer $F_1$ is to 1 the better the accuracy of the model.\n",
        "\n",
        "$$F_1= \\cfrac{2\\cdot Precision \\cdot Recall}{Precision + Recall}$$"
      ],
      "metadata": {
        "id": "54jFFBWH_P41"
      }
    },
    {
      "cell_type": "code",
      "source": [
        "def accuracy(y, y_pred):\n",
        "  return np.sum(y==y_pred)/len(y)\n",
        "\n",
        "def precision(y, y_pred):\n",
        "  tp = np.sum(np.logical_and(y==y_pred, y_pred==1))\n",
        "  fp = np.sum(np.logical_and(y!=y_pred, y_pred==1))\n",
        "  return tp/(tp+fp)\n",
        "\n",
        "def recall(y, y_pred):\n",
        "  tp = np.sum(np.logical_and(y==y_pred, y_pred==1))\n",
        "  fn = np.sum(np.logical_and(y!=y_pred, y_pred==0))\n",
        "  return tp/(tp+fn)\n",
        "\n",
        "def f1(y, y_pred):\n",
        "  pre = precision(y, y_pred)\n",
        "  rec = recall(y, y_pred)\n",
        "  return 2*pre*rec / (pre + rec)"
      ],
      "metadata": {
        "id": "4RhAZrLVjMbZ"
      },
      "execution_count": null,
      "outputs": []
    },
    {
      "cell_type": "code",
      "source": [
        "print('Classification Metrics (testing data):\\n' + '-'*38)\n",
        "print('accuracy = %.3f' % accuracy(y_test1, y_pred1))\n",
        "print('precsion = %.3f' % precision(y_test1, y_pred1))\n",
        "print('recall = %.3f' % recall(y_test1, y_pred1))\n",
        "print('f1 score = %.3f' % f1(y_test1, y_pred1))"
      ],
      "metadata": {
        "colab": {
          "base_uri": "https://localhost:8080/"
        },
        "id": "kGS-LyCw4zy9",
        "outputId": "7559d58e-40c0-4b8e-d3e4-865a7ca407d5"
      },
      "execution_count": null,
      "outputs": [
        {
          "output_type": "stream",
          "name": "stdout",
          "text": [
            "Classification Metrics (testing data):\n",
            "--------------------------------------\n",
            "accuracy = 0.817\n",
            "precsion = 0.828\n",
            "recall = 0.800\n",
            "f1 score = 0.814\n"
          ]
        }
      ]
    },
    {
      "cell_type": "markdown",
      "source": [
        "##### Confusion Matrix\n",
        "\n",
        "If may be useful to look at all true positives, false positives, true negatives, and false negatives from the models predictions. We can put these four values in a matrix called a confustion matrix and plot it. If our model is perfect, the only non-zero values will be along the priciple diagonal of the matrix."
      ],
      "metadata": {
        "id": "wIy6VSSV6Icp"
      }
    },
    {
      "cell_type": "code",
      "source": [
        "def conf_mat(y, y_pred):\n",
        "  tp = np.sum(np.logical_and(y==y_pred, y_pred==1))\n",
        "  fp = np.sum(np.logical_and(y!=y_pred, y_pred==1))\n",
        "  tn = np.sum(np.logical_and(y==y_pred, y_pred==0))\n",
        "  fn = np.sum(np.logical_and(y!=y_pred, y_pred==0))\n",
        "  \n",
        "  return np.array([[tn, fp], [fn, tp]])\n",
        "\n",
        "\n",
        "cf = conf_mat(y_test1, y_pred1)\n",
        "\n",
        "sns.heatmap(cf, annot=True)\n",
        "plt.title('Confusion Matrix')\n",
        "plt.ylabel('True Class')\n",
        "plt.xlabel('Predicted Class')\n",
        "plt.show()"
      ],
      "metadata": {
        "colab": {
          "base_uri": "https://localhost:8080/",
          "height": 295
        },
        "id": "fexJJfAr6Qx0",
        "outputId": "33b9f609-9cdf-4946-8722-826186e2e737"
      },
      "execution_count": null,
      "outputs": [
        {
          "output_type": "display_data",
          "data": {
            "text/plain": [
              "<Figure size 432x288 with 2 Axes>"
            ],
            "image/png": "[encoded data removed]"
          },
          "metadata": {
            "needs_background": "light"
          }
        }
      ]
    },
    {
      "cell_type": "markdown",
      "source": [
        "##### Receiver Operating Characteristic (ROC) Curve and AUC\n",
        "\n",
        "Generally with logistic regression, we use $\\hat{y}=\\frac{1}{2}$ as the classification threshold. That is if the output of the model is greater than or equal to $\\frac{1}{2}$ then we say the model predicts the sample to be in class 1. If the output of the model is less than $\\frac{1}{2}$ then we say the model predicts the sample to be in class 0. Although it may make the most sense intuitivly to use $\\frac{1}{2}$ we can choose any threshold between 0 and 1 as the threshold. This leads us to the ROC Curve and AUC metric.\n",
        "\n",
        "1. **ROC Curve**:\n",
        "If the model had perfect predictive power, it would have 100% accuracy for all thresholds within this range. We can make predictoins with our model and vary the threshold from 0 to 1 and plot the false positive rate angainst the true positive rate for each threshold. The resulting curve is called the reciever operating characteristic (ROC) curve and it provides an idea of the predictive power of the classification model.\n",
        "\n",
        "2. **AUC**: We can also compute the area beneath the ROC curve (AUC) as a classification metric. The closer to 1, the better the model is performing."
      ],
      "metadata": {
        "id": "GdL6aw0O-eBR"
      }
    },
    {
      "cell_type": "code",
      "source": [
        "def get_roc(y_test, y_pred_proba):\n",
        "  tp_rates = []\n",
        "  fp_rates = []\n",
        "  probabilities = y_pred_proba[:, 1].flatten()\n",
        "\n",
        "  for p in np.linspace(0, 1, 1000):\n",
        "    y_test_preds = probabilities > p\n",
        "    y_test_preds = y_test_preds.reshape(-1, 1)\n",
        "\n",
        "    fp = np.sum(np.logical_and(y_test!=y_test_preds, y_test_preds==1))\n",
        "    tn = np.sum(np.logical_and(y_test==y_test_preds, y_test_preds==0))\n",
        "\n",
        "    tpr = recall(y_test, y_test_preds)\n",
        "    fpr = fp / (fp + tn)\n",
        "\n",
        "    tp_rates.append(tpr)\n",
        "    fp_rates.append(fpr)\n",
        "\n",
        "  tp_rates = np.array(tp_rates)\n",
        "  fp_rates = np.array(fp_rates)\n",
        "\n",
        "  heights = tp_rates[0:-1]\n",
        "  widths = -np.diff(fp_rates)\n",
        "  auc = 1-sum(heights*widths)\n",
        "\n",
        "  return tp_rates, fp_rates, auc\n",
        "\n",
        "tp_rates, fp_rates, auc = get_roc(y_test1, y_pred_proba1)\n",
        "\n",
        "# Plot roc curve\n",
        "print('Area Under Curve (AUC):', auc)\n",
        "plt.plot(tp_rates, fp_rates, label='roc curve')\n",
        "plt.plot([0, 1], [0, 1], label='random guessing', c='tab:red', linestyle='dashed', alpha=0.6)\n",
        "plt.plot([0, 0, 1], [0, 1, 1], label='perfect model', c='tab:purple', linestyle='dashed', alpha=0.6)\n",
        "plt.title('Receiver Operating Characteristic')\n",
        "plt.xlabel('false positive rate')\n",
        "plt.ylabel('true positive rate')\n",
        "plt.text(0.7, 0.35, 'AUC = ' + str(round(auc, 3)))\n",
        "plt.legend()\n",
        "plt.show()"
      ],
      "metadata": {
        "colab": {
          "base_uri": "https://localhost:8080/",
          "height": 313
        },
        "id": "nlUTO-mL-qAY",
        "outputId": "0eff7182-902f-480b-b2ba-ef0f999f40e5"
      },
      "execution_count": null,
      "outputs": [
        {
          "output_type": "stream",
          "name": "stdout",
          "text": [
            "Area Under Curve (AUC): 0.908888888888889\n"
          ]
        },
        {
          "output_type": "display_data",
          "data": {
            "text/plain": [
              "<Figure size 432x288 with 1 Axes>"
            ],
            "image/png": "[encoded data removed]"
          },
          "metadata": {
            "needs_background": "light"
          }
        }
      ]
    },
    {
      "cell_type": "markdown",
      "source": [
        "---\n",
        "\n",
        "### 1.3: Multi-Feature Logistic Regression\n",
        "\n",
        "---\n",
        "\n",
        "Now let's take a look at fitting a logistic regression model to a dataset with multiple features and a single target."
      ],
      "metadata": {
        "id": "IDZONOoQfAut"
      }
    },
    {
      "cell_type": "markdown",
      "source": [
        "#### Generate Dataset"
      ],
      "metadata": {
        "id": "41IznNsZfRo2"
      }
    },
    {
      "cell_type": "code",
      "source": [
        "def generate_data(seed, x_shape):\n",
        "  np.random.seed(seed)\n",
        "  x1 = np.random.normal(-1, 2.5, size=x_shape)\n",
        "  x2 = np.random.normal(2.2, 2.5, size=x_shape)\n",
        "  y1 = np.zeros((x_shape[0], 1))\n",
        "  y2 = np.ones((x_shape[0], 1))\n",
        "\n",
        "  return np.vstack((x1, x2)), np.vstack((y1, y2))\n",
        "\n",
        "X_train2, y_train2 = generate_data(150, (60, 2))\n",
        "X_test2, y_test2 = generate_data(15, (20, 2))\n",
        "\n",
        "\n",
        "# Plot datasets\n",
        "fig, ax = plt.subplots(1, 2, figsize=(16, 7))\n",
        "plt.suptitle('2D Logistic Regression Datasets', fontsize=16)\n",
        "\n",
        "X_train2_class0 = X_train2[y_train2.flatten()==0]\n",
        "X_train2_class1 = X_train2[y_train2.flatten()==1]\n",
        "ax[0].scatter(X_train2_class0[:, 0], X_train2_class0[:, 1], c='tab:blue', alpha=0.65, label='class 0')\n",
        "ax[0].scatter(X_train2_class1[:, 0], X_train2_class1[:, 1], c='tab:orange', alpha=0.65, label='class 1')\n",
        "ax[0].set_title('Training Data')\n",
        "ax[0].legend(loc='upper left')\n",
        "\n",
        "X_test2_class0 = X_test2[y_test2.flatten()==0]\n",
        "X_test2_class1 = X_test2[y_test2.flatten()==1]\n",
        "ax[1].scatter(X_test2_class0[:, 0], X_test2_class0[:, 1], c='tab:blue', alpha=0.65, label='class 0')\n",
        "ax[1].scatter(X_test2_class1[:, 0], X_test2_class1[:, 1], c='tab:orange', alpha=0.65, label='class 1')\n",
        "ax[1].set_title('Testing Data')\n",
        "ax[1].legend(loc='upper left')\n",
        "\n",
        "plt.show()"
      ],
      "metadata": {
        "id": "uuardfGRLGqz",
        "outputId": "1a58f6b4-adbf-449f-a006-6e1361741a9e",
        "colab": {
          "base_uri": "https://localhost:8080/",
          "height": 444
        }
      },
      "execution_count": null,
      "outputs": [
        {
          "output_type": "display_data",
          "data": {
            "text/plain": [
              "<Figure size 1152x504 with 2 Axes>"
            ],
            "image/png": "[encoded data removed]"
          },
          "metadata": {
            "needs_background": "light"
          }
        }
      ]
    },
    {
      "cell_type": "markdown",
      "source": [
        "#### Fit a Logistic Regression Model to the Training Data"
      ],
      "metadata": {
        "id": "5VCfi0EnrtZJ"
      }
    },
    {
      "cell_type": "code",
      "source": [
        "logreg_2d = LogisticRegression(0.01)\n",
        "logreg_2d.fit(X_train2, y_train2)\n",
        "\n",
        "print('Regression Model:\\n', logreg_2d, \"\\n\")\n",
        "print('Model Parameters:\\n', logreg_2d.w.flatten())"
      ],
      "metadata": {
        "id": "hJ4kW4cfFYo2",
        "outputId": "877c7fb3-ac67-4c57-da1c-fa4901714ec0",
        "colab": {
          "base_uri": "https://localhost:8080/"
        }
      },
      "execution_count": null,
      "outputs": [
        {
          "output_type": "stream",
          "name": "stdout",
          "text": [
            "Regression Model:\n",
            " y = 1 / [1 + e^{-(-0.46198278154135214 + 0.47846314112423943x_1 + 0.5231959052729238x_2)}] \n",
            "\n",
            "Model Parameters:\n",
            " [-0.46198278  0.47846314  0.52319591]\n"
          ]
        }
      ]
    },
    {
      "cell_type": "markdown",
      "source": [
        "#### Use Fit Model to Make Predictions on the Testing Data"
      ],
      "metadata": {
        "id": "-FEBvebGsSa-"
      }
    },
    {
      "cell_type": "code",
      "source": [
        "y_pred2 = logreg_2d.predict(X_test2)\n",
        "y_pred_proba2 = logreg_2d.predict_proba(X_test2)\n",
        "\n",
        "print('First 10 predictions:\\n' + '-'*21)\n",
        "print('Class Predictions:', y_pred2.flatten()[0:10])\n",
        "print('Class Probabilities:\\n', np.round(y_pred_proba2, 3)[0:10])"
      ],
      "metadata": {
        "id": "PncU-XLdsSBN",
        "outputId": "e8ac8f3b-ea54-4ede-e2be-d7189ef37b40",
        "colab": {
          "base_uri": "https://localhost:8080/"
        }
      },
      "execution_count": null,
      "outputs": [
        {
          "output_type": "stream",
          "name": "stdout",
          "text": [
            "First 10 predictions:\n",
            "---------------------\n",
            "Class Predictions: [0. 0. 0. 0. 0. 0. 0. 0. 1. 0.]\n",
            "Class Probabilities:\n",
            " [[0.199 0.801]\n",
            " [0.091 0.909]\n",
            " [0.03  0.97 ]\n",
            " [0.015 0.985]\n",
            " [0.08  0.92 ]\n",
            " [0.225 0.775]\n",
            " [0.475 0.525]\n",
            " [0.205 0.795]\n",
            " [0.607 0.393]\n",
            " [0.348 0.652]]\n"
          ]
        }
      ]
    },
    {
      "cell_type": "markdown",
      "source": [
        "#### Model Visualization"
      ],
      "metadata": {
        "id": "x9K_laAasDhA"
      }
    },
    {
      "cell_type": "code",
      "source": [
        "w_0, w_1, w_2 = logreg_2d.w\n",
        "\n",
        "D = np.linspace(-10, 10, 2)\n",
        "R = -(w_0+w_1*D) / w_2\n",
        "\n",
        "# Plot the decision boundry for the model\n",
        "plt.fill_between(D, R, min(R), color='tab:blue', alpha=0.2)\n",
        "plt.fill_between(D, R, max(R), color='tab:orange', alpha=0.2)\n",
        "plt.scatter(X_train2_class0[:, 0], X_train2_class0[:, 1], c='tab:blue', alpha=0.65, label='class 0')\n",
        "plt.scatter(X_train2_class1[:, 0], X_train2_class1[:, 1], c='tab:orange', alpha=0.65, label='class 1')\n",
        "plt.plot(D, R, '--', c='black')\n",
        "plt.title('2D Logistic Regression Decision Boundry')\n",
        "plt.legend(loc='upper left')\n",
        "plt.show()"
      ],
      "metadata": {
        "id": "HMn5t4Dxc6Rx",
        "outputId": "a613b7cc-2e62-4c43-bcb9-11d39a188d06",
        "colab": {
          "base_uri": "https://localhost:8080/",
          "height": 281
        }
      },
      "execution_count": null,
      "outputs": [
        {
          "output_type": "display_data",
          "data": {
            "text/plain": [
              "<Figure size 432x288 with 1 Axes>"
            ],
            "image/png": "[encoded data removed]"
          },
          "metadata": {
            "needs_background": "light"
          }
        }
      ]
    },
    {
      "cell_type": "markdown",
      "source": [
        "#### Metrics"
      ],
      "metadata": {
        "id": "xtQG8eIWbeha"
      }
    },
    {
      "cell_type": "markdown",
      "source": [
        "##### Accuracy, Precision, Recall, and F1 Score"
      ],
      "metadata": {
        "id": "PCQIg71wcQ09"
      }
    },
    {
      "cell_type": "code",
      "source": [
        "print('Classification Metrics (testing data):\\n' + '-'*38)\n",
        "print('accuracy = %.3f' % accuracy(y_test2, y_pred2))\n",
        "print('precsion = %.3f' % precision(y_test2, y_pred2))\n",
        "print('recall = %.3f' % recall(y_test2, y_pred2))\n",
        "print('f1 score = %.3f' % f1(y_test2, y_pred2))"
      ],
      "metadata": {
        "id": "KO0eLwLDbh6p",
        "outputId": "d69f5596-4fa8-4a30-bf0d-a94ce4283867",
        "colab": {
          "base_uri": "https://localhost:8080/"
        }
      },
      "execution_count": null,
      "outputs": [
        {
          "output_type": "stream",
          "name": "stdout",
          "text": [
            "Classification Metrics (testing data):\n",
            "--------------------------------------\n",
            "accuracy = 0.875\n",
            "precsion = 0.857\n",
            "recall = 0.900\n",
            "f1 score = 0.878\n"
          ]
        }
      ]
    },
    {
      "cell_type": "markdown",
      "source": [
        "##### Confustion Matrix"
      ],
      "metadata": {
        "id": "rEk-GkbBcpOT"
      }
    },
    {
      "cell_type": "code",
      "source": [
        "cf2 = conf_mat(y_test2, y_pred2)\n",
        "\n",
        "sns.heatmap(cf2, annot=True)\n",
        "plt.title('Confusion Matrix')\n",
        "plt.ylabel('True Class')\n",
        "plt.xlabel('Predicted Class')\n",
        "plt.show()"
      ],
      "metadata": {
        "id": "m75ft-p3coV_",
        "outputId": "cfc7863e-1efb-4b94-9b2f-2fcb5bca2021",
        "colab": {
          "base_uri": "https://localhost:8080/",
          "height": 295
        }
      },
      "execution_count": null,
      "outputs": [
        {
          "output_type": "display_data",
          "data": {
            "text/plain": [
              "<Figure size 432x288 with 2 Axes>"
            ],
            "image/png": "[encoded data removed]"
          },
          "metadata": {
            "needs_background": "light"
          }
        }
      ]
    },
    {
      "cell_type": "markdown",
      "source": [
        "##### Receiver Operating Characteristic (ROC) Curve and AUC"
      ],
      "metadata": {
        "id": "SH9KdCfTc-bL"
      }
    },
    {
      "cell_type": "code",
      "source": [
        "tp_rates2, fp_rates2, auc2 = get_roc(y_test2, y_pred_proba2)\n",
        "\n",
        "# Plot roc curve\n",
        "print('Area Under Curve (AUC):', auc2)\n",
        "plt.plot(tp_rates2, fp_rates2, label='roc curve')\n",
        "plt.plot([0, 1], [0, 1], label='random guessing', c='tab:red', linestyle='dashed', alpha=0.6)\n",
        "plt.plot([0, 0, 1], [0, 1, 1], label='perfect model', c='tab:purple', linestyle='dashed', alpha=0.6)\n",
        "plt.title('Receiver Operating Characteristic')\n",
        "plt.xlabel('false positive rate')\n",
        "plt.ylabel('true positive rate')\n",
        "plt.text(0.7, 0.35, 'AUC = ' + str(round(auc2, 3)))\n",
        "plt.legend()\n",
        "plt.show()"
      ],
      "metadata": {
        "id": "kIBNmmzTdDQn",
        "outputId": "9d934fad-7b2a-4b00-f3f4-506bc0467d49",
        "colab": {
          "base_uri": "https://localhost:8080/",
          "height": 313
        }
      },
      "execution_count": null,
      "outputs": [
        {
          "output_type": "stream",
          "name": "stdout",
          "text": [
            "Area Under Curve (AUC): 0.9375\n"
          ]
        },
        {
          "output_type": "display_data",
          "data": {
            "text/plain": [
              "<Figure size 432x288 with 1 Axes>"
            ],
            "image/png": "[encoded data removed]"
          },
          "metadata": {
            "needs_background": "light"
          }
        }
      ]
    },
    {
      "cell_type": "markdown",
      "source": [
        "---\n",
        "\n",
        "## 2) Multi-Label Logistic Regression\n",
        "\n",
        "---"
      ],
      "metadata": {
        "id": "Mm1RXmDvgfaF"
      }
    },
    {
      "cell_type": "markdown",
      "source": [
        "#### Generate Dataset"
      ],
      "metadata": {
        "id": "dEJBpsVlgrSv"
      }
    },
    {
      "cell_type": "code",
      "source": [
        "def generate_data_ovr(seed, x_shape):\n",
        "  np.random.seed(seed)\n",
        "  x1 = np.random.normal(-1, 2, size=x_shape)\n",
        "  x2 = np.random.normal(2.4, 2, size=x_shape)\n",
        "  x3 = np.random.normal(-5, 2, size=x_shape)*[1, -1]\n",
        "  y1 = np.array([0 for i in range(x_shape[0])])\n",
        "  y2 = np.array([1 for i in range(x_shape[0])])\n",
        "  y3 = np.array([2 for i in range(x_shape[0])])\n",
        "\n",
        "  return np.vstack((x1, x2, x3)), np.vstack((y1, y2, y3))\n",
        "\n",
        "def one_hot_encode(y):\n",
        "  unique_values = np.unique(y)\n",
        "  encodings = {}\n",
        "\n",
        "  for i, x in enumerate(unique_values):\n",
        "    enc = np.zeros(len(unique_values))\n",
        "    enc[i] = 1\n",
        "    encodings[x] = enc\n",
        "\n",
        "  y_one_hot = np.zeros((len(y), len(unique_values)))\n",
        "  for i, x in enumerate(y):\n",
        "    y_one_hot[i] = encodings[x]\n",
        "\n",
        "  return y_one_hot\n",
        "\n",
        "X_train3, y_train3 = generate_data_ovr(150, (35, 2))\n",
        "X_test3, y_test3 = generate_data_ovr(15, (20, 2))\n",
        "\n",
        "y_train3 = one_hot_encode(y_train3.flatten())\n",
        "y_test3 = one_hot_encode(y_test3.flatten())\n",
        "\n",
        "# Plot datasets\n",
        "fig, ax = plt.subplots(1, 2, figsize=(16, 7))\n",
        "plt.suptitle('2D Logistic Regression Datasets', fontsize=16)\n",
        "\n",
        "X_train3_class0 = X_train3[[np.array_equal(y_train3[i], [1, 0, 0]) for i in range(len(y_train3))]]\n",
        "X_train3_class1 = X_train3[[np.array_equal(y_train3[i], [0, 1, 0]) for i in range(len(y_train3))]]\n",
        "X_train3_class2 = X_train3[[np.array_equal(y_train3[i], [0, 0, 1]) for i in range(len(y_train3))]]\n",
        "ax[0].scatter(X_train3_class0[:, 0], X_train3_class0[:, 1], c='tab:blue', alpha=0.65, label='class 0')\n",
        "ax[0].scatter(X_train3_class1[:, 0], X_train3_class1[:, 1], c='tab:orange', alpha=0.65, label='class 1')\n",
        "ax[0].scatter(X_train3_class2[:, 0], X_train3_class2[:, 1], c='tab:green', alpha=0.65, label='class 2')\n",
        "ax[0].set_title('Training Data')\n",
        "ax[0].legend(loc='upper right')\n",
        "\n",
        "X_test3_class0 = X_test3[[np.array_equal(y_test3[i], [1, 0, 0]) for i in range(len(y_test3))]]\n",
        "X_test3_class1 = X_test3[[np.array_equal(y_test3[i], [0, 1, 0]) for i in range(len(y_test3))]]\n",
        "X_test3_class2 = X_test3[[np.array_equal(y_test3[i], [0, 0, 1]) for i in range(len(y_test3))]]\n",
        "ax[1].scatter(X_test3_class0[:, 0], X_test3_class0[:, 1], c='tab:blue', alpha=0.65, label='class 0')\n",
        "ax[1].scatter(X_test3_class1[:, 0], X_test3_class1[:, 1], c='tab:orange', alpha=0.65, label='class 1')\n",
        "ax[1].scatter(X_test3_class2[:, 0], X_test3_class2[:, 1], c='tab:green', alpha=0.65, label='class 2')\n",
        "ax[1].set_title('Testing Data')\n",
        "ax[1].legend(loc='upper right')"
      ],
      "metadata": {
        "id": "CzRI31uCs-5Z",
        "outputId": "14754995-35fc-4e3a-8d37-e81e66dc66b5",
        "colab": {
          "base_uri": "https://localhost:8080/",
          "height": 462
        }
      },
      "execution_count": null,
      "outputs": [
        {
          "output_type": "execute_result",
          "data": {
            "text/plain": [
              "<matplotlib.legend.Legend at 0x7ff8f5bfd050>"
            ]
          },
          "metadata": {},
          "execution_count": 18
        },
        {
          "output_type": "display_data",
          "data": {
            "text/plain": [
              "<Figure size 1152x504 with 2 Axes>"
            ],
            "image/png": "[encoded data removed]"
          },
          "metadata": {
            "needs_background": "light"
          }
        }
      ]
    },
    {
      "cell_type": "markdown",
      "source": [
        "---\n",
        "\n",
        "### 2.1) One Vs. Rest\n",
        "\n",
        "---"
      ],
      "metadata": {
        "id": "i-DY4cd8gu3M"
      }
    },
    {
      "cell_type": "markdown",
      "source": [
        "#### Define One Vs Rest Class"
      ],
      "metadata": {
        "id": "qHPvXnE_z-Rd"
      }
    },
    {
      "cell_type": "code",
      "source": [
        "class LogisticRegresionOVR():\n",
        "\n",
        "  def __init__(self, lr=0.05, iterations=1000):\n",
        "    self.lr = lr\n",
        "    self.iterations = iterations\n",
        "\n",
        "  def fit(self, X, y):\n",
        "    \"\"\"y is assumed to be a list of one-hot vectors\"\"\"\n",
        "    num_models = len(y[0])\n",
        "    self.logreg_models = [LogisticRegression(self.lr, self.iterations) for i in range(num_models)]\n",
        "\n",
        "    # Fit each model using the one VS rest approach\n",
        "    for i in range(num_models):\n",
        "      y_one = y[:, i]\n",
        "      y_rest = np.sum(np.delete(y, i, axis=1), axis=1)\n",
        "      y_ovr_split = np.column_stack((y_one, y_rest))\n",
        "      self.logreg_models[i].fit(X, y[:, i].reshape(-1, 1))\n",
        "\n",
        "  def predict(self, X):\n",
        "    preds = np.column_stack([m.predict_proba(X)[:, 0] for m in self.logreg_models])\n",
        "    return np.argmax(preds, axis=1)\n",
        "\n",
        "  def __str__(self):\n",
        "    model_str = ''\n",
        "    \n",
        "    for i, m in enumerate(self.logreg_models):\n",
        "      model_str += 'model ' + str(i+1) + ': ' + m.__str__() + '\\n'\n",
        "\n",
        "    return model_str"
      ],
      "metadata": {
        "id": "Da09wnJqiPhK"
      },
      "execution_count": null,
      "outputs": []
    },
    {
      "cell_type": "markdown",
      "source": [
        "#### Fit a One Vs Rest Logistic Regression Model"
      ],
      "metadata": {
        "id": "iagVzdlQ0GaU"
      }
    },
    {
      "cell_type": "code",
      "source": [
        "logreg_ovr = LogisticRegresionOVR()\n",
        "logreg_ovr.fit(X_train3, y_train3)\n",
        "print(logreg_ovr)"
      ],
      "metadata": {
        "id": "21KN2b250MGT",
        "outputId": "3d81f85b-0209-47a8-f347-fe058363d3ed",
        "colab": {
          "base_uri": "https://localhost:8080/"
        }
      },
      "execution_count": null,
      "outputs": [
        {
          "output_type": "stream",
          "name": "stdout",
          "text": [
            "model 1: y = 1 / [1 + e^{-(-0.8566756622316503 + 0.5159249823670846x_1 + -4.039143334620551x_2)}]\n",
            "model 2: y = 1 / [1 + e^{-(-2.915806072378593 + 3.2602894562434788x_1 + 1.695296632773751x_2)}]\n",
            "model 3: y = 1 / [1 + e^{-(-8.561553109055664 + -1.8938651771540767x_1 + 1.0502786461569134x_2)}]\n",
            "\n"
          ]
        }
      ]
    },
    {
      "cell_type": "markdown",
      "source": [
        "#### Use Fit Model to Make Predictions on the Testing Data"
      ],
      "metadata": {
        "id": "Xw4yp0wJ23CC"
      }
    },
    {
      "cell_type": "code",
      "source": [
        "y_pred3 = logreg_ovr.predict(X_test3)\n",
        "print('Actual Classes:', np.argmax(y_test3, axis=1))\n",
        "print('Predicted Classes:', y_pred3)"
      ],
      "metadata": {
        "id": "xJh2c3QQ28Zj",
        "outputId": "4e192763-777e-415a-a30b-1586af71bd83",
        "colab": {
          "base_uri": "https://localhost:8080/"
        }
      },
      "execution_count": null,
      "outputs": [
        {
          "output_type": "stream",
          "name": "stdout",
          "text": [
            "Actual Classes: [0 0 0 0 0 0 0 0 0 0 0 0 0 0 0 0 0 0 0 0 1 1 1 1 1 1 1 1 1 1 1 1 1 1 1 1 1\n",
            " 1 1 1 2 2 2 2 2 2 2 2 2 2 2 2 2 2 2 2 2 2 2 2]\n",
            "Predicted Classes: [0 0 0 0 0 0 0 0 1 0 0 0 0 2 1 0 0 0 0 2 1 1 1 1 1 1 1 1 1 1 1 1 1 1 1 0 1\n",
            " 1 1 1 2 2 2 2 2 2 1 2 2 2 2 2 2 2 1 2 2 2 2 2]\n"
          ]
        }
      ]
    },
    {
      "cell_type": "markdown",
      "source": [
        "#### Model Visualization"
      ],
      "metadata": {
        "id": "x7I9-mul287n"
      }
    },
    {
      "cell_type": "code",
      "source": [
        "xx, yy = np.mgrid[-11:7:0.01, -6:10:0.01]\n",
        "D = np.c_[xx.ravel(), yy.ravel()]\n",
        "R = logreg_ovr.predict(D).reshape(xx.shape)\n",
        "\n",
        "\n",
        "# Plot the decision boundries of the one vs rest model for the training and testing data.\n",
        "fig, ax = plt.subplots(1, 2, figsize=(16, 6))\n",
        "plt.suptitle('OVR Logistic Regression Decision Boundries', fontsize=16)\n",
        "\n",
        "X_train3_class0 = X_train3[[np.array_equal(y_train3[i], [1, 0, 0]) for i in range(len(y_train3))]]\n",
        "X_train3_class1 = X_train3[[np.array_equal(y_train3[i], [0, 1, 0]) for i in range(len(y_train3))]]\n",
        "X_train3_class2 = X_train3[[np.array_equal(y_train3[i], [0, 0, 1]) for i in range(len(y_train3))]]\n",
        "ax[0].scatter(X_train3_class0[:, 0], X_train3_class0[:, 1], c='tab:blue', alpha=0.65, label='class 0')\n",
        "ax[0].scatter(X_train3_class1[:, 0], X_train3_class1[:, 1], c='tab:orange', alpha=0.65, label='class 1')\n",
        "ax[0].scatter(X_train3_class2[:, 0], X_train3_class2[:, 1], c='tab:green', alpha=0.65, label='class 2')\n",
        "ax[0].contourf(xx, yy, R, alpha=0.25, levels=2, colors=['tab:blue', 'tab:orange', 'tab:green'])\n",
        "ax[0].set_title('Decision Boundaries (Training Data)')\n",
        "ax[0].legend(loc='upper right')\n",
        "\n",
        "X_test3_class0 = X_test3[[np.array_equal(y_test3[i], [1, 0, 0]) for i in range(len(y_test3))]]\n",
        "X_test3_class1 = X_test3[[np.array_equal(y_test3[i], [0, 1, 0]) for i in range(len(y_test3))]]\n",
        "X_test3_class2 = X_test3[[np.array_equal(y_test3[i], [0, 0, 1]) for i in range(len(y_test3))]]\n",
        "ax[1].scatter(X_test3_class0[:, 0], X_test3_class0[:, 1], c='tab:blue', alpha=0.65, label='class 0')\n",
        "ax[1].scatter(X_test3_class1[:, 0], X_test3_class1[:, 1], c='tab:orange', alpha=0.65, label='class 1')\n",
        "ax[1].scatter(X_test3_class2[:, 0], X_test3_class2[:, 1], c='tab:green', alpha=0.65, label='class 2')\n",
        "ax[1].contourf(xx, yy, R, alpha=0.25, levels=2, colors=['tab:blue', 'tab:orange', 'tab:green'])\n",
        "ax[1].set_title('Decision Boundaries (Testing Data)')\n",
        "ax[1].legend(loc='upper right')\n",
        "\n",
        "plt.show()"
      ],
      "metadata": {
        "id": "5EMdj2B-3Q1x",
        "outputId": "3a64cf1c-3bf3-43f7-9481-cd7b7610bffe",
        "colab": {
          "base_uri": "https://localhost:8080/",
          "height": 386
        }
      },
      "execution_count": null,
      "outputs": [
        {
          "output_type": "display_data",
          "data": {
            "text/plain": [
              "<Figure size 1152x432 with 2 Axes>"
            ],
            "image/png": "[encoded data removed]"
          },
          "metadata": {
            "needs_background": "light"
          }
        }
      ]
    },
    {
      "cell_type": "markdown",
      "source": [
        "#### Metrics"
      ],
      "metadata": {
        "id": "ElON4oUhwE2a"
      }
    },
    {
      "cell_type": "markdown",
      "source": [
        "##### Accuracy, Precision, Recall, and F1 Score"
      ],
      "metadata": {
        "id": "_y72xpzgPt1k"
      }
    },
    {
      "cell_type": "code",
      "source": [
        "def precision_mult(y, y_pred):\n",
        "  scores = [precision(y[:, i], y_pred[:, i]) for i in range(len(y[0]))]\n",
        "  return np.mean(scores)\n",
        "\n",
        "def recall_mult(y, y_pred):\n",
        "  scores = [recall(y[:, i], y_pred[:, i]) for i in range(len(y[0]))]\n",
        "  return np.mean(scores)\n",
        "\n",
        "def f1_mult(y, y_pred):\n",
        "  scores = [f1(y[:, i], y_pred[:, i]) for i in range(len(y[0]))]\n",
        "  return np.mean(scores)\n",
        "\n",
        "y_pred3_onehot = one_hot_encode(y_pred3)\n",
        "y_test3_class = np.argmax(y_test3, axis=1)\n",
        "\n",
        "print('Classification Metrics (testing data):\\n' + '-'*38)\n",
        "print('accuracy = %.3f' % accuracy(y_test3_class, y_pred3))\n",
        "print('precsion = %.3f' % precision_mult(y_test3, y_pred3_onehot))\n",
        "print('recall = %.3f' % recall_mult(y_test3, y_pred3_onehot))\n",
        "print('f1 score = %.3f' % f1_mult(y_test3, y_pred3_onehot))"
      ],
      "metadata": {
        "colab": {
          "base_uri": "https://localhost:8080/"
        },
        "id": "lMB7iRLVwHL3",
        "outputId": "c07cbaab-1a9e-4c9b-9635-1c82ccb8037a"
      },
      "execution_count": null,
      "outputs": [
        {
          "output_type": "stream",
          "name": "stdout",
          "text": [
            "Classification Metrics (testing data):\n",
            "--------------------------------------\n",
            "accuracy = 0.883\n",
            "precsion = 0.889\n",
            "recall = 0.883\n",
            "f1 score = 0.883\n"
          ]
        }
      ]
    },
    {
      "cell_type": "markdown",
      "source": [
        "##### Confusion Matrix"
      ],
      "metadata": {
        "id": "sbbftEEVSUob"
      }
    },
    {
      "cell_type": "code",
      "source": [
        "def conf_mat(y, y_pred):\n",
        "  num_classes = len(np.unique(y))\n",
        "  cf_mat = np.zeros((num_classes, num_classes))\n",
        "\n",
        "  for y1, y2 in zip(y.flatten(), y_pred.flatten()):\n",
        "    cf_mat[y1, y2] += 1\n",
        "  \n",
        "  return cf_mat\n",
        "\n",
        "cf = conf_mat(y_test3_class, y_pred3)\n",
        "\n",
        "sns.heatmap(cf, annot=True)\n",
        "plt.title('Confusion Matrix')\n",
        "plt.ylabel('True Class')\n",
        "plt.xlabel('Predicted Class')\n",
        "plt.show()"
      ],
      "metadata": {
        "colab": {
          "base_uri": "https://localhost:8080/",
          "height": 295
        },
        "id": "ahs0ByU-4n8j",
        "outputId": "afecd8f4-24b4-4a26-e6a8-f02799277543"
      },
      "execution_count": null,
      "outputs": [
        {
          "output_type": "display_data",
          "data": {
            "text/plain": [
              "<Figure size 432x288 with 2 Axes>"
            ],
            "image/png": "[encoded data removed]"
          },
          "metadata": {
            "needs_background": "light"
          }
        }
      ]
    },
    {
      "cell_type": "markdown",
      "source": [
        "---\n",
        "### 2.2) One Vs. One\n",
        "---"
      ],
      "metadata": {
        "id": "XIlQYBOFSmuX"
      }
    },
    {
      "cell_type": "markdown",
      "source": [
        "#### Define One Vs. One Class"
      ],
      "metadata": {
        "id": "QbL1A-gfS0--"
      }
    },
    {
      "cell_type": "code",
      "source": [
        "class LogisticRegresionOVO():\n",
        "  def __init__(self, lr=0.01, iterations=1000):\n",
        "    self.lr = lr\n",
        "    self.iterations = iterations\n",
        "\n",
        "  def fit(self, X, y):\n",
        "    \"\"\"y is assumed to be a list of one-hot vectors\"\"\"\n",
        "    self.n = len(y[0])\n",
        "    self.num_models = self.n*(self.n-1)//2\n",
        "    self.logreg_models = [LogisticRegression(self.lr, self.iterations) for i in range(self.num_models)]\n",
        "\n",
        "    self.class_list = [[]]*self.num_models\n",
        "    i = 0\n",
        "    j = 1\n",
        "\n",
        "    while i<self.num_models:\n",
        "      y_pair = y[:, [i%self.n, j%self.n]]\n",
        "      X_ovo_split = X[~np.all(y_pair==0, axis=1)]\n",
        "      y_ovo_split = y_pair[~np.all(y_pair==0, axis=1)]\n",
        "\n",
        "      self.logreg_models[i].fit(X_ovo_split, y_ovo_split[:, 0].reshape(-1, 1))\n",
        "      self.class_list[i] = [i%self.n+1, j%self.n+1]\n",
        "      \n",
        "      i+=1\n",
        "      j+=1\n",
        "      if i%self.n==0:\n",
        "          j+=1\n",
        "\n",
        "    self.class_list = np.array(self.class_list).flatten()\n",
        "\n",
        "  def predict(self, X):\n",
        "    ### TODO: This is not correct....\n",
        "    preds = np.column_stack([np.round(m.predict_proba(X)) for m in self.logreg_models])\n",
        "\n",
        "    class_votes = np.ma.masked_equal(\n",
        "          preds*self.class_list, 0\n",
        "        ).compressed().reshape(len(preds), self.n) - 1\n",
        "\n",
        "    # print(preds)\n",
        "    # print(\n",
        "    #     np.ma.masked_equal(\n",
        "    #       preds*self.class_list, 0\n",
        "    #     )\n",
        "    # )\n",
        "\n",
        "    class_preds = np.array([np.bincount(xi.astype(int)).argmax() for xi in class_votes])\n",
        "    return class_preds\n",
        "\n",
        "  def __str__(self):\n",
        "    model_str = ''\n",
        "    \n",
        "    for i, m in enumerate(self.logreg_models):\n",
        "      model_str += 'model ' + str(i+1) + ': ' + str(m) + '\\n'\n",
        "\n",
        "    return model_str"
      ],
      "metadata": {
        "id": "soCTMU86SywI"
      },
      "execution_count": null,
      "outputs": []
    },
    {
      "cell_type": "markdown",
      "source": [
        "#### Fit a One Vs. One Logistic Regression Model"
      ],
      "metadata": {
        "id": "IuBHKy5fdBvW"
      }
    },
    {
      "cell_type": "code",
      "source": [
        "logreg_ovo = LogisticRegresionOVO()\n",
        "logreg_ovo.fit(X_train3, y_train3)\n",
        "\n",
        "print(logreg_ovo)"
      ],
      "metadata": {
        "id": "qEHi0ehLdOn4",
        "outputId": "02e2a194-37e5-429b-f6e8-32141127b83f",
        "colab": {
          "base_uri": "https://localhost:8080/"
        }
      },
      "execution_count": null,
      "outputs": [
        {
          "output_type": "stream",
          "name": "stdout",
          "text": [
            "model 1: y = 1 / [1 + e^{-(0.8240926435041074 + -0.8814337057358083x_1 + -0.757656976186742x_2)}]\n",
            "model 2: y = 1 / [1 + e^{-(6.671510807989451 + 2.907683065358286x_1 + -0.6545112818490738x_2)}]\n",
            "model 3: y = 1 / [1 + e^{-(-5.656456772837787 + -0.9679245796891769x_1 + 1.6432403603203534x_2)}]\n",
            "\n"
          ]
        }
      ]
    },
    {
      "cell_type": "markdown",
      "source": [
        "#### Use Fit Model to Make Predictions on the Testing Data"
      ],
      "metadata": {
        "id": "DuwWVgOTept3"
      }
    },
    {
      "cell_type": "code",
      "source": [
        "y_pred4 = logreg_ovo.predict(X_test3)\n",
        "print('Actual Classes:', np.argmax(y_test3, axis=1))\n",
        "print('Predicted Classes:', y_pred4)"
      ],
      "metadata": {
        "id": "Ckc-R3rGeul8",
        "outputId": "69c280a0-3d37-486a-ab96-70e9d5111d7f",
        "colab": {
          "base_uri": "https://localhost:8080/"
        }
      },
      "execution_count": null,
      "outputs": [
        {
          "output_type": "stream",
          "name": "stdout",
          "text": [
            "Actual Classes: [0 0 0 0 0 0 0 0 0 0 0 0 0 0 0 0 0 0 0 0 1 1 1 1 1 1 1 1 1 1 1 1 1 1 1 1 1\n",
            " 1 1 1 2 2 2 2 2 2 2 2 2 2 2 2 2 2 2 2 2 2 2 2]\n",
            "Predicted Classes: [0 0 0 0 0 0 0 0 0 0 0 0 0 2 1 0 0 0 0 2 1 1 1 1 1 1 1 1 1 1 1 1 1 1 1 0 1\n",
            " 1 1 1 2 2 2 2 2 2 2 2 2 2 2 2 2 2 1 2 2 2 0 2]\n"
          ]
        }
      ]
    },
    {
      "cell_type": "markdown",
      "source": [
        "#### Model Visualization"
      ],
      "metadata": {
        "id": "oF2kRm5ve4AA"
      }
    },
    {
      "cell_type": "code",
      "source": [
        "xx, yy = np.mgrid[-11:7:0.01, -6:10:0.01]\n",
        "D = np.c_[xx.ravel(), yy.ravel()]\n",
        "R = logreg_ovo.predict(D).reshape(xx.shape)\n",
        "\n",
        "\n",
        "# Plot the decision boundries of the one vs rest model for the training and testing data.\n",
        "fig, ax = plt.subplots(1, 2, figsize=(16, 6))\n",
        "plt.suptitle('OVR Logistic Regression Decision Boundries', fontsize=16)\n",
        "\n",
        "X_train3_class0 = X_train3[[np.array_equal(y_train3[i], [1, 0, 0]) for i in range(len(y_train3))]]\n",
        "X_train3_class1 = X_train3[[np.array_equal(y_train3[i], [0, 1, 0]) for i in range(len(y_train3))]]\n",
        "X_train3_class2 = X_train3[[np.array_equal(y_train3[i], [0, 0, 1]) for i in range(len(y_train3))]]\n",
        "ax[0].scatter(X_train3_class0[:, 0], X_train3_class0[:, 1], c='tab:blue', alpha=0.65, label='class 0')\n",
        "ax[0].scatter(X_train3_class1[:, 0], X_train3_class1[:, 1], c='tab:orange', alpha=0.65, label='class 1')\n",
        "ax[0].scatter(X_train3_class2[:, 0], X_train3_class2[:, 1], c='tab:green', alpha=0.65, label='class 2')\n",
        "ax[0].contourf(xx, yy, R, alpha=0.25, levels=2, colors=['tab:blue', 'tab:orange', 'tab:green'])\n",
        "ax[0].set_title('Decision Boundaries (Training Data)')\n",
        "ax[0].legend(loc='upper right')\n",
        "\n",
        "X_test3_class0 = X_test3[[np.array_equal(y_test3[i], [1, 0, 0]) for i in range(len(y_test3))]]\n",
        "X_test3_class1 = X_test3[[np.array_equal(y_test3[i], [0, 1, 0]) for i in range(len(y_test3))]]\n",
        "X_test3_class2 = X_test3[[np.array_equal(y_test3[i], [0, 0, 1]) for i in range(len(y_test3))]]\n",
        "ax[1].scatter(X_test3_class0[:, 0], X_test3_class0[:, 1], c='tab:blue', alpha=0.65, label='class 0')\n",
        "ax[1].scatter(X_test3_class1[:, 0], X_test3_class1[:, 1], c='tab:orange', alpha=0.65, label='class 1')\n",
        "ax[1].scatter(X_test3_class2[:, 0], X_test3_class2[:, 1], c='tab:green', alpha=0.65, label='class 2')\n",
        "ax[1].contourf(xx, yy, R, alpha=0.25, levels=2, colors=['tab:blue', 'tab:orange', 'tab:green'])\n",
        "ax[1].set_title('Decision Boundaries (Testing Data)')\n",
        "ax[1].legend(loc='upper right')\n",
        "\n",
        "plt.show()"
      ],
      "metadata": {
        "id": "NNxtT9sZe5wu",
        "colab": {
          "base_uri": "https://localhost:8080/",
          "height": 386
        },
        "outputId": "fcb8fe94-c530-472c-d32c-6b2006fe0053"
      },
      "execution_count": null,
      "outputs": [
        {
          "output_type": "display_data",
          "data": {
            "text/plain": [
              "<Figure size 1152x432 with 2 Axes>"
            ],
            "image/png": "[encoded data removed]"
          },
          "metadata": {
            "needs_background": "light"
          }
        }
      ]
    },
    {
      "cell_type": "markdown",
      "source": [
        "#### Metrics"
      ],
      "metadata": {
        "id": "9Ktwbzgq2awv"
      }
    },
    {
      "cell_type": "code",
      "source": [
        "y_pred4_onehot = one_hot_encode(y_pred3)\n",
        "y_test4_class = np.argmax(y_test3, axis=1)\n",
        "\n",
        "print('Classification Metrics (testing data):\\n' + '-'*38)\n",
        "print('accuracy = %.3f' % accuracy(y_test3_class, y_pred4))\n",
        "print('precsion = %.3f' % precision_mult(y_test3, y_pred4_onehot))\n",
        "print('recall = %.3f' % recall_mult(y_test3, y_pred4_onehot))\n",
        "print('f1 score = %.3f' % f1_mult(y_test3, y_pred4_onehot))"
      ],
      "metadata": {
        "colab": {
          "base_uri": "https://localhost:8080/"
        },
        "id": "5JfLBOJR3XOb",
        "outputId": "250a5ab1-c19a-4387-bdf3-89de6e716448"
      },
      "execution_count": null,
      "outputs": [
        {
          "output_type": "stream",
          "name": "stdout",
          "text": [
            "Classification Metrics (testing data):\n",
            "--------------------------------------\n",
            "accuracy = 0.900\n",
            "precsion = 0.889\n",
            "recall = 0.883\n",
            "f1 score = 0.883\n"
          ]
        }
      ]
    },
    {
      "cell_type": "markdown",
      "source": [
        "##### Accuracy, Precision, Recall, and F1 Score"
      ],
      "metadata": {
        "id": "bb-rY1i02ee7"
      }
    },
    {
      "cell_type": "code",
      "source": [],
      "metadata": {
        "id": "UZzS4WOk3XoW"
      },
      "execution_count": null,
      "outputs": []
    },
    {
      "cell_type": "markdown",
      "source": [
        "##### Confusion Matrix"
      ],
      "metadata": {
        "id": "y6jm3vF82kYk"
      }
    },
    {
      "cell_type": "code",
      "source": [
        "cf = conf_mat(y_test4_class, y_pred3)\n",
        "\n",
        "sns.heatmap(cf, annot=True)\n",
        "plt.title('Confusion Matrix')\n",
        "plt.ylabel('True Class')\n",
        "plt.xlabel('Predicted Class')\n",
        "plt.show()"
      ],
      "metadata": {
        "colab": {
          "base_uri": "https://localhost:8080/",
          "height": 295
        },
        "id": "CxPJh3qo3l9Z",
        "outputId": "bb60726b-bcc0-422d-94db-cabe2c92dc6a"
      },
      "execution_count": null,
      "outputs": [
        {
          "output_type": "display_data",
          "data": {
            "text/plain": [
              "<Figure size 432x288 with 2 Axes>"
            ],
            "image/png": "[encoded data removed]"
          },
          "metadata": {
            "needs_background": "light"
          }
        }
      ]
    },
    {
      "cell_type": "markdown",
      "source": [
        "---\n",
        "\n",
        "### 2.3) Multinomial/Softmax Regression\n",
        "\n",
        "---"
      ],
      "metadata": {
        "id": "iJ3s50hng1X0"
      }
    },
    {
      "cell_type": "markdown",
      "source": [
        "#### Define the Multinomial/Softmax Regression Model"
      ],
      "metadata": {
        "id": "hm11wV4IJtVL"
      }
    },
    {
      "cell_type": "code",
      "source": [
        "class SoftmaxRegression():\n",
        "  def __init__(self, lr=0.05, iterations=1000):\n",
        "    self.lr = lr\n",
        "    self.iterations = iterations\n",
        "\n",
        "  def softmax(self, X):\n",
        "    \"\"\"softmax function\"\"\"\n",
        "    exp = np.exp(X@self.w)\n",
        "    sigma = exp / (np.sum(exp, axis=1, keepdims=True)+1)\n",
        "    return np.column_stack((sigma, 1-np.sum(sigma, axis=1)))\n",
        "  \n",
        "  def ce_grad(self, X, y):\n",
        "    \"\"\"cross-entropy gradient\"\"\"\n",
        "    return X.T@(self.softmax(X)-y)[:, :-1]\n",
        "\n",
        "  def grad_descent(self, V, y):\n",
        "    \"\"\"Gradient Descent\"\"\"\n",
        "    # initialize weights to random value\n",
        "    self.num_classes = len(y[0])\n",
        "    self.w = np.random.normal(0, 0.2, size=(len(V[0]), self.num_classes-1))\n",
        "    \n",
        "    for i in range(self.iterations):\n",
        "      self.w = self.w - self.lr*self.ce_grad(V, y)\n",
        "\n",
        "  def fit(self, X, y):\n",
        "    \"\"\"y is assumed to be a list of one-hot vectors\"\"\"\n",
        "    V = np.column_stack((np.ones(len(X)), X))\n",
        "    self.grad_descent(V, y)\n",
        "\n",
        "  def predict(self, X):\n",
        "    V = np.column_stack((np.ones(len(X)), X))\n",
        "    return np.argmax(self.softmax(V), axis=1)\n",
        "\n",
        "  def predict_proba(self, X):\n",
        "    V = np.column_stack((np.ones(len(X)), X))\n",
        "    return self.softmax(V)"
      ],
      "metadata": {
        "id": "5ZyW0wOoNZHX"
      },
      "execution_count": null,
      "outputs": []
    },
    {
      "cell_type": "markdown",
      "source": [
        "#### Fit a Softmax Regression Model to the Training Data"
      ],
      "metadata": {
        "id": "Wg0EZrd7L2w1"
      }
    },
    {
      "cell_type": "code",
      "source": [
        "softreg = SoftmaxRegression(lr=0.005)\n",
        "softreg.fit(X_train3, y_train3)\n",
        "\n",
        "print('Model parameters:\\n', np.round(softreg.w, 3))"
      ],
      "metadata": {
        "id": "dx12FGRQJvxp",
        "colab": {
          "base_uri": "https://localhost:8080/"
        },
        "outputId": "f6edbcc4-7011-4eb8-92b5-368b83fd1a6c"
      },
      "execution_count": null,
      "outputs": [
        {
          "output_type": "stream",
          "name": "stdout",
          "text": [
            "Model parameters:\n",
            " [[ 4.318  3.403]\n",
            " [ 0.84   1.844]\n",
            " [-1.211 -0.291]]\n"
          ]
        }
      ]
    },
    {
      "cell_type": "markdown",
      "source": [
        "#### Use Fit Model to Make Predictions on the Testing Data"
      ],
      "metadata": {
        "id": "icJUKseJMJ1y"
      }
    },
    {
      "cell_type": "code",
      "source": [
        "y_pred5 = softreg.predict(X_test3)\n",
        "\n",
        "print('Actual Classes:', np.argmax(y_test3, axis=1))\n",
        "print('Predicted Classes:', y_pred5)"
      ],
      "metadata": {
        "id": "HVE7NhtxMJZO",
        "colab": {
          "base_uri": "https://localhost:8080/"
        },
        "outputId": "885d10ae-7706-4a8c-d712-2600ee531f67"
      },
      "execution_count": null,
      "outputs": [
        {
          "output_type": "stream",
          "name": "stdout",
          "text": [
            "Actual Classes: [0 0 0 0 0 0 0 0 0 0 0 0 0 0 0 0 0 0 0 0 1 1 1 1 1 1 1 1 1 1 1 1 1 1 1 1 1\n",
            " 1 1 1 2 2 2 2 2 2 2 2 2 2 2 2 2 2 2 2 2 2 2 2]\n",
            "Predicted Classes: [0 0 0 0 0 0 0 0 0 0 0 0 0 2 1 0 0 0 0 2 1 1 1 1 1 1 1 1 1 1 1 1 1 1 1 0 1\n",
            " 1 1 1 2 2 2 2 2 2 2 2 2 2 2 2 2 2 1 2 2 2 2 2]\n"
          ]
        }
      ]
    },
    {
      "cell_type": "markdown",
      "source": [
        "#### Model Visualization"
      ],
      "metadata": {
        "id": "pIi761hQM8JL"
      }
    },
    {
      "cell_type": "code",
      "source": [
        "xx, yy = np.mgrid[-11:7:0.01, -6:10:0.01]\n",
        "D = np.c_[xx.ravel(), yy.ravel()]\n",
        "R = softreg.predict(D).reshape(xx.shape)\n",
        "\n",
        "# Plot descision boundries for the training and testing datasets.\n",
        "fig, ax = plt.subplots(1, 2, figsize=(15, 5))\n",
        "plt.suptitle('Softmax Regression Decision Boundries', fontsize=16)\n",
        "\n",
        "X_train3_class0 = X_train3[[np.array_equal(y_train3[i], [1, 0, 0]) for i in range(len(y_train3))]]\n",
        "X_train3_class1 = X_train3[[np.array_equal(y_train3[i], [0, 1, 0]) for i in range(len(y_train3))]]\n",
        "X_train3_class2 = X_train3[[np.array_equal(y_train3[i], [0, 0, 1]) for i in range(len(y_train3))]]\n",
        "ax[0].scatter(X_train3_class0[:, 0], X_train3_class0[:, 1], c='tab:blue', alpha=0.65, label='class 0')\n",
        "ax[0].scatter(X_train3_class1[:, 0], X_train3_class1[:, 1], c='tab:orange', alpha=0.65, label='class 1')\n",
        "ax[0].scatter(X_train3_class2[:, 0], X_train3_class2[:, 1], c='tab:green', alpha=0.65, label='class 2')\n",
        "ax[0].contourf(xx, yy, R, alpha=0.25, levels=2, colors=['tab:blue', 'tab:orange', 'tab:green'])\n",
        "ax[0].set_title('Decision Boundaries (Training Data)')\n",
        "ax[0].legend(loc='upper right')\n",
        "\n",
        "X_test3_class0 = X_test3[[np.array_equal(y_test3[i], [1, 0, 0]) for i in range(len(y_test3))]]\n",
        "X_test3_class1 = X_test3[[np.array_equal(y_test3[i], [0, 1, 0]) for i in range(len(y_test3))]]\n",
        "X_test3_class2 = X_test3[[np.array_equal(y_test3[i], [0, 0, 1]) for i in range(len(y_test3))]]\n",
        "ax[1].scatter(X_test3_class0[:, 0], X_test3_class0[:, 1], c='tab:blue', alpha=0.65, label='class 0')\n",
        "ax[1].scatter(X_test3_class1[:, 0], X_test3_class1[:, 1], c='tab:orange', alpha=0.65, label='class 1')\n",
        "ax[1].scatter(X_test3_class2[:, 0], X_test3_class2[:, 1], c='tab:green', alpha=0.65, label='class 2')\n",
        "ax[1].contourf(xx, yy, R, alpha=0.25, levels=2, colors=['tab:blue', 'tab:orange', 'tab:green'])\n",
        "ax[1].set_title('Decision Boundaries (Testing Data)')\n",
        "ax[1].legend(loc='upper right')\n",
        "\n",
        "plt.show()"
      ],
      "metadata": {
        "id": "O_rvZ3cCM-yB",
        "colab": {
          "base_uri": "https://localhost:8080/",
          "height": 350
        },
        "outputId": "523d96f0-569b-4c8c-c9e3-fc84cbed5a27"
      },
      "execution_count": null,
      "outputs": [
        {
          "output_type": "display_data",
          "data": {
            "text/plain": [
              "<Figure size 1080x360 with 2 Axes>"
            ],
            "image/png": "[encoded data removed]"
          },
          "metadata": {
            "needs_background": "light"
          }
        }
      ]
    },
    {
      "cell_type": "markdown",
      "source": [
        "#### Metrics"
      ],
      "metadata": {
        "id": "GUXV7cP7NIwt"
      }
    },
    {
      "cell_type": "markdown",
      "source": [
        "##### Accuracy, Precision, Recall, and F1 Score"
      ],
      "metadata": {
        "id": "H_Dsv-GhNoEe"
      }
    },
    {
      "cell_type": "code",
      "source": [
        "y_pred5_onehot = one_hot_encode(y_pred5)\n",
        "\n",
        "print('Classification Metrics (testing data):\\n' + '-'*38)\n",
        "print('accuracy = %.3f' % accuracy(y_test3_class, y_pred5))\n",
        "print('precsion = %.3f' % precision_mult(y_test3, y_pred5_onehot))\n",
        "print('recall = %.3f' % recall_mult(y_test3, y_pred5_onehot))\n",
        "print('f1 score = %.3f' % f1_mult(y_test3, y_pred5_onehot))"
      ],
      "metadata": {
        "id": "Ebd_vGorNIWQ",
        "colab": {
          "base_uri": "https://localhost:8080/"
        },
        "outputId": "108466b6-e383-4915-add0-33bc6ce585a9"
      },
      "execution_count": null,
      "outputs": [
        {
          "output_type": "stream",
          "name": "stdout",
          "text": [
            "Classification Metrics (testing data):\n",
            "--------------------------------------\n",
            "accuracy = 0.917\n",
            "precsion = 0.918\n",
            "recall = 0.917\n",
            "f1 score = 0.916\n"
          ]
        }
      ]
    },
    {
      "cell_type": "markdown",
      "source": [
        "##### Confusion Matrix"
      ],
      "metadata": {
        "id": "KxfjbuVVNuT6"
      }
    },
    {
      "cell_type": "code",
      "source": [
        "cf = conf_mat(y_test3_class, y_pred5)\n",
        "\n",
        "sns.heatmap(cf, annot=True)\n",
        "plt.title('Confusion Matrix')\n",
        "plt.ylabel('True Class')\n",
        "plt.xlabel('Predicted Class')\n",
        "plt.show()"
      ],
      "metadata": {
        "id": "Y6a4ZPdZNxYH",
        "colab": {
          "base_uri": "https://localhost:8080/",
          "height": 295
        },
        "outputId": "58482009-c243-4d41-ca61-91f2ce698215"
      },
      "execution_count": null,
      "outputs": [
        {
          "output_type": "display_data",
          "data": {
            "text/plain": [
              "<Figure size 432x288 with 2 Axes>"
            ],
            "image/png": "[encoded data removed]"
          },
          "metadata": {
            "needs_background": "light"
          }
        }
      ]
    },
    {
      "cell_type": "markdown",
      "source": [
        "---\n",
        "\n",
        "## Conclusions\n",
        "\n",
        "---\n",
        "\n",
        "1. Logistic Regression is technically a regression model, but it is commonly used for classification problems.\n",
        " - Think of the regression model as being fit to the probabilities that a given input belongs to some class.\n",
        "\n",
        "2. Since Logistic Regression is technically a regression model, fitting the model comes down to minimizing an error surface.\n",
        " -  The error surface for logistic regression is given by the binary cross entropy loss function (as opposed to the sum of square errors for linear regression). i.e. set derivatives to zero.\n",
        " - Unlike with linear regression, we cannot solve the minimization problem analytically. Instead we turn to iterative algorithms such as **gradient descent**. \n",
        "\n",
        "3. Vanila Logistic Regression is used to solve binary classification problems.\n",
        "\n",
        "4. There are multiple strategies that allow logistic regression models to classify data with more than two classes.\n",
        " - one-vs-rest: Fit one logistic regression model per class which seperates that **one** class from the **rest** of the classes.\n",
        " - one-vs-one: Fit one class to seperate each pair of classes. That is, fit models to seperate **one** class from **one** other class and do this for each pair of two distinct classes.\n",
        " - multinomial/sofmax: Fit a single generalized logistic regression model (a softmax regression model) which supports multiple classes and outputs a vector of probabilities for each class."
      ],
      "metadata": {
        "id": "EEKKG3KcSdw9"
      }
    }
  ]
}
